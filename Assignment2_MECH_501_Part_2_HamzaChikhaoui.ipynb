{
  "nbformat": 4,
  "nbformat_minor": 0,
  "metadata": {
    "colab": {
      "provenance": [],
      "mount_file_id": "1rDQItYuwLRu0_EiT0HjLeqzn4R5UCXtt",
      "authorship_tag": "ABX9TyMGD7jHsPKCPAyV486S1ElZ",
      "include_colab_link": true
    },
    "kernelspec": {
      "name": "python3",
      "display_name": "Python 3"
    },
    "language_info": {
      "name": "python"
    },
    "widgets": {
      "application/vnd.jupyter.widget-state+json": {
        "2ce68723647843c99ae84e685a10c8d8": {
          "model_module": "@jupyter-widgets/controls",
          "model_name": "HBoxModel",
          "model_module_version": "1.5.0",
          "state": {
            "_dom_classes": [],
            "_model_module": "@jupyter-widgets/controls",
            "_model_module_version": "1.5.0",
            "_model_name": "HBoxModel",
            "_view_count": null,
            "_view_module": "@jupyter-widgets/controls",
            "_view_module_version": "1.5.0",
            "_view_name": "HBoxView",
            "box_style": "",
            "children": [
              "IPY_MODEL_705ac0dcccef424b8879c0bdcad30389",
              "IPY_MODEL_0f1e666e551b4feabdbbd740494e3a2e",
              "IPY_MODEL_2bb636f2ce2f44f4aa898345d12004ad"
            ],
            "layout": "IPY_MODEL_21db723de26c434088541db6cc28bd59"
          }
        },
        "705ac0dcccef424b8879c0bdcad30389": {
          "model_module": "@jupyter-widgets/controls",
          "model_name": "HTMLModel",
          "model_module_version": "1.5.0",
          "state": {
            "_dom_classes": [],
            "_model_module": "@jupyter-widgets/controls",
            "_model_module_version": "1.5.0",
            "_model_name": "HTMLModel",
            "_view_count": null,
            "_view_module": "@jupyter-widgets/controls",
            "_view_module_version": "1.5.0",
            "_view_name": "HTMLView",
            "description": "",
            "description_tooltip": null,
            "layout": "IPY_MODEL_dee89471738f4ce3b28bf124ef61c81a",
            "placeholder": "​",
            "style": "IPY_MODEL_6b0bf497d65a46bfa2606b2839ef5dc7",
            "value": "Extracting image features:  50%"
          }
        },
        "0f1e666e551b4feabdbbd740494e3a2e": {
          "model_module": "@jupyter-widgets/controls",
          "model_name": "FloatProgressModel",
          "model_module_version": "1.5.0",
          "state": {
            "_dom_classes": [],
            "_model_module": "@jupyter-widgets/controls",
            "_model_module_version": "1.5.0",
            "_model_name": "FloatProgressModel",
            "_view_count": null,
            "_view_module": "@jupyter-widgets/controls",
            "_view_module_version": "1.5.0",
            "_view_name": "ProgressView",
            "bar_style": "",
            "description": "",
            "description_tooltip": null,
            "layout": "IPY_MODEL_9aa9e9e30b7e43a89600ab77c6ae033c",
            "max": 2,
            "min": 0,
            "orientation": "horizontal",
            "style": "IPY_MODEL_f819aaf46e3640a99a751935ecf0a6c0",
            "value": 2
          }
        },
        "2bb636f2ce2f44f4aa898345d12004ad": {
          "model_module": "@jupyter-widgets/controls",
          "model_name": "HTMLModel",
          "model_module_version": "1.5.0",
          "state": {
            "_dom_classes": [],
            "_model_module": "@jupyter-widgets/controls",
            "_model_module_version": "1.5.0",
            "_model_name": "HTMLModel",
            "_view_count": null,
            "_view_module": "@jupyter-widgets/controls",
            "_view_module_version": "1.5.0",
            "_view_name": "HTMLView",
            "description": "",
            "description_tooltip": null,
            "layout": "IPY_MODEL_950a1193cd064197b9b41e612ea20d31",
            "placeholder": "​",
            "style": "IPY_MODEL_f5bf40f7d2894914ac02819c9f9537e5",
            "value": " 1/2 [00:00&lt;00:00,  1.79it/s]"
          }
        },
        "21db723de26c434088541db6cc28bd59": {
          "model_module": "@jupyter-widgets/base",
          "model_name": "LayoutModel",
          "model_module_version": "1.2.0",
          "state": {
            "_model_module": "@jupyter-widgets/base",
            "_model_module_version": "1.2.0",
            "_model_name": "LayoutModel",
            "_view_count": null,
            "_view_module": "@jupyter-widgets/base",
            "_view_module_version": "1.2.0",
            "_view_name": "LayoutView",
            "align_content": null,
            "align_items": null,
            "align_self": null,
            "border": null,
            "bottom": null,
            "display": null,
            "flex": null,
            "flex_flow": null,
            "grid_area": null,
            "grid_auto_columns": null,
            "grid_auto_flow": null,
            "grid_auto_rows": null,
            "grid_column": null,
            "grid_gap": null,
            "grid_row": null,
            "grid_template_areas": null,
            "grid_template_columns": null,
            "grid_template_rows": null,
            "height": null,
            "justify_content": null,
            "justify_items": null,
            "left": null,
            "margin": null,
            "max_height": null,
            "max_width": null,
            "min_height": null,
            "min_width": null,
            "object_fit": null,
            "object_position": null,
            "order": null,
            "overflow": null,
            "overflow_x": null,
            "overflow_y": null,
            "padding": null,
            "right": null,
            "top": null,
            "visibility": "hidden",
            "width": null
          }
        },
        "dee89471738f4ce3b28bf124ef61c81a": {
          "model_module": "@jupyter-widgets/base",
          "model_name": "LayoutModel",
          "model_module_version": "1.2.0",
          "state": {
            "_model_module": "@jupyter-widgets/base",
            "_model_module_version": "1.2.0",
            "_model_name": "LayoutModel",
            "_view_count": null,
            "_view_module": "@jupyter-widgets/base",
            "_view_module_version": "1.2.0",
            "_view_name": "LayoutView",
            "align_content": null,
            "align_items": null,
            "align_self": null,
            "border": null,
            "bottom": null,
            "display": null,
            "flex": null,
            "flex_flow": null,
            "grid_area": null,
            "grid_auto_columns": null,
            "grid_auto_flow": null,
            "grid_auto_rows": null,
            "grid_column": null,
            "grid_gap": null,
            "grid_row": null,
            "grid_template_areas": null,
            "grid_template_columns": null,
            "grid_template_rows": null,
            "height": null,
            "justify_content": null,
            "justify_items": null,
            "left": null,
            "margin": null,
            "max_height": null,
            "max_width": null,
            "min_height": null,
            "min_width": null,
            "object_fit": null,
            "object_position": null,
            "order": null,
            "overflow": null,
            "overflow_x": null,
            "overflow_y": null,
            "padding": null,
            "right": null,
            "top": null,
            "visibility": null,
            "width": null
          }
        },
        "6b0bf497d65a46bfa2606b2839ef5dc7": {
          "model_module": "@jupyter-widgets/controls",
          "model_name": "DescriptionStyleModel",
          "model_module_version": "1.5.0",
          "state": {
            "_model_module": "@jupyter-widgets/controls",
            "_model_module_version": "1.5.0",
            "_model_name": "DescriptionStyleModel",
            "_view_count": null,
            "_view_module": "@jupyter-widgets/base",
            "_view_module_version": "1.2.0",
            "_view_name": "StyleView",
            "description_width": ""
          }
        },
        "9aa9e9e30b7e43a89600ab77c6ae033c": {
          "model_module": "@jupyter-widgets/base",
          "model_name": "LayoutModel",
          "model_module_version": "1.2.0",
          "state": {
            "_model_module": "@jupyter-widgets/base",
            "_model_module_version": "1.2.0",
            "_model_name": "LayoutModel",
            "_view_count": null,
            "_view_module": "@jupyter-widgets/base",
            "_view_module_version": "1.2.0",
            "_view_name": "LayoutView",
            "align_content": null,
            "align_items": null,
            "align_self": null,
            "border": null,
            "bottom": null,
            "display": null,
            "flex": null,
            "flex_flow": null,
            "grid_area": null,
            "grid_auto_columns": null,
            "grid_auto_flow": null,
            "grid_auto_rows": null,
            "grid_column": null,
            "grid_gap": null,
            "grid_row": null,
            "grid_template_areas": null,
            "grid_template_columns": null,
            "grid_template_rows": null,
            "height": null,
            "justify_content": null,
            "justify_items": null,
            "left": null,
            "margin": null,
            "max_height": null,
            "max_width": null,
            "min_height": null,
            "min_width": null,
            "object_fit": null,
            "object_position": null,
            "order": null,
            "overflow": null,
            "overflow_x": null,
            "overflow_y": null,
            "padding": null,
            "right": null,
            "top": null,
            "visibility": null,
            "width": null
          }
        },
        "f819aaf46e3640a99a751935ecf0a6c0": {
          "model_module": "@jupyter-widgets/controls",
          "model_name": "ProgressStyleModel",
          "model_module_version": "1.5.0",
          "state": {
            "_model_module": "@jupyter-widgets/controls",
            "_model_module_version": "1.5.0",
            "_model_name": "ProgressStyleModel",
            "_view_count": null,
            "_view_module": "@jupyter-widgets/base",
            "_view_module_version": "1.2.0",
            "_view_name": "StyleView",
            "bar_color": null,
            "description_width": ""
          }
        },
        "950a1193cd064197b9b41e612ea20d31": {
          "model_module": "@jupyter-widgets/base",
          "model_name": "LayoutModel",
          "model_module_version": "1.2.0",
          "state": {
            "_model_module": "@jupyter-widgets/base",
            "_model_module_version": "1.2.0",
            "_model_name": "LayoutModel",
            "_view_count": null,
            "_view_module": "@jupyter-widgets/base",
            "_view_module_version": "1.2.0",
            "_view_name": "LayoutView",
            "align_content": null,
            "align_items": null,
            "align_self": null,
            "border": null,
            "bottom": null,
            "display": null,
            "flex": null,
            "flex_flow": null,
            "grid_area": null,
            "grid_auto_columns": null,
            "grid_auto_flow": null,
            "grid_auto_rows": null,
            "grid_column": null,
            "grid_gap": null,
            "grid_row": null,
            "grid_template_areas": null,
            "grid_template_columns": null,
            "grid_template_rows": null,
            "height": null,
            "justify_content": null,
            "justify_items": null,
            "left": null,
            "margin": null,
            "max_height": null,
            "max_width": null,
            "min_height": null,
            "min_width": null,
            "object_fit": null,
            "object_position": null,
            "order": null,
            "overflow": null,
            "overflow_x": null,
            "overflow_y": null,
            "padding": null,
            "right": null,
            "top": null,
            "visibility": null,
            "width": null
          }
        },
        "f5bf40f7d2894914ac02819c9f9537e5": {
          "model_module": "@jupyter-widgets/controls",
          "model_name": "DescriptionStyleModel",
          "model_module_version": "1.5.0",
          "state": {
            "_model_module": "@jupyter-widgets/controls",
            "_model_module_version": "1.5.0",
            "_model_name": "DescriptionStyleModel",
            "_view_count": null,
            "_view_module": "@jupyter-widgets/base",
            "_view_module_version": "1.2.0",
            "_view_name": "StyleView",
            "description_width": ""
          }
        },
        "a646ae1ed1f9409fa6d45e11cc9e3e51": {
          "model_module": "@jupyter-widgets/controls",
          "model_name": "HBoxModel",
          "model_module_version": "1.5.0",
          "state": {
            "_dom_classes": [],
            "_model_module": "@jupyter-widgets/controls",
            "_model_module_version": "1.5.0",
            "_model_name": "HBoxModel",
            "_view_count": null,
            "_view_module": "@jupyter-widgets/controls",
            "_view_module_version": "1.5.0",
            "_view_name": "HBoxView",
            "box_style": "",
            "children": [
              "IPY_MODEL_09ba8d7ee85c4e50bd2572161257452b",
              "IPY_MODEL_ca21c11bbceb4fbe8121c154e5d1aa03",
              "IPY_MODEL_3b31bd0713724bdd9bfe6f8c99c7d766"
            ],
            "layout": "IPY_MODEL_def48191cd0a4907ae84467fa1c9a3d4"
          }
        },
        "09ba8d7ee85c4e50bd2572161257452b": {
          "model_module": "@jupyter-widgets/controls",
          "model_name": "HTMLModel",
          "model_module_version": "1.5.0",
          "state": {
            "_dom_classes": [],
            "_model_module": "@jupyter-widgets/controls",
            "_model_module_version": "1.5.0",
            "_model_name": "HTMLModel",
            "_view_count": null,
            "_view_module": "@jupyter-widgets/controls",
            "_view_module_version": "1.5.0",
            "_view_name": "HTMLView",
            "description": "",
            "description_tooltip": null,
            "layout": "IPY_MODEL_59a671373b0943a6bdbd986726fe8d2f",
            "placeholder": "​",
            "style": "IPY_MODEL_6cd0cbad7d134cd19802ad181d75915b",
            "value": "Evaluating prototype classification:   0%"
          }
        },
        "ca21c11bbceb4fbe8121c154e5d1aa03": {
          "model_module": "@jupyter-widgets/controls",
          "model_name": "FloatProgressModel",
          "model_module_version": "1.5.0",
          "state": {
            "_dom_classes": [],
            "_model_module": "@jupyter-widgets/controls",
            "_model_module_version": "1.5.0",
            "_model_name": "FloatProgressModel",
            "_view_count": null,
            "_view_module": "@jupyter-widgets/controls",
            "_view_module_version": "1.5.0",
            "_view_name": "ProgressView",
            "bar_style": "",
            "description": "",
            "description_tooltip": null,
            "layout": "IPY_MODEL_2c7935bf6fa94dadbcd2a48c872d31e7",
            "max": 12,
            "min": 0,
            "orientation": "horizontal",
            "style": "IPY_MODEL_a2bda760769d4e3b81875809e616aa2a",
            "value": 12
          }
        },
        "3b31bd0713724bdd9bfe6f8c99c7d766": {
          "model_module": "@jupyter-widgets/controls",
          "model_name": "HTMLModel",
          "model_module_version": "1.5.0",
          "state": {
            "_dom_classes": [],
            "_model_module": "@jupyter-widgets/controls",
            "_model_module_version": "1.5.0",
            "_model_name": "HTMLModel",
            "_view_count": null,
            "_view_module": "@jupyter-widgets/controls",
            "_view_module_version": "1.5.0",
            "_view_name": "HTMLView",
            "description": "",
            "description_tooltip": null,
            "layout": "IPY_MODEL_5fa5d5fac81340ba9390ab948e8af7bb",
            "placeholder": "​",
            "style": "IPY_MODEL_42295a9cf9044307a6f33951844b038c",
            "value": " 0/12 [00:00&lt;?, ?it/s]"
          }
        },
        "def48191cd0a4907ae84467fa1c9a3d4": {
          "model_module": "@jupyter-widgets/base",
          "model_name": "LayoutModel",
          "model_module_version": "1.2.0",
          "state": {
            "_model_module": "@jupyter-widgets/base",
            "_model_module_version": "1.2.0",
            "_model_name": "LayoutModel",
            "_view_count": null,
            "_view_module": "@jupyter-widgets/base",
            "_view_module_version": "1.2.0",
            "_view_name": "LayoutView",
            "align_content": null,
            "align_items": null,
            "align_self": null,
            "border": null,
            "bottom": null,
            "display": null,
            "flex": null,
            "flex_flow": null,
            "grid_area": null,
            "grid_auto_columns": null,
            "grid_auto_flow": null,
            "grid_auto_rows": null,
            "grid_column": null,
            "grid_gap": null,
            "grid_row": null,
            "grid_template_areas": null,
            "grid_template_columns": null,
            "grid_template_rows": null,
            "height": null,
            "justify_content": null,
            "justify_items": null,
            "left": null,
            "margin": null,
            "max_height": null,
            "max_width": null,
            "min_height": null,
            "min_width": null,
            "object_fit": null,
            "object_position": null,
            "order": null,
            "overflow": null,
            "overflow_x": null,
            "overflow_y": null,
            "padding": null,
            "right": null,
            "top": null,
            "visibility": "hidden",
            "width": null
          }
        },
        "59a671373b0943a6bdbd986726fe8d2f": {
          "model_module": "@jupyter-widgets/base",
          "model_name": "LayoutModel",
          "model_module_version": "1.2.0",
          "state": {
            "_model_module": "@jupyter-widgets/base",
            "_model_module_version": "1.2.0",
            "_model_name": "LayoutModel",
            "_view_count": null,
            "_view_module": "@jupyter-widgets/base",
            "_view_module_version": "1.2.0",
            "_view_name": "LayoutView",
            "align_content": null,
            "align_items": null,
            "align_self": null,
            "border": null,
            "bottom": null,
            "display": null,
            "flex": null,
            "flex_flow": null,
            "grid_area": null,
            "grid_auto_columns": null,
            "grid_auto_flow": null,
            "grid_auto_rows": null,
            "grid_column": null,
            "grid_gap": null,
            "grid_row": null,
            "grid_template_areas": null,
            "grid_template_columns": null,
            "grid_template_rows": null,
            "height": null,
            "justify_content": null,
            "justify_items": null,
            "left": null,
            "margin": null,
            "max_height": null,
            "max_width": null,
            "min_height": null,
            "min_width": null,
            "object_fit": null,
            "object_position": null,
            "order": null,
            "overflow": null,
            "overflow_x": null,
            "overflow_y": null,
            "padding": null,
            "right": null,
            "top": null,
            "visibility": null,
            "width": null
          }
        },
        "6cd0cbad7d134cd19802ad181d75915b": {
          "model_module": "@jupyter-widgets/controls",
          "model_name": "DescriptionStyleModel",
          "model_module_version": "1.5.0",
          "state": {
            "_model_module": "@jupyter-widgets/controls",
            "_model_module_version": "1.5.0",
            "_model_name": "DescriptionStyleModel",
            "_view_count": null,
            "_view_module": "@jupyter-widgets/base",
            "_view_module_version": "1.2.0",
            "_view_name": "StyleView",
            "description_width": ""
          }
        },
        "2c7935bf6fa94dadbcd2a48c872d31e7": {
          "model_module": "@jupyter-widgets/base",
          "model_name": "LayoutModel",
          "model_module_version": "1.2.0",
          "state": {
            "_model_module": "@jupyter-widgets/base",
            "_model_module_version": "1.2.0",
            "_model_name": "LayoutModel",
            "_view_count": null,
            "_view_module": "@jupyter-widgets/base",
            "_view_module_version": "1.2.0",
            "_view_name": "LayoutView",
            "align_content": null,
            "align_items": null,
            "align_self": null,
            "border": null,
            "bottom": null,
            "display": null,
            "flex": null,
            "flex_flow": null,
            "grid_area": null,
            "grid_auto_columns": null,
            "grid_auto_flow": null,
            "grid_auto_rows": null,
            "grid_column": null,
            "grid_gap": null,
            "grid_row": null,
            "grid_template_areas": null,
            "grid_template_columns": null,
            "grid_template_rows": null,
            "height": null,
            "justify_content": null,
            "justify_items": null,
            "left": null,
            "margin": null,
            "max_height": null,
            "max_width": null,
            "min_height": null,
            "min_width": null,
            "object_fit": null,
            "object_position": null,
            "order": null,
            "overflow": null,
            "overflow_x": null,
            "overflow_y": null,
            "padding": null,
            "right": null,
            "top": null,
            "visibility": null,
            "width": null
          }
        },
        "a2bda760769d4e3b81875809e616aa2a": {
          "model_module": "@jupyter-widgets/controls",
          "model_name": "ProgressStyleModel",
          "model_module_version": "1.5.0",
          "state": {
            "_model_module": "@jupyter-widgets/controls",
            "_model_module_version": "1.5.0",
            "_model_name": "ProgressStyleModel",
            "_view_count": null,
            "_view_module": "@jupyter-widgets/base",
            "_view_module_version": "1.2.0",
            "_view_name": "StyleView",
            "bar_color": null,
            "description_width": ""
          }
        },
        "5fa5d5fac81340ba9390ab948e8af7bb": {
          "model_module": "@jupyter-widgets/base",
          "model_name": "LayoutModel",
          "model_module_version": "1.2.0",
          "state": {
            "_model_module": "@jupyter-widgets/base",
            "_model_module_version": "1.2.0",
            "_model_name": "LayoutModel",
            "_view_count": null,
            "_view_module": "@jupyter-widgets/base",
            "_view_module_version": "1.2.0",
            "_view_name": "LayoutView",
            "align_content": null,
            "align_items": null,
            "align_self": null,
            "border": null,
            "bottom": null,
            "display": null,
            "flex": null,
            "flex_flow": null,
            "grid_area": null,
            "grid_auto_columns": null,
            "grid_auto_flow": null,
            "grid_auto_rows": null,
            "grid_column": null,
            "grid_gap": null,
            "grid_row": null,
            "grid_template_areas": null,
            "grid_template_columns": null,
            "grid_template_rows": null,
            "height": null,
            "justify_content": null,
            "justify_items": null,
            "left": null,
            "margin": null,
            "max_height": null,
            "max_width": null,
            "min_height": null,
            "min_width": null,
            "object_fit": null,
            "object_position": null,
            "order": null,
            "overflow": null,
            "overflow_x": null,
            "overflow_y": null,
            "padding": null,
            "right": null,
            "top": null,
            "visibility": null,
            "width": null
          }
        },
        "42295a9cf9044307a6f33951844b038c": {
          "model_module": "@jupyter-widgets/controls",
          "model_name": "DescriptionStyleModel",
          "model_module_version": "1.5.0",
          "state": {
            "_model_module": "@jupyter-widgets/controls",
            "_model_module_version": "1.5.0",
            "_model_name": "DescriptionStyleModel",
            "_view_count": null,
            "_view_module": "@jupyter-widgets/base",
            "_view_module_version": "1.2.0",
            "_view_name": "StyleView",
            "description_width": ""
          }
        },
        "c6baaf468f544b339446d84937e833ae": {
          "model_module": "@jupyter-widgets/controls",
          "model_name": "HBoxModel",
          "model_module_version": "1.5.0",
          "state": {
            "_dom_classes": [],
            "_model_module": "@jupyter-widgets/controls",
            "_model_module_version": "1.5.0",
            "_model_name": "HBoxModel",
            "_view_count": null,
            "_view_module": "@jupyter-widgets/controls",
            "_view_module_version": "1.5.0",
            "_view_name": "HBoxView",
            "box_style": "",
            "children": [
              "IPY_MODEL_72dfa1307f094c23ac6024936f17e848",
              "IPY_MODEL_76ea7a481ba84aa8ab8edfef283db2bb",
              "IPY_MODEL_ff5dabdb99f74dc2a443ea67614058b0"
            ],
            "layout": "IPY_MODEL_e6655f7f481a4b45af95db5f5d4b4050"
          }
        },
        "72dfa1307f094c23ac6024936f17e848": {
          "model_module": "@jupyter-widgets/controls",
          "model_name": "HTMLModel",
          "model_module_version": "1.5.0",
          "state": {
            "_dom_classes": [],
            "_model_module": "@jupyter-widgets/controls",
            "_model_module_version": "1.5.0",
            "_model_name": "HTMLModel",
            "_view_count": null,
            "_view_module": "@jupyter-widgets/controls",
            "_view_module_version": "1.5.0",
            "_view_name": "HTMLView",
            "description": "",
            "description_tooltip": null,
            "layout": "IPY_MODEL_93a95d7a6f1e4f1b84aaf624d3c1a55f",
            "placeholder": "​",
            "style": "IPY_MODEL_4a6a125d75b1448ea76469568f422d8d",
            "value": "Evaluating prototype classification:   0%"
          }
        },
        "76ea7a481ba84aa8ab8edfef283db2bb": {
          "model_module": "@jupyter-widgets/controls",
          "model_name": "FloatProgressModel",
          "model_module_version": "1.5.0",
          "state": {
            "_dom_classes": [],
            "_model_module": "@jupyter-widgets/controls",
            "_model_module_version": "1.5.0",
            "_model_name": "FloatProgressModel",
            "_view_count": null,
            "_view_module": "@jupyter-widgets/controls",
            "_view_module_version": "1.5.0",
            "_view_name": "ProgressView",
            "bar_style": "",
            "description": "",
            "description_tooltip": null,
            "layout": "IPY_MODEL_4dc58ff5db474a4e82a06c4e7dafb272",
            "max": 6,
            "min": 0,
            "orientation": "horizontal",
            "style": "IPY_MODEL_60339fb9876741b4a020547e1d156ffa",
            "value": 6
          }
        },
        "ff5dabdb99f74dc2a443ea67614058b0": {
          "model_module": "@jupyter-widgets/controls",
          "model_name": "HTMLModel",
          "model_module_version": "1.5.0",
          "state": {
            "_dom_classes": [],
            "_model_module": "@jupyter-widgets/controls",
            "_model_module_version": "1.5.0",
            "_model_name": "HTMLModel",
            "_view_count": null,
            "_view_module": "@jupyter-widgets/controls",
            "_view_module_version": "1.5.0",
            "_view_name": "HTMLView",
            "description": "",
            "description_tooltip": null,
            "layout": "IPY_MODEL_d8fa0cb0470a4697a797a63913ec6982",
            "placeholder": "​",
            "style": "IPY_MODEL_7ea3fca45a1041c6a30c821b53715d47",
            "value": " 0/6 [00:00&lt;?, ?it/s]"
          }
        },
        "e6655f7f481a4b45af95db5f5d4b4050": {
          "model_module": "@jupyter-widgets/base",
          "model_name": "LayoutModel",
          "model_module_version": "1.2.0",
          "state": {
            "_model_module": "@jupyter-widgets/base",
            "_model_module_version": "1.2.0",
            "_model_name": "LayoutModel",
            "_view_count": null,
            "_view_module": "@jupyter-widgets/base",
            "_view_module_version": "1.2.0",
            "_view_name": "LayoutView",
            "align_content": null,
            "align_items": null,
            "align_self": null,
            "border": null,
            "bottom": null,
            "display": null,
            "flex": null,
            "flex_flow": null,
            "grid_area": null,
            "grid_auto_columns": null,
            "grid_auto_flow": null,
            "grid_auto_rows": null,
            "grid_column": null,
            "grid_gap": null,
            "grid_row": null,
            "grid_template_areas": null,
            "grid_template_columns": null,
            "grid_template_rows": null,
            "height": null,
            "justify_content": null,
            "justify_items": null,
            "left": null,
            "margin": null,
            "max_height": null,
            "max_width": null,
            "min_height": null,
            "min_width": null,
            "object_fit": null,
            "object_position": null,
            "order": null,
            "overflow": null,
            "overflow_x": null,
            "overflow_y": null,
            "padding": null,
            "right": null,
            "top": null,
            "visibility": "hidden",
            "width": null
          }
        },
        "93a95d7a6f1e4f1b84aaf624d3c1a55f": {
          "model_module": "@jupyter-widgets/base",
          "model_name": "LayoutModel",
          "model_module_version": "1.2.0",
          "state": {
            "_model_module": "@jupyter-widgets/base",
            "_model_module_version": "1.2.0",
            "_model_name": "LayoutModel",
            "_view_count": null,
            "_view_module": "@jupyter-widgets/base",
            "_view_module_version": "1.2.0",
            "_view_name": "LayoutView",
            "align_content": null,
            "align_items": null,
            "align_self": null,
            "border": null,
            "bottom": null,
            "display": null,
            "flex": null,
            "flex_flow": null,
            "grid_area": null,
            "grid_auto_columns": null,
            "grid_auto_flow": null,
            "grid_auto_rows": null,
            "grid_column": null,
            "grid_gap": null,
            "grid_row": null,
            "grid_template_areas": null,
            "grid_template_columns": null,
            "grid_template_rows": null,
            "height": null,
            "justify_content": null,
            "justify_items": null,
            "left": null,
            "margin": null,
            "max_height": null,
            "max_width": null,
            "min_height": null,
            "min_width": null,
            "object_fit": null,
            "object_position": null,
            "order": null,
            "overflow": null,
            "overflow_x": null,
            "overflow_y": null,
            "padding": null,
            "right": null,
            "top": null,
            "visibility": null,
            "width": null
          }
        },
        "4a6a125d75b1448ea76469568f422d8d": {
          "model_module": "@jupyter-widgets/controls",
          "model_name": "DescriptionStyleModel",
          "model_module_version": "1.5.0",
          "state": {
            "_model_module": "@jupyter-widgets/controls",
            "_model_module_version": "1.5.0",
            "_model_name": "DescriptionStyleModel",
            "_view_count": null,
            "_view_module": "@jupyter-widgets/base",
            "_view_module_version": "1.2.0",
            "_view_name": "StyleView",
            "description_width": ""
          }
        },
        "4dc58ff5db474a4e82a06c4e7dafb272": {
          "model_module": "@jupyter-widgets/base",
          "model_name": "LayoutModel",
          "model_module_version": "1.2.0",
          "state": {
            "_model_module": "@jupyter-widgets/base",
            "_model_module_version": "1.2.0",
            "_model_name": "LayoutModel",
            "_view_count": null,
            "_view_module": "@jupyter-widgets/base",
            "_view_module_version": "1.2.0",
            "_view_name": "LayoutView",
            "align_content": null,
            "align_items": null,
            "align_self": null,
            "border": null,
            "bottom": null,
            "display": null,
            "flex": null,
            "flex_flow": null,
            "grid_area": null,
            "grid_auto_columns": null,
            "grid_auto_flow": null,
            "grid_auto_rows": null,
            "grid_column": null,
            "grid_gap": null,
            "grid_row": null,
            "grid_template_areas": null,
            "grid_template_columns": null,
            "grid_template_rows": null,
            "height": null,
            "justify_content": null,
            "justify_items": null,
            "left": null,
            "margin": null,
            "max_height": null,
            "max_width": null,
            "min_height": null,
            "min_width": null,
            "object_fit": null,
            "object_position": null,
            "order": null,
            "overflow": null,
            "overflow_x": null,
            "overflow_y": null,
            "padding": null,
            "right": null,
            "top": null,
            "visibility": null,
            "width": null
          }
        },
        "60339fb9876741b4a020547e1d156ffa": {
          "model_module": "@jupyter-widgets/controls",
          "model_name": "ProgressStyleModel",
          "model_module_version": "1.5.0",
          "state": {
            "_model_module": "@jupyter-widgets/controls",
            "_model_module_version": "1.5.0",
            "_model_name": "ProgressStyleModel",
            "_view_count": null,
            "_view_module": "@jupyter-widgets/base",
            "_view_module_version": "1.2.0",
            "_view_name": "StyleView",
            "bar_color": null,
            "description_width": ""
          }
        },
        "d8fa0cb0470a4697a797a63913ec6982": {
          "model_module": "@jupyter-widgets/base",
          "model_name": "LayoutModel",
          "model_module_version": "1.2.0",
          "state": {
            "_model_module": "@jupyter-widgets/base",
            "_model_module_version": "1.2.0",
            "_model_name": "LayoutModel",
            "_view_count": null,
            "_view_module": "@jupyter-widgets/base",
            "_view_module_version": "1.2.0",
            "_view_name": "LayoutView",
            "align_content": null,
            "align_items": null,
            "align_self": null,
            "border": null,
            "bottom": null,
            "display": null,
            "flex": null,
            "flex_flow": null,
            "grid_area": null,
            "grid_auto_columns": null,
            "grid_auto_flow": null,
            "grid_auto_rows": null,
            "grid_column": null,
            "grid_gap": null,
            "grid_row": null,
            "grid_template_areas": null,
            "grid_template_columns": null,
            "grid_template_rows": null,
            "height": null,
            "justify_content": null,
            "justify_items": null,
            "left": null,
            "margin": null,
            "max_height": null,
            "max_width": null,
            "min_height": null,
            "min_width": null,
            "object_fit": null,
            "object_position": null,
            "order": null,
            "overflow": null,
            "overflow_x": null,
            "overflow_y": null,
            "padding": null,
            "right": null,
            "top": null,
            "visibility": null,
            "width": null
          }
        },
        "7ea3fca45a1041c6a30c821b53715d47": {
          "model_module": "@jupyter-widgets/controls",
          "model_name": "DescriptionStyleModel",
          "model_module_version": "1.5.0",
          "state": {
            "_model_module": "@jupyter-widgets/controls",
            "_model_module_version": "1.5.0",
            "_model_name": "DescriptionStyleModel",
            "_view_count": null,
            "_view_module": "@jupyter-widgets/base",
            "_view_module_version": "1.2.0",
            "_view_name": "StyleView",
            "description_width": ""
          }
        },
        "9ef3497611234c359908a07a4009cd91": {
          "model_module": "@jupyter-widgets/controls",
          "model_name": "HBoxModel",
          "model_module_version": "1.5.0",
          "state": {
            "_dom_classes": [],
            "_model_module": "@jupyter-widgets/controls",
            "_model_module_version": "1.5.0",
            "_model_name": "HBoxModel",
            "_view_count": null,
            "_view_module": "@jupyter-widgets/controls",
            "_view_module_version": "1.5.0",
            "_view_name": "HBoxView",
            "box_style": "",
            "children": [
              "IPY_MODEL_69bec9f858e24f198badb4fbb8d0d7dc",
              "IPY_MODEL_6e8475b9cf5449ff8f8aa472bf4db81d",
              "IPY_MODEL_45c43e6cceb043e39e2ffb54590c2961"
            ],
            "layout": "IPY_MODEL_ba4b16da24c549ffb16b646c6371c875"
          }
        },
        "69bec9f858e24f198badb4fbb8d0d7dc": {
          "model_module": "@jupyter-widgets/controls",
          "model_name": "HTMLModel",
          "model_module_version": "1.5.0",
          "state": {
            "_dom_classes": [],
            "_model_module": "@jupyter-widgets/controls",
            "_model_module_version": "1.5.0",
            "_model_name": "HTMLModel",
            "_view_count": null,
            "_view_module": "@jupyter-widgets/controls",
            "_view_module_version": "1.5.0",
            "_view_name": "HTMLView",
            "description": "",
            "description_tooltip": null,
            "layout": "IPY_MODEL_855ab4bb37884bda9d1bc654bf3ee43e",
            "placeholder": "​",
            "style": "IPY_MODEL_7c23a5a6529542e587d9a77f8504505f",
            "value": "Evaluating prototype classification:   0%"
          }
        },
        "6e8475b9cf5449ff8f8aa472bf4db81d": {
          "model_module": "@jupyter-widgets/controls",
          "model_name": "FloatProgressModel",
          "model_module_version": "1.5.0",
          "state": {
            "_dom_classes": [],
            "_model_module": "@jupyter-widgets/controls",
            "_model_module_version": "1.5.0",
            "_model_name": "FloatProgressModel",
            "_view_count": null,
            "_view_module": "@jupyter-widgets/controls",
            "_view_module_version": "1.5.0",
            "_view_name": "ProgressView",
            "bar_style": "",
            "description": "",
            "description_tooltip": null,
            "layout": "IPY_MODEL_cad85c0883de49e98763281030ec7c9c",
            "max": 4,
            "min": 0,
            "orientation": "horizontal",
            "style": "IPY_MODEL_e270d7b423a34d999ab457b999549718",
            "value": 4
          }
        },
        "45c43e6cceb043e39e2ffb54590c2961": {
          "model_module": "@jupyter-widgets/controls",
          "model_name": "HTMLModel",
          "model_module_version": "1.5.0",
          "state": {
            "_dom_classes": [],
            "_model_module": "@jupyter-widgets/controls",
            "_model_module_version": "1.5.0",
            "_model_name": "HTMLModel",
            "_view_count": null,
            "_view_module": "@jupyter-widgets/controls",
            "_view_module_version": "1.5.0",
            "_view_name": "HTMLView",
            "description": "",
            "description_tooltip": null,
            "layout": "IPY_MODEL_ad4b3d4b2b234fd8990c939d2090fdba",
            "placeholder": "​",
            "style": "IPY_MODEL_c94aa458dcc84af981809696938a181e",
            "value": " 0/4 [00:00&lt;?, ?it/s]"
          }
        },
        "ba4b16da24c549ffb16b646c6371c875": {
          "model_module": "@jupyter-widgets/base",
          "model_name": "LayoutModel",
          "model_module_version": "1.2.0",
          "state": {
            "_model_module": "@jupyter-widgets/base",
            "_model_module_version": "1.2.0",
            "_model_name": "LayoutModel",
            "_view_count": null,
            "_view_module": "@jupyter-widgets/base",
            "_view_module_version": "1.2.0",
            "_view_name": "LayoutView",
            "align_content": null,
            "align_items": null,
            "align_self": null,
            "border": null,
            "bottom": null,
            "display": null,
            "flex": null,
            "flex_flow": null,
            "grid_area": null,
            "grid_auto_columns": null,
            "grid_auto_flow": null,
            "grid_auto_rows": null,
            "grid_column": null,
            "grid_gap": null,
            "grid_row": null,
            "grid_template_areas": null,
            "grid_template_columns": null,
            "grid_template_rows": null,
            "height": null,
            "justify_content": null,
            "justify_items": null,
            "left": null,
            "margin": null,
            "max_height": null,
            "max_width": null,
            "min_height": null,
            "min_width": null,
            "object_fit": null,
            "object_position": null,
            "order": null,
            "overflow": null,
            "overflow_x": null,
            "overflow_y": null,
            "padding": null,
            "right": null,
            "top": null,
            "visibility": "hidden",
            "width": null
          }
        },
        "855ab4bb37884bda9d1bc654bf3ee43e": {
          "model_module": "@jupyter-widgets/base",
          "model_name": "LayoutModel",
          "model_module_version": "1.2.0",
          "state": {
            "_model_module": "@jupyter-widgets/base",
            "_model_module_version": "1.2.0",
            "_model_name": "LayoutModel",
            "_view_count": null,
            "_view_module": "@jupyter-widgets/base",
            "_view_module_version": "1.2.0",
            "_view_name": "LayoutView",
            "align_content": null,
            "align_items": null,
            "align_self": null,
            "border": null,
            "bottom": null,
            "display": null,
            "flex": null,
            "flex_flow": null,
            "grid_area": null,
            "grid_auto_columns": null,
            "grid_auto_flow": null,
            "grid_auto_rows": null,
            "grid_column": null,
            "grid_gap": null,
            "grid_row": null,
            "grid_template_areas": null,
            "grid_template_columns": null,
            "grid_template_rows": null,
            "height": null,
            "justify_content": null,
            "justify_items": null,
            "left": null,
            "margin": null,
            "max_height": null,
            "max_width": null,
            "min_height": null,
            "min_width": null,
            "object_fit": null,
            "object_position": null,
            "order": null,
            "overflow": null,
            "overflow_x": null,
            "overflow_y": null,
            "padding": null,
            "right": null,
            "top": null,
            "visibility": null,
            "width": null
          }
        },
        "7c23a5a6529542e587d9a77f8504505f": {
          "model_module": "@jupyter-widgets/controls",
          "model_name": "DescriptionStyleModel",
          "model_module_version": "1.5.0",
          "state": {
            "_model_module": "@jupyter-widgets/controls",
            "_model_module_version": "1.5.0",
            "_model_name": "DescriptionStyleModel",
            "_view_count": null,
            "_view_module": "@jupyter-widgets/base",
            "_view_module_version": "1.2.0",
            "_view_name": "StyleView",
            "description_width": ""
          }
        },
        "cad85c0883de49e98763281030ec7c9c": {
          "model_module": "@jupyter-widgets/base",
          "model_name": "LayoutModel",
          "model_module_version": "1.2.0",
          "state": {
            "_model_module": "@jupyter-widgets/base",
            "_model_module_version": "1.2.0",
            "_model_name": "LayoutModel",
            "_view_count": null,
            "_view_module": "@jupyter-widgets/base",
            "_view_module_version": "1.2.0",
            "_view_name": "LayoutView",
            "align_content": null,
            "align_items": null,
            "align_self": null,
            "border": null,
            "bottom": null,
            "display": null,
            "flex": null,
            "flex_flow": null,
            "grid_area": null,
            "grid_auto_columns": null,
            "grid_auto_flow": null,
            "grid_auto_rows": null,
            "grid_column": null,
            "grid_gap": null,
            "grid_row": null,
            "grid_template_areas": null,
            "grid_template_columns": null,
            "grid_template_rows": null,
            "height": null,
            "justify_content": null,
            "justify_items": null,
            "left": null,
            "margin": null,
            "max_height": null,
            "max_width": null,
            "min_height": null,
            "min_width": null,
            "object_fit": null,
            "object_position": null,
            "order": null,
            "overflow": null,
            "overflow_x": null,
            "overflow_y": null,
            "padding": null,
            "right": null,
            "top": null,
            "visibility": null,
            "width": null
          }
        },
        "e270d7b423a34d999ab457b999549718": {
          "model_module": "@jupyter-widgets/controls",
          "model_name": "ProgressStyleModel",
          "model_module_version": "1.5.0",
          "state": {
            "_model_module": "@jupyter-widgets/controls",
            "_model_module_version": "1.5.0",
            "_model_name": "ProgressStyleModel",
            "_view_count": null,
            "_view_module": "@jupyter-widgets/base",
            "_view_module_version": "1.2.0",
            "_view_name": "StyleView",
            "bar_color": null,
            "description_width": ""
          }
        },
        "ad4b3d4b2b234fd8990c939d2090fdba": {
          "model_module": "@jupyter-widgets/base",
          "model_name": "LayoutModel",
          "model_module_version": "1.2.0",
          "state": {
            "_model_module": "@jupyter-widgets/base",
            "_model_module_version": "1.2.0",
            "_model_name": "LayoutModel",
            "_view_count": null,
            "_view_module": "@jupyter-widgets/base",
            "_view_module_version": "1.2.0",
            "_view_name": "LayoutView",
            "align_content": null,
            "align_items": null,
            "align_self": null,
            "border": null,
            "bottom": null,
            "display": null,
            "flex": null,
            "flex_flow": null,
            "grid_area": null,
            "grid_auto_columns": null,
            "grid_auto_flow": null,
            "grid_auto_rows": null,
            "grid_column": null,
            "grid_gap": null,
            "grid_row": null,
            "grid_template_areas": null,
            "grid_template_columns": null,
            "grid_template_rows": null,
            "height": null,
            "justify_content": null,
            "justify_items": null,
            "left": null,
            "margin": null,
            "max_height": null,
            "max_width": null,
            "min_height": null,
            "min_width": null,
            "object_fit": null,
            "object_position": null,
            "order": null,
            "overflow": null,
            "overflow_x": null,
            "overflow_y": null,
            "padding": null,
            "right": null,
            "top": null,
            "visibility": null,
            "width": null
          }
        },
        "c94aa458dcc84af981809696938a181e": {
          "model_module": "@jupyter-widgets/controls",
          "model_name": "DescriptionStyleModel",
          "model_module_version": "1.5.0",
          "state": {
            "_model_module": "@jupyter-widgets/controls",
            "_model_module_version": "1.5.0",
            "_model_name": "DescriptionStyleModel",
            "_view_count": null,
            "_view_module": "@jupyter-widgets/base",
            "_view_module_version": "1.2.0",
            "_view_name": "StyleView",
            "description_width": ""
          }
        },
        "35fa7531bb6c45b09e290579d08c7f2f": {
          "model_module": "@jupyter-widgets/controls",
          "model_name": "HBoxModel",
          "model_module_version": "1.5.0",
          "state": {
            "_dom_classes": [],
            "_model_module": "@jupyter-widgets/controls",
            "_model_module_version": "1.5.0",
            "_model_name": "HBoxModel",
            "_view_count": null,
            "_view_module": "@jupyter-widgets/controls",
            "_view_module_version": "1.5.0",
            "_view_name": "HBoxView",
            "box_style": "",
            "children": [
              "IPY_MODEL_6c285588f88440d49c861c3ddf012c92",
              "IPY_MODEL_cfda006916294347bdc8e2d3fbfddeb2",
              "IPY_MODEL_b6730a0d8840485289da70b5743a6f87"
            ],
            "layout": "IPY_MODEL_5b6675c0d0ac456ebf0947d61e0902a1"
          }
        },
        "6c285588f88440d49c861c3ddf012c92": {
          "model_module": "@jupyter-widgets/controls",
          "model_name": "HTMLModel",
          "model_module_version": "1.5.0",
          "state": {
            "_dom_classes": [],
            "_model_module": "@jupyter-widgets/controls",
            "_model_module_version": "1.5.0",
            "_model_name": "HTMLModel",
            "_view_count": null,
            "_view_module": "@jupyter-widgets/controls",
            "_view_module_version": "1.5.0",
            "_view_name": "HTMLView",
            "description": "",
            "description_tooltip": null,
            "layout": "IPY_MODEL_730d1f3066b94568a497138d58f4afa1",
            "placeholder": "​",
            "style": "IPY_MODEL_44e392db17f44553af95c697f977065c",
            "value": "Evaluating prototype classification:   0%"
          }
        },
        "cfda006916294347bdc8e2d3fbfddeb2": {
          "model_module": "@jupyter-widgets/controls",
          "model_name": "FloatProgressModel",
          "model_module_version": "1.5.0",
          "state": {
            "_dom_classes": [],
            "_model_module": "@jupyter-widgets/controls",
            "_model_module_version": "1.5.0",
            "_model_name": "FloatProgressModel",
            "_view_count": null,
            "_view_module": "@jupyter-widgets/controls",
            "_view_module_version": "1.5.0",
            "_view_name": "ProgressView",
            "bar_style": "",
            "description": "",
            "description_tooltip": null,
            "layout": "IPY_MODEL_2db115a35b58452892b58ca8583d96e2",
            "max": 3,
            "min": 0,
            "orientation": "horizontal",
            "style": "IPY_MODEL_2ee0fb18f94d4089b80fbe27b8ec813f",
            "value": 3
          }
        },
        "b6730a0d8840485289da70b5743a6f87": {
          "model_module": "@jupyter-widgets/controls",
          "model_name": "HTMLModel",
          "model_module_version": "1.5.0",
          "state": {
            "_dom_classes": [],
            "_model_module": "@jupyter-widgets/controls",
            "_model_module_version": "1.5.0",
            "_model_name": "HTMLModel",
            "_view_count": null,
            "_view_module": "@jupyter-widgets/controls",
            "_view_module_version": "1.5.0",
            "_view_name": "HTMLView",
            "description": "",
            "description_tooltip": null,
            "layout": "IPY_MODEL_056dc52f1a06491fb545fc60c3816ae0",
            "placeholder": "​",
            "style": "IPY_MODEL_6c12f4b3b5b441888add1e2c70b607b1",
            "value": " 0/3 [00:00&lt;?, ?it/s]"
          }
        },
        "5b6675c0d0ac456ebf0947d61e0902a1": {
          "model_module": "@jupyter-widgets/base",
          "model_name": "LayoutModel",
          "model_module_version": "1.2.0",
          "state": {
            "_model_module": "@jupyter-widgets/base",
            "_model_module_version": "1.2.0",
            "_model_name": "LayoutModel",
            "_view_count": null,
            "_view_module": "@jupyter-widgets/base",
            "_view_module_version": "1.2.0",
            "_view_name": "LayoutView",
            "align_content": null,
            "align_items": null,
            "align_self": null,
            "border": null,
            "bottom": null,
            "display": null,
            "flex": null,
            "flex_flow": null,
            "grid_area": null,
            "grid_auto_columns": null,
            "grid_auto_flow": null,
            "grid_auto_rows": null,
            "grid_column": null,
            "grid_gap": null,
            "grid_row": null,
            "grid_template_areas": null,
            "grid_template_columns": null,
            "grid_template_rows": null,
            "height": null,
            "justify_content": null,
            "justify_items": null,
            "left": null,
            "margin": null,
            "max_height": null,
            "max_width": null,
            "min_height": null,
            "min_width": null,
            "object_fit": null,
            "object_position": null,
            "order": null,
            "overflow": null,
            "overflow_x": null,
            "overflow_y": null,
            "padding": null,
            "right": null,
            "top": null,
            "visibility": "hidden",
            "width": null
          }
        },
        "730d1f3066b94568a497138d58f4afa1": {
          "model_module": "@jupyter-widgets/base",
          "model_name": "LayoutModel",
          "model_module_version": "1.2.0",
          "state": {
            "_model_module": "@jupyter-widgets/base",
            "_model_module_version": "1.2.0",
            "_model_name": "LayoutModel",
            "_view_count": null,
            "_view_module": "@jupyter-widgets/base",
            "_view_module_version": "1.2.0",
            "_view_name": "LayoutView",
            "align_content": null,
            "align_items": null,
            "align_self": null,
            "border": null,
            "bottom": null,
            "display": null,
            "flex": null,
            "flex_flow": null,
            "grid_area": null,
            "grid_auto_columns": null,
            "grid_auto_flow": null,
            "grid_auto_rows": null,
            "grid_column": null,
            "grid_gap": null,
            "grid_row": null,
            "grid_template_areas": null,
            "grid_template_columns": null,
            "grid_template_rows": null,
            "height": null,
            "justify_content": null,
            "justify_items": null,
            "left": null,
            "margin": null,
            "max_height": null,
            "max_width": null,
            "min_height": null,
            "min_width": null,
            "object_fit": null,
            "object_position": null,
            "order": null,
            "overflow": null,
            "overflow_x": null,
            "overflow_y": null,
            "padding": null,
            "right": null,
            "top": null,
            "visibility": null,
            "width": null
          }
        },
        "44e392db17f44553af95c697f977065c": {
          "model_module": "@jupyter-widgets/controls",
          "model_name": "DescriptionStyleModel",
          "model_module_version": "1.5.0",
          "state": {
            "_model_module": "@jupyter-widgets/controls",
            "_model_module_version": "1.5.0",
            "_model_name": "DescriptionStyleModel",
            "_view_count": null,
            "_view_module": "@jupyter-widgets/base",
            "_view_module_version": "1.2.0",
            "_view_name": "StyleView",
            "description_width": ""
          }
        },
        "2db115a35b58452892b58ca8583d96e2": {
          "model_module": "@jupyter-widgets/base",
          "model_name": "LayoutModel",
          "model_module_version": "1.2.0",
          "state": {
            "_model_module": "@jupyter-widgets/base",
            "_model_module_version": "1.2.0",
            "_model_name": "LayoutModel",
            "_view_count": null,
            "_view_module": "@jupyter-widgets/base",
            "_view_module_version": "1.2.0",
            "_view_name": "LayoutView",
            "align_content": null,
            "align_items": null,
            "align_self": null,
            "border": null,
            "bottom": null,
            "display": null,
            "flex": null,
            "flex_flow": null,
            "grid_area": null,
            "grid_auto_columns": null,
            "grid_auto_flow": null,
            "grid_auto_rows": null,
            "grid_column": null,
            "grid_gap": null,
            "grid_row": null,
            "grid_template_areas": null,
            "grid_template_columns": null,
            "grid_template_rows": null,
            "height": null,
            "justify_content": null,
            "justify_items": null,
            "left": null,
            "margin": null,
            "max_height": null,
            "max_width": null,
            "min_height": null,
            "min_width": null,
            "object_fit": null,
            "object_position": null,
            "order": null,
            "overflow": null,
            "overflow_x": null,
            "overflow_y": null,
            "padding": null,
            "right": null,
            "top": null,
            "visibility": null,
            "width": null
          }
        },
        "2ee0fb18f94d4089b80fbe27b8ec813f": {
          "model_module": "@jupyter-widgets/controls",
          "model_name": "ProgressStyleModel",
          "model_module_version": "1.5.0",
          "state": {
            "_model_module": "@jupyter-widgets/controls",
            "_model_module_version": "1.5.0",
            "_model_name": "ProgressStyleModel",
            "_view_count": null,
            "_view_module": "@jupyter-widgets/base",
            "_view_module_version": "1.2.0",
            "_view_name": "StyleView",
            "bar_color": null,
            "description_width": ""
          }
        },
        "056dc52f1a06491fb545fc60c3816ae0": {
          "model_module": "@jupyter-widgets/base",
          "model_name": "LayoutModel",
          "model_module_version": "1.2.0",
          "state": {
            "_model_module": "@jupyter-widgets/base",
            "_model_module_version": "1.2.0",
            "_model_name": "LayoutModel",
            "_view_count": null,
            "_view_module": "@jupyter-widgets/base",
            "_view_module_version": "1.2.0",
            "_view_name": "LayoutView",
            "align_content": null,
            "align_items": null,
            "align_self": null,
            "border": null,
            "bottom": null,
            "display": null,
            "flex": null,
            "flex_flow": null,
            "grid_area": null,
            "grid_auto_columns": null,
            "grid_auto_flow": null,
            "grid_auto_rows": null,
            "grid_column": null,
            "grid_gap": null,
            "grid_row": null,
            "grid_template_areas": null,
            "grid_template_columns": null,
            "grid_template_rows": null,
            "height": null,
            "justify_content": null,
            "justify_items": null,
            "left": null,
            "margin": null,
            "max_height": null,
            "max_width": null,
            "min_height": null,
            "min_width": null,
            "object_fit": null,
            "object_position": null,
            "order": null,
            "overflow": null,
            "overflow_x": null,
            "overflow_y": null,
            "padding": null,
            "right": null,
            "top": null,
            "visibility": null,
            "width": null
          }
        },
        "6c12f4b3b5b441888add1e2c70b607b1": {
          "model_module": "@jupyter-widgets/controls",
          "model_name": "DescriptionStyleModel",
          "model_module_version": "1.5.0",
          "state": {
            "_model_module": "@jupyter-widgets/controls",
            "_model_module_version": "1.5.0",
            "_model_name": "DescriptionStyleModel",
            "_view_count": null,
            "_view_module": "@jupyter-widgets/base",
            "_view_module_version": "1.2.0",
            "_view_name": "StyleView",
            "description_width": ""
          }
        },
        "dc7b6f050cb94264ac35b5bd28ff43cc": {
          "model_module": "@jupyter-widgets/controls",
          "model_name": "HBoxModel",
          "model_module_version": "1.5.0",
          "state": {
            "_dom_classes": [],
            "_model_module": "@jupyter-widgets/controls",
            "_model_module_version": "1.5.0",
            "_model_name": "HBoxModel",
            "_view_count": null,
            "_view_module": "@jupyter-widgets/controls",
            "_view_module_version": "1.5.0",
            "_view_name": "HBoxView",
            "box_style": "",
            "children": [
              "IPY_MODEL_ae5c200a8b09469b9cf5e813a78b0cbd",
              "IPY_MODEL_8ddbe7ca91b2436bb70f42b3620264f5",
              "IPY_MODEL_b05447ace9134ea29dbce7593623a9ad"
            ],
            "layout": "IPY_MODEL_51d4824fde614fb78995fb1ff517f753"
          }
        },
        "ae5c200a8b09469b9cf5e813a78b0cbd": {
          "model_module": "@jupyter-widgets/controls",
          "model_name": "HTMLModel",
          "model_module_version": "1.5.0",
          "state": {
            "_dom_classes": [],
            "_model_module": "@jupyter-widgets/controls",
            "_model_module_version": "1.5.0",
            "_model_name": "HTMLModel",
            "_view_count": null,
            "_view_module": "@jupyter-widgets/controls",
            "_view_module_version": "1.5.0",
            "_view_name": "HTMLView",
            "description": "",
            "description_tooltip": null,
            "layout": "IPY_MODEL_ca84735cbeb9403989816ad8f53ac611",
            "placeholder": "​",
            "style": "IPY_MODEL_b784334ce2f74dfe84dac7ea72a5a1b4",
            "value": "Evaluating prototype classification:   0%"
          }
        },
        "8ddbe7ca91b2436bb70f42b3620264f5": {
          "model_module": "@jupyter-widgets/controls",
          "model_name": "FloatProgressModel",
          "model_module_version": "1.5.0",
          "state": {
            "_dom_classes": [],
            "_model_module": "@jupyter-widgets/controls",
            "_model_module_version": "1.5.0",
            "_model_name": "FloatProgressModel",
            "_view_count": null,
            "_view_module": "@jupyter-widgets/controls",
            "_view_module_version": "1.5.0",
            "_view_name": "ProgressView",
            "bar_style": "",
            "description": "",
            "description_tooltip": null,
            "layout": "IPY_MODEL_3ad8fb14568048109ed7e806649e1797",
            "max": 3,
            "min": 0,
            "orientation": "horizontal",
            "style": "IPY_MODEL_f5a191bda1fd40bcaa61df78e5d8dd95",
            "value": 3
          }
        },
        "b05447ace9134ea29dbce7593623a9ad": {
          "model_module": "@jupyter-widgets/controls",
          "model_name": "HTMLModel",
          "model_module_version": "1.5.0",
          "state": {
            "_dom_classes": [],
            "_model_module": "@jupyter-widgets/controls",
            "_model_module_version": "1.5.0",
            "_model_name": "HTMLModel",
            "_view_count": null,
            "_view_module": "@jupyter-widgets/controls",
            "_view_module_version": "1.5.0",
            "_view_name": "HTMLView",
            "description": "",
            "description_tooltip": null,
            "layout": "IPY_MODEL_9a0346abc9d34fbf82ad0f5e24f23698",
            "placeholder": "​",
            "style": "IPY_MODEL_791aa512ed1941bfb9cf7fda85493e53",
            "value": " 0/3 [00:00&lt;?, ?it/s]"
          }
        },
        "51d4824fde614fb78995fb1ff517f753": {
          "model_module": "@jupyter-widgets/base",
          "model_name": "LayoutModel",
          "model_module_version": "1.2.0",
          "state": {
            "_model_module": "@jupyter-widgets/base",
            "_model_module_version": "1.2.0",
            "_model_name": "LayoutModel",
            "_view_count": null,
            "_view_module": "@jupyter-widgets/base",
            "_view_module_version": "1.2.0",
            "_view_name": "LayoutView",
            "align_content": null,
            "align_items": null,
            "align_self": null,
            "border": null,
            "bottom": null,
            "display": null,
            "flex": null,
            "flex_flow": null,
            "grid_area": null,
            "grid_auto_columns": null,
            "grid_auto_flow": null,
            "grid_auto_rows": null,
            "grid_column": null,
            "grid_gap": null,
            "grid_row": null,
            "grid_template_areas": null,
            "grid_template_columns": null,
            "grid_template_rows": null,
            "height": null,
            "justify_content": null,
            "justify_items": null,
            "left": null,
            "margin": null,
            "max_height": null,
            "max_width": null,
            "min_height": null,
            "min_width": null,
            "object_fit": null,
            "object_position": null,
            "order": null,
            "overflow": null,
            "overflow_x": null,
            "overflow_y": null,
            "padding": null,
            "right": null,
            "top": null,
            "visibility": "hidden",
            "width": null
          }
        },
        "ca84735cbeb9403989816ad8f53ac611": {
          "model_module": "@jupyter-widgets/base",
          "model_name": "LayoutModel",
          "model_module_version": "1.2.0",
          "state": {
            "_model_module": "@jupyter-widgets/base",
            "_model_module_version": "1.2.0",
            "_model_name": "LayoutModel",
            "_view_count": null,
            "_view_module": "@jupyter-widgets/base",
            "_view_module_version": "1.2.0",
            "_view_name": "LayoutView",
            "align_content": null,
            "align_items": null,
            "align_self": null,
            "border": null,
            "bottom": null,
            "display": null,
            "flex": null,
            "flex_flow": null,
            "grid_area": null,
            "grid_auto_columns": null,
            "grid_auto_flow": null,
            "grid_auto_rows": null,
            "grid_column": null,
            "grid_gap": null,
            "grid_row": null,
            "grid_template_areas": null,
            "grid_template_columns": null,
            "grid_template_rows": null,
            "height": null,
            "justify_content": null,
            "justify_items": null,
            "left": null,
            "margin": null,
            "max_height": null,
            "max_width": null,
            "min_height": null,
            "min_width": null,
            "object_fit": null,
            "object_position": null,
            "order": null,
            "overflow": null,
            "overflow_x": null,
            "overflow_y": null,
            "padding": null,
            "right": null,
            "top": null,
            "visibility": null,
            "width": null
          }
        },
        "b784334ce2f74dfe84dac7ea72a5a1b4": {
          "model_module": "@jupyter-widgets/controls",
          "model_name": "DescriptionStyleModel",
          "model_module_version": "1.5.0",
          "state": {
            "_model_module": "@jupyter-widgets/controls",
            "_model_module_version": "1.5.0",
            "_model_name": "DescriptionStyleModel",
            "_view_count": null,
            "_view_module": "@jupyter-widgets/base",
            "_view_module_version": "1.2.0",
            "_view_name": "StyleView",
            "description_width": ""
          }
        },
        "3ad8fb14568048109ed7e806649e1797": {
          "model_module": "@jupyter-widgets/base",
          "model_name": "LayoutModel",
          "model_module_version": "1.2.0",
          "state": {
            "_model_module": "@jupyter-widgets/base",
            "_model_module_version": "1.2.0",
            "_model_name": "LayoutModel",
            "_view_count": null,
            "_view_module": "@jupyter-widgets/base",
            "_view_module_version": "1.2.0",
            "_view_name": "LayoutView",
            "align_content": null,
            "align_items": null,
            "align_self": null,
            "border": null,
            "bottom": null,
            "display": null,
            "flex": null,
            "flex_flow": null,
            "grid_area": null,
            "grid_auto_columns": null,
            "grid_auto_flow": null,
            "grid_auto_rows": null,
            "grid_column": null,
            "grid_gap": null,
            "grid_row": null,
            "grid_template_areas": null,
            "grid_template_columns": null,
            "grid_template_rows": null,
            "height": null,
            "justify_content": null,
            "justify_items": null,
            "left": null,
            "margin": null,
            "max_height": null,
            "max_width": null,
            "min_height": null,
            "min_width": null,
            "object_fit": null,
            "object_position": null,
            "order": null,
            "overflow": null,
            "overflow_x": null,
            "overflow_y": null,
            "padding": null,
            "right": null,
            "top": null,
            "visibility": null,
            "width": null
          }
        },
        "f5a191bda1fd40bcaa61df78e5d8dd95": {
          "model_module": "@jupyter-widgets/controls",
          "model_name": "ProgressStyleModel",
          "model_module_version": "1.5.0",
          "state": {
            "_model_module": "@jupyter-widgets/controls",
            "_model_module_version": "1.5.0",
            "_model_name": "ProgressStyleModel",
            "_view_count": null,
            "_view_module": "@jupyter-widgets/base",
            "_view_module_version": "1.2.0",
            "_view_name": "StyleView",
            "bar_color": null,
            "description_width": ""
          }
        },
        "9a0346abc9d34fbf82ad0f5e24f23698": {
          "model_module": "@jupyter-widgets/base",
          "model_name": "LayoutModel",
          "model_module_version": "1.2.0",
          "state": {
            "_model_module": "@jupyter-widgets/base",
            "_model_module_version": "1.2.0",
            "_model_name": "LayoutModel",
            "_view_count": null,
            "_view_module": "@jupyter-widgets/base",
            "_view_module_version": "1.2.0",
            "_view_name": "LayoutView",
            "align_content": null,
            "align_items": null,
            "align_self": null,
            "border": null,
            "bottom": null,
            "display": null,
            "flex": null,
            "flex_flow": null,
            "grid_area": null,
            "grid_auto_columns": null,
            "grid_auto_flow": null,
            "grid_auto_rows": null,
            "grid_column": null,
            "grid_gap": null,
            "grid_row": null,
            "grid_template_areas": null,
            "grid_template_columns": null,
            "grid_template_rows": null,
            "height": null,
            "justify_content": null,
            "justify_items": null,
            "left": null,
            "margin": null,
            "max_height": null,
            "max_width": null,
            "min_height": null,
            "min_width": null,
            "object_fit": null,
            "object_position": null,
            "order": null,
            "overflow": null,
            "overflow_x": null,
            "overflow_y": null,
            "padding": null,
            "right": null,
            "top": null,
            "visibility": null,
            "width": null
          }
        },
        "791aa512ed1941bfb9cf7fda85493e53": {
          "model_module": "@jupyter-widgets/controls",
          "model_name": "DescriptionStyleModel",
          "model_module_version": "1.5.0",
          "state": {
            "_model_module": "@jupyter-widgets/controls",
            "_model_module_version": "1.5.0",
            "_model_name": "DescriptionStyleModel",
            "_view_count": null,
            "_view_module": "@jupyter-widgets/base",
            "_view_module_version": "1.2.0",
            "_view_name": "StyleView",
            "description_width": ""
          }
        }
      }
    }
  },
  "cells": [
    {
      "cell_type": "markdown",
      "metadata": {
        "id": "view-in-github",
        "colab_type": "text"
      },
      "source": [
        "<a href=\"https://colab.research.google.com/github/hamzachikhaoui2/MECH501/blob/main/Assignment2_MECH_501_Part_2_HamzaChikhaoui.ipynb\" target=\"_parent\"><img src=\"https://colab.research.google.com/assets/colab-badge.svg\" alt=\"Open In Colab\"/></a>"
      ]
    },
    {
      "cell_type": "markdown",
      "source": [
        "# MECH 501 Assignment 2 :\n",
        "## *Can convolutional neural networks (CNNs) be used for defect detection and identification on screws in a few shot learning environment ?*\n",
        "**Part 2  :**  Development of a CNN architecture tailored to few-shot learning environment."
      ],
      "metadata": {
        "id": "sTvs9tNOEOyO"
      }
    },
    {
      "cell_type": "markdown",
      "source": [
        "In this section of the report, we will be investiguating how the use of a neural network specifically pre-trained for few shot learning tasks will impact the accuracy of our model.\n",
        "However, to do so, the architecture of the model and its setup will vary from one of a classic neural network."
      ],
      "metadata": {
        "id": "46uqk0nEEuQW"
      }
    },
    {
      "cell_type": "markdown",
      "source": [
        "#Imports\n"
      ],
      "metadata": {
        "id": "PjP1_Bfw7WGP"
      }
    },
    {
      "cell_type": "code",
      "source": [
        "# Dependencies Part 2\n",
        "!pip install pillow==8.3.1\n",
        "!pip install tqdm==4.62.3\n",
        "!pip install pytorch-lightning==1.4.9\n",
        "!pip install seaborn==0.11.2\n",
        "!pip install ipython==7.28.0\n"
      ],
      "metadata": {
        "colab": {
          "base_uri": "https://localhost:8080/"
        },
        "id": "TjmggVsfnlmg",
        "outputId": "44eeb085-9f6d-4a78-9b29-8f9bf3e1c9b8"
      },
      "execution_count": null,
      "outputs": [
        {
          "output_type": "stream",
          "name": "stdout",
          "text": [
            "\u001b[31mERROR: Could not find a version that satisfies the requirement imghdr (from versions: none)\u001b[0m\u001b[31m\n",
            "\u001b[0m\u001b[31mERROR: No matching distribution found for imghdr\u001b[0m\u001b[31m\n",
            "\u001b[0mRequirement already satisfied: pillow==8.3.1 in /usr/local/lib/python3.10/dist-packages (8.3.1)\n",
            "Requirement already satisfied: tqdm==4.62.3 in /usr/local/lib/python3.10/dist-packages (4.62.3)\n",
            "Requirement already satisfied: pytorch-lightning==1.4.9 in /usr/local/lib/python3.10/dist-packages (1.4.9)\n",
            "Requirement already satisfied: numpy>=1.17.2 in /usr/local/lib/python3.10/dist-packages (from pytorch-lightning==1.4.9) (1.23.5)\n",
            "Requirement already satisfied: torch>=1.6 in /usr/local/lib/python3.10/dist-packages (from pytorch-lightning==1.4.9) (2.1.0+cu118)\n",
            "Requirement already satisfied: future>=0.17.1 in /usr/local/lib/python3.10/dist-packages (from pytorch-lightning==1.4.9) (0.18.3)\n",
            "Requirement already satisfied: tqdm>=4.41.0 in /usr/local/lib/python3.10/dist-packages (from pytorch-lightning==1.4.9) (4.62.3)\n",
            "Requirement already satisfied: PyYAML>=5.1 in /usr/local/lib/python3.10/dist-packages (from pytorch-lightning==1.4.9) (6.0.1)\n",
            "Requirement already satisfied: fsspec[http]!=2021.06.0,>=2021.05.0 in /usr/local/lib/python3.10/dist-packages (from pytorch-lightning==1.4.9) (2023.6.0)\n",
            "Requirement already satisfied: tensorboard>=2.2.0 in /usr/local/lib/python3.10/dist-packages (from pytorch-lightning==1.4.9) (2.14.1)\n",
            "Requirement already satisfied: torchmetrics>=0.4.0 in /usr/local/lib/python3.10/dist-packages (from pytorch-lightning==1.4.9) (1.2.1)\n",
            "Requirement already satisfied: pyDeprecate==0.3.1 in /usr/local/lib/python3.10/dist-packages (from pytorch-lightning==1.4.9) (0.3.1)\n",
            "Requirement already satisfied: packaging>=17.0 in /usr/local/lib/python3.10/dist-packages (from pytorch-lightning==1.4.9) (23.2)\n",
            "Requirement already satisfied: typing-extensions in /usr/local/lib/python3.10/dist-packages (from pytorch-lightning==1.4.9) (4.5.0)\n",
            "Requirement already satisfied: requests in /usr/local/lib/python3.10/dist-packages (from fsspec[http]!=2021.06.0,>=2021.05.0->pytorch-lightning==1.4.9) (2.31.0)\n",
            "Requirement already satisfied: aiohttp!=4.0.0a0,!=4.0.0a1 in /usr/local/lib/python3.10/dist-packages (from fsspec[http]!=2021.06.0,>=2021.05.0->pytorch-lightning==1.4.9) (3.9.1)\n",
            "Requirement already satisfied: absl-py>=0.4 in /usr/local/lib/python3.10/dist-packages (from tensorboard>=2.2.0->pytorch-lightning==1.4.9) (1.4.0)\n",
            "Requirement already satisfied: grpcio>=1.48.2 in /usr/local/lib/python3.10/dist-packages (from tensorboard>=2.2.0->pytorch-lightning==1.4.9) (1.59.3)\n",
            "Requirement already satisfied: google-auth<3,>=1.6.3 in /usr/local/lib/python3.10/dist-packages (from tensorboard>=2.2.0->pytorch-lightning==1.4.9) (2.17.3)\n",
            "Requirement already satisfied: google-auth-oauthlib<1.1,>=0.5 in /usr/local/lib/python3.10/dist-packages (from tensorboard>=2.2.0->pytorch-lightning==1.4.9) (1.0.0)\n",
            "Requirement already satisfied: markdown>=2.6.8 in /usr/local/lib/python3.10/dist-packages (from tensorboard>=2.2.0->pytorch-lightning==1.4.9) (3.5.1)\n",
            "Requirement already satisfied: protobuf>=3.19.6 in /usr/local/lib/python3.10/dist-packages (from tensorboard>=2.2.0->pytorch-lightning==1.4.9) (3.20.3)\n",
            "Requirement already satisfied: setuptools>=41.0.0 in /usr/local/lib/python3.10/dist-packages (from tensorboard>=2.2.0->pytorch-lightning==1.4.9) (67.7.2)\n",
            "Requirement already satisfied: six>1.9 in /usr/local/lib/python3.10/dist-packages (from tensorboard>=2.2.0->pytorch-lightning==1.4.9) (1.16.0)\n",
            "Requirement already satisfied: tensorboard-data-server<0.8.0,>=0.7.0 in /usr/local/lib/python3.10/dist-packages (from tensorboard>=2.2.0->pytorch-lightning==1.4.9) (0.7.2)\n",
            "Requirement already satisfied: werkzeug>=1.0.1 in /usr/local/lib/python3.10/dist-packages (from tensorboard>=2.2.0->pytorch-lightning==1.4.9) (3.0.1)\n",
            "Requirement already satisfied: filelock in /usr/local/lib/python3.10/dist-packages (from torch>=1.6->pytorch-lightning==1.4.9) (3.13.1)\n",
            "Requirement already satisfied: sympy in /usr/local/lib/python3.10/dist-packages (from torch>=1.6->pytorch-lightning==1.4.9) (1.12)\n",
            "Requirement already satisfied: networkx in /usr/local/lib/python3.10/dist-packages (from torch>=1.6->pytorch-lightning==1.4.9) (3.2.1)\n",
            "Requirement already satisfied: jinja2 in /usr/local/lib/python3.10/dist-packages (from torch>=1.6->pytorch-lightning==1.4.9) (3.1.2)\n",
            "Requirement already satisfied: triton==2.1.0 in /usr/local/lib/python3.10/dist-packages (from torch>=1.6->pytorch-lightning==1.4.9) (2.1.0)\n",
            "Requirement already satisfied: lightning-utilities>=0.8.0 in /usr/local/lib/python3.10/dist-packages (from torchmetrics>=0.4.0->pytorch-lightning==1.4.9) (0.10.0)\n",
            "Requirement already satisfied: attrs>=17.3.0 in /usr/local/lib/python3.10/dist-packages (from aiohttp!=4.0.0a0,!=4.0.0a1->fsspec[http]!=2021.06.0,>=2021.05.0->pytorch-lightning==1.4.9) (23.1.0)\n",
            "Requirement already satisfied: multidict<7.0,>=4.5 in /usr/local/lib/python3.10/dist-packages (from aiohttp!=4.0.0a0,!=4.0.0a1->fsspec[http]!=2021.06.0,>=2021.05.0->pytorch-lightning==1.4.9) (6.0.4)\n",
            "Requirement already satisfied: yarl<2.0,>=1.0 in /usr/local/lib/python3.10/dist-packages (from aiohttp!=4.0.0a0,!=4.0.0a1->fsspec[http]!=2021.06.0,>=2021.05.0->pytorch-lightning==1.4.9) (1.9.3)\n",
            "Requirement already satisfied: frozenlist>=1.1.1 in /usr/local/lib/python3.10/dist-packages (from aiohttp!=4.0.0a0,!=4.0.0a1->fsspec[http]!=2021.06.0,>=2021.05.0->pytorch-lightning==1.4.9) (1.4.0)\n",
            "Requirement already satisfied: aiosignal>=1.1.2 in /usr/local/lib/python3.10/dist-packages (from aiohttp!=4.0.0a0,!=4.0.0a1->fsspec[http]!=2021.06.0,>=2021.05.0->pytorch-lightning==1.4.9) (1.3.1)\n",
            "Requirement already satisfied: async-timeout<5.0,>=4.0 in /usr/local/lib/python3.10/dist-packages (from aiohttp!=4.0.0a0,!=4.0.0a1->fsspec[http]!=2021.06.0,>=2021.05.0->pytorch-lightning==1.4.9) (4.0.3)\n",
            "Requirement already satisfied: cachetools<6.0,>=2.0.0 in /usr/local/lib/python3.10/dist-packages (from google-auth<3,>=1.6.3->tensorboard>=2.2.0->pytorch-lightning==1.4.9) (5.3.2)\n",
            "Requirement already satisfied: pyasn1-modules>=0.2.1 in /usr/local/lib/python3.10/dist-packages (from google-auth<3,>=1.6.3->tensorboard>=2.2.0->pytorch-lightning==1.4.9) (0.3.0)\n",
            "Requirement already satisfied: rsa<5,>=3.1.4 in /usr/local/lib/python3.10/dist-packages (from google-auth<3,>=1.6.3->tensorboard>=2.2.0->pytorch-lightning==1.4.9) (4.9)\n",
            "Requirement already satisfied: requests-oauthlib>=0.7.0 in /usr/local/lib/python3.10/dist-packages (from google-auth-oauthlib<1.1,>=0.5->tensorboard>=2.2.0->pytorch-lightning==1.4.9) (1.3.1)\n",
            "Requirement already satisfied: charset-normalizer<4,>=2 in /usr/local/lib/python3.10/dist-packages (from requests->fsspec[http]!=2021.06.0,>=2021.05.0->pytorch-lightning==1.4.9) (3.3.2)\n",
            "Requirement already satisfied: idna<4,>=2.5 in /usr/local/lib/python3.10/dist-packages (from requests->fsspec[http]!=2021.06.0,>=2021.05.0->pytorch-lightning==1.4.9) (3.6)\n",
            "Requirement already satisfied: urllib3<3,>=1.21.1 in /usr/local/lib/python3.10/dist-packages (from requests->fsspec[http]!=2021.06.0,>=2021.05.0->pytorch-lightning==1.4.9) (2.0.7)\n",
            "Requirement already satisfied: certifi>=2017.4.17 in /usr/local/lib/python3.10/dist-packages (from requests->fsspec[http]!=2021.06.0,>=2021.05.0->pytorch-lightning==1.4.9) (2023.11.17)\n",
            "Requirement already satisfied: MarkupSafe>=2.1.1 in /usr/local/lib/python3.10/dist-packages (from werkzeug>=1.0.1->tensorboard>=2.2.0->pytorch-lightning==1.4.9) (2.1.3)\n",
            "Requirement already satisfied: mpmath>=0.19 in /usr/local/lib/python3.10/dist-packages (from sympy->torch>=1.6->pytorch-lightning==1.4.9) (1.3.0)\n",
            "Requirement already satisfied: pyasn1<0.6.0,>=0.4.6 in /usr/local/lib/python3.10/dist-packages (from pyasn1-modules>=0.2.1->google-auth<3,>=1.6.3->tensorboard>=2.2.0->pytorch-lightning==1.4.9) (0.5.1)\n",
            "Requirement already satisfied: oauthlib>=3.0.0 in /usr/local/lib/python3.10/dist-packages (from requests-oauthlib>=0.7.0->google-auth-oauthlib<1.1,>=0.5->tensorboard>=2.2.0->pytorch-lightning==1.4.9) (3.2.2)\n",
            "Requirement already satisfied: seaborn==0.11.2 in /usr/local/lib/python3.10/dist-packages (0.11.2)\n",
            "Requirement already satisfied: numpy>=1.15 in /usr/local/lib/python3.10/dist-packages (from seaborn==0.11.2) (1.23.5)\n",
            "Requirement already satisfied: scipy>=1.0 in /usr/local/lib/python3.10/dist-packages (from seaborn==0.11.2) (1.11.4)\n",
            "Requirement already satisfied: pandas>=0.23 in /usr/local/lib/python3.10/dist-packages (from seaborn==0.11.2) (1.5.3)\n",
            "Requirement already satisfied: matplotlib>=2.2 in /usr/local/lib/python3.10/dist-packages (from seaborn==0.11.2) (3.7.1)\n",
            "Requirement already satisfied: contourpy>=1.0.1 in /usr/local/lib/python3.10/dist-packages (from matplotlib>=2.2->seaborn==0.11.2) (1.2.0)\n",
            "Requirement already satisfied: cycler>=0.10 in /usr/local/lib/python3.10/dist-packages (from matplotlib>=2.2->seaborn==0.11.2) (0.12.1)\n",
            "Requirement already satisfied: fonttools>=4.22.0 in /usr/local/lib/python3.10/dist-packages (from matplotlib>=2.2->seaborn==0.11.2) (4.45.1)\n",
            "Requirement already satisfied: kiwisolver>=1.0.1 in /usr/local/lib/python3.10/dist-packages (from matplotlib>=2.2->seaborn==0.11.2) (1.4.5)\n",
            "Requirement already satisfied: packaging>=20.0 in /usr/local/lib/python3.10/dist-packages (from matplotlib>=2.2->seaborn==0.11.2) (23.2)\n",
            "Requirement already satisfied: pillow>=6.2.0 in /usr/local/lib/python3.10/dist-packages (from matplotlib>=2.2->seaborn==0.11.2) (8.3.1)\n",
            "Requirement already satisfied: pyparsing>=2.3.1 in /usr/local/lib/python3.10/dist-packages (from matplotlib>=2.2->seaborn==0.11.2) (3.1.1)\n",
            "Requirement already satisfied: python-dateutil>=2.7 in /usr/local/lib/python3.10/dist-packages (from matplotlib>=2.2->seaborn==0.11.2) (2.8.2)\n",
            "Requirement already satisfied: pytz>=2020.1 in /usr/local/lib/python3.10/dist-packages (from pandas>=0.23->seaborn==0.11.2) (2023.3.post1)\n",
            "Requirement already satisfied: six>=1.5 in /usr/local/lib/python3.10/dist-packages (from python-dateutil>=2.7->matplotlib>=2.2->seaborn==0.11.2) (1.16.0)\n",
            "Requirement already satisfied: ipython==7.28.0 in /usr/local/lib/python3.10/dist-packages (7.28.0)\n",
            "Requirement already satisfied: setuptools>=18.5 in /usr/local/lib/python3.10/dist-packages (from ipython==7.28.0) (67.7.2)\n",
            "Requirement already satisfied: jedi>=0.16 in /usr/local/lib/python3.10/dist-packages (from ipython==7.28.0) (0.19.1)\n",
            "Requirement already satisfied: decorator in /usr/local/lib/python3.10/dist-packages (from ipython==7.28.0) (4.4.2)\n",
            "Requirement already satisfied: pickleshare in /usr/local/lib/python3.10/dist-packages (from ipython==7.28.0) (0.7.5)\n",
            "Requirement already satisfied: traitlets>=4.2 in /usr/local/lib/python3.10/dist-packages (from ipython==7.28.0) (5.7.1)\n",
            "Requirement already satisfied: prompt-toolkit!=3.0.0,!=3.0.1,<3.1.0,>=2.0.0 in /usr/local/lib/python3.10/dist-packages (from ipython==7.28.0) (3.0.41)\n",
            "Requirement already satisfied: pygments in /usr/local/lib/python3.10/dist-packages (from ipython==7.28.0) (2.16.1)\n",
            "Requirement already satisfied: backcall in /usr/local/lib/python3.10/dist-packages (from ipython==7.28.0) (0.2.0)\n",
            "Requirement already satisfied: matplotlib-inline in /usr/local/lib/python3.10/dist-packages (from ipython==7.28.0) (0.1.6)\n",
            "Requirement already satisfied: pexpect>4.3 in /usr/local/lib/python3.10/dist-packages (from ipython==7.28.0) (4.9.0)\n",
            "Requirement already satisfied: parso<0.9.0,>=0.8.3 in /usr/local/lib/python3.10/dist-packages (from jedi>=0.16->ipython==7.28.0) (0.8.3)\n",
            "Requirement already satisfied: ptyprocess>=0.5 in /usr/local/lib/python3.10/dist-packages (from pexpect>4.3->ipython==7.28.0) (0.7.0)\n",
            "Requirement already satisfied: wcwidth in /usr/local/lib/python3.10/dist-packages (from prompt-toolkit!=3.0.0,!=3.0.1,<3.1.0,>=2.0.0->ipython==7.28.0) (0.2.12)\n"
          ]
        }
      ]
    },
    {
      "cell_type": "code",
      "source": [
        "import tensorflow as tf\n",
        "import os\n",
        "from google.colab import drive\n",
        "import matplotlib.pyplot as plt\n",
        "import cv2\n",
        "import imghdr\n",
        "import numpy as np\n",
        "from tensorflow import keras\n",
        "from tensorflow.keras.layers import Conv2D, MaxPooling2D, Flatten, Dense, Dropout\n",
        "from tensorflow.keras.optimizers import Adam\n",
        "from tensorflow.keras.models import Sequential\n",
        "from sklearn.model_selection import train_test_split\n",
        "from tensorflow.keras.utils import to_categorical\n",
        "from tensorflow.keras import layers\n",
        "from sklearn.model_selection import train_test_split\n",
        "from tensorflow.keras.preprocessing import image\n",
        "from tensorflow.keras.metrics import Precision, Recall, BinaryAccuracy\n",
        "from sklearn.metrics import classification_report\n",
        "from tensorflow.keras.preprocessing.image import ImageDataGenerator\n",
        "from tensorflow.image import grayscale_to_rgb\n",
        "import random\n",
        "import json\n",
        "from PIL import Image\n",
        "from collections import defaultdict\n",
        "from statistics import mean, stdev\n",
        "from copy import deepcopy\n",
        "\n",
        "## Imports for plotting\n",
        "import matplotlib.pyplot as plt\n",
        "plt.set_cmap('cividis')\n",
        "%matplotlib inline\n",
        "from IPython.display import set_matplotlib_formats\n",
        "set_matplotlib_formats('svg', 'pdf') # For export\n",
        "import matplotlib\n",
        "matplotlib.rcParams['lines.linewidth'] = 2.0\n",
        "import seaborn as sns\n",
        "sns.reset_orig()\n",
        "from tqdm.auto import tqdm\n",
        "\n",
        "## PyTorch\n",
        "import torch\n",
        "import torch.nn as nn\n",
        "import torch.nn.functional as F\n",
        "import torch.utils.data as data\n",
        "import torch.optim as optim\n",
        "\n",
        "## Torchvision\n",
        "import torchvision\n",
        "from torchvision import transforms\n",
        "from torch.utils import data\n",
        "\n",
        "# PyTorch Lightning\n",
        "try:\n",
        "    import pytorch_lightning as pl\n",
        "except ModuleNotFoundError:\n",
        "    !pip install --quiet pytorch-lightning>=1.4\n",
        "    import pytorch_lightning as pl\n",
        "from pytorch_lightning.callbacks import LearningRateMonitor, ModelCheckpoint\n",
        "\n",
        "from torch.utils.data import Dataset\n",
        "# Setting the seed\n",
        "pl.seed_everything(42)\n",
        "import seaborn as sns\n",
        "\n"
      ],
      "metadata": {
        "id": "iRqbDoNMqY7u",
        "colab": {
          "base_uri": "https://localhost:8080/",
          "height": 106
        },
        "outputId": "3686012a-25ee-4964-dc71-bdc3b629a903"
      },
      "execution_count": null,
      "outputs": [
        {
          "output_type": "stream",
          "name": "stderr",
          "text": [
            "<ipython-input-1-710e87b809da>:33: DeprecationWarning: `set_matplotlib_formats` is deprecated since IPython 7.23, directly use `matplotlib_inline.backend_inline.set_matplotlib_formats()`\n",
            "  set_matplotlib_formats('svg', 'pdf') # For export\n",
            "INFO:lightning_fabric.utilities.seed:Seed set to 42\n"
          ]
        },
        {
          "output_type": "display_data",
          "data": {
            "text/plain": [
              "<Figure size 640x480 with 0 Axes>"
            ]
          },
          "metadata": {}
        }
      ]
    },
    {
      "cell_type": "markdown",
      "source": [
        "\n",
        "Set up GPU if available:\n"
      ],
      "metadata": {
        "id": "2rhiDtVHF5vb"
      }
    },
    {
      "cell_type": "code",
      "source": [
        "#Loading images\n",
        "\n",
        "device = torch.device(\"cuda:0\") if torch.cuda.is_available() else torch.device(\"cpu\")\n",
        "print(\"Device:\", device)\n",
        "\n",
        "gpus = tf.config.experimental.list_physical_devices('GPU')\n",
        "for gpu in gpus:\n",
        "    tf.config.experimental.set_memory_growth(gpu, True)\n",
        "\n",
        "tf.config.list_physical_devices('GPU')\n",
        "\n"
      ],
      "metadata": {
        "colab": {
          "base_uri": "https://localhost:8080/"
        },
        "id": "ZamIY8vvqQ7y",
        "outputId": "518562d0-c087-4103-9417-16a6e06ec8d3"
      },
      "execution_count": null,
      "outputs": [
        {
          "output_type": "stream",
          "name": "stdout",
          "text": [
            "Device: cpu\n"
          ]
        },
        {
          "output_type": "execute_result",
          "data": {
            "text/plain": [
              "[]"
            ]
          },
          "metadata": {},
          "execution_count": 2
        }
      ]
    },
    {
      "cell_type": "markdown",
      "source": [
        "For this part of the report, we will be implementing some neural networks specifically pretrained for few shot learning environments. To do so, we will download these specific pretrained neural networks from a github repository on internet.\n",
        "\n",
        "The ressources used for this section have been tailored for our specific problematic, and are available in the references section of this report [4]."
      ],
      "metadata": {
        "id": "bfsLERtUGh3S"
      }
    },
    {
      "cell_type": "code",
      "source": [
        "import urllib.request\n",
        "from urllib.error import HTTPError\n",
        "\n",
        "#There is no need to update any link in this cell.\n",
        "\n",
        "base_url = \"https://raw.githubusercontent.com/phlippe/saved_models/main/tutorial16/\"\n",
        "# Files to download\n",
        "pretrained_files = [\"ProtoNet.ckpt\", \"ProtoMAML.ckpt\",\n",
        "                    \"tensorboards/ProtoNet/events.out.tfevents.ProtoNet\",\n",
        "                    \"tensorboards/ProtoMAML/events.out.tfevents.ProtoMAML\",\n",
        "                    \"protomaml_fewshot.json\",\n",
        "                    \"protomaml_svhn_fewshot.json\"]\n",
        "\n",
        "CHECKPOINT_PATH = \"../saved_models/tutorial16\"\n",
        "\n",
        "# Create checkpoint paths did not work\n",
        "os.makedirs(CHECKPOINT_PATH, exist_ok=True)\n",
        "\n",
        "# For each file, check if the file is already downloaded. If not, download it.\n",
        "for file_name in pretrained_files:\n",
        "    file_path = os.path.join(CHECKPOINT_PATH, file_name)\n",
        "    if \"/\" in file_name:\n",
        "        os.makedirs(file_path.rsplit(\"/\",1)[0], exist_ok=True)\n",
        "    if not os.path.isfile(file_path):\n",
        "        file_url = base_url + file_name\n",
        "        print(f\"Downloading {file_url}...\")\n",
        "        try:\n",
        "            urllib.request.urlretrieve(file_url, file_path)\n",
        "        except HTTPError as e:\n",
        "            print(\"Something went wrong. Please try to download the file from the GDrive folder, or contact the author with the full output including the following error:\\n\", e)"
      ],
      "metadata": {
        "id": "1QlY6gPWIvGY",
        "colab": {
          "base_uri": "https://localhost:8080/"
        },
        "outputId": "9cf2219e-121e-47f3-8a19-4278de002b8d"
      },
      "execution_count": null,
      "outputs": [
        {
          "output_type": "stream",
          "name": "stdout",
          "text": [
            "Downloading https://raw.githubusercontent.com/phlippe/saved_models/main/tutorial16/ProtoNet.ckpt...\n",
            "Downloading https://raw.githubusercontent.com/phlippe/saved_models/main/tutorial16/ProtoMAML.ckpt...\n",
            "Downloading https://raw.githubusercontent.com/phlippe/saved_models/main/tutorial16/tensorboards/ProtoNet/events.out.tfevents.ProtoNet...\n",
            "Downloading https://raw.githubusercontent.com/phlippe/saved_models/main/tutorial16/tensorboards/ProtoMAML/events.out.tfevents.ProtoMAML...\n",
            "Downloading https://raw.githubusercontent.com/phlippe/saved_models/main/tutorial16/protomaml_fewshot.json...\n",
            "Downloading https://raw.githubusercontent.com/phlippe/saved_models/main/tutorial16/protomaml_svhn_fewshot.json...\n"
          ]
        }
      ]
    },
    {
      "cell_type": "markdown",
      "source": [
        "# Further Set-up : creation of a custom infrastructure for our dataset\n"
      ],
      "metadata": {
        "id": "_CnxU50Q9rSZ"
      }
    },
    {
      "cell_type": "markdown",
      "source": [
        "As a standard operation in the implementation of few-shot learning algorithms, we will be creating some custom datastructures to store the images from our set.\n",
        "\n",
        "These images will first be processed, their size reduced, then transformed to add noise in the training data set.\n",
        "\n"
      ],
      "metadata": {
        "id": "HQtYiKBQGoAE"
      }
    },
    {
      "cell_type": "code",
      "source": [
        "class CustomDataset(data.Dataset):\n",
        "    def __init__(self, imgs, targets, img_transform=None):\n",
        "        \"\"\"\n",
        "        Inputs:\n",
        "            N = number of samples in our training set (138)\n",
        "            imgs - Numpy array of shape [N,32,32,3] containing all images.\n",
        "            targets - PyTorch array of shape [N] containing all labels.\n",
        "            img_transform - A torchvision transformation that should be applied\n",
        "                            to the images before returning. If none, no transformation\n",
        "                            is applied.\n",
        "        \"\"\"\n",
        "        super().__init__()\n",
        "        self.img_transform = img_transform\n",
        "        self.imgs = imgs\n",
        "        self.targets = targets\n",
        "\n",
        "    def __getitem__(self, idx):\n",
        "        img, target = self.imgs[idx], self.targets[idx]\n",
        "        img = Image.fromarray(img)\n",
        "\n",
        "        if self.img_transform is not None:\n",
        "            img = self.img_transform(img)\n",
        "\n",
        "        return img, target\n",
        "\n",
        "    def __len__(self):\n",
        "        return self.imgs.shape[0]\n",
        "    def __getitem__(self, idx):\n",
        "        img, target = self.imgs[idx], self.targets[idx]\n",
        "\n",
        "        # Convert the image to RGB mode\n",
        "        img = Image.fromarray(img.astype(np.uint8))  # Ensure uint8 format\n",
        "        img = img.convert(\"RGB\")\n",
        "\n",
        "        if self.img_transform is not None:\n",
        "            img = self.img_transform(img)\n",
        "\n",
        "        return img, target\n",
        "\n",
        "    def __len__(self):\n",
        "        return len(self.imgs)\n",
        "\n",
        "\n",
        "\n",
        "class FewShotBatchSampler(object):\n",
        "\n",
        "    def __init__(self, dataset_targets, N_way, K_shot, include_query=False, shuffle=True, shuffle_once=False):\n",
        "        \"\"\"\n",
        "        Inputs:\n",
        "            dataset_targets - PyTorch tensor of the labels of the data elements.\n",
        "            N_way - Number of classes to sample per batch. Here 6.\n",
        "            K_shot - Number of examples to sample per class in the batch. Here, we will be harmonizing our dataset\n",
        "            by selecting 23 samples per class.\n",
        "            include_query - If True, returns batch of size N_way*K_shot*2, which\n",
        "                            can be split into support and query set. Simplifies\n",
        "                            the implementation of sampling the same classes but\n",
        "                            distinct examples for support and query set.\n",
        "            shuffle - If True, examples and classes are newly shuffled in each\n",
        "                      iteration (for training)\n",
        "            shuffle_once - If True, examples and classes are shuffled once in\n",
        "                           the beginning, but kept constant across iterations\n",
        "                           (for validation)\n",
        "        \"\"\"\n",
        "        super().__init__()\n",
        "        self.dataset_targets = dataset_targets\n",
        "        self.N_way = N_way\n",
        "        self.K_shot = K_shot\n",
        "        self.shuffle = shuffle\n",
        "        self.include_query = include_query\n",
        "        if self.include_query:\n",
        "            self.K_shot *= 2\n",
        "        self.batch_size = self.N_way * self.K_shot  # Number of overall images per batch\n",
        "\n",
        "        # Organize examples by class\n",
        "        self.classes = torch.unique(self.dataset_targets).tolist()\n",
        "        self.num_classes = len(self.classes)\n",
        "        self.indices_per_class = {}\n",
        "        self.batches_per_class = {}  # Number of K-shot batches that each class can provide\n",
        "        for c in self.classes:\n",
        "            self.indices_per_class[c] = torch.where(self.dataset_targets == c)[0]\n",
        "            self.batches_per_class[c] = self.indices_per_class[c].shape[0] // self.K_shot\n",
        "\n",
        "        # Create a list of classes from which we select the N classes per batch\n",
        "        self.iterations = sum(self.batches_per_class.values()) // self.N_way\n",
        "        self.class_list = [c for c in self.classes for _ in range(self.batches_per_class[c])]\n",
        "        if shuffle_once or self.shuffle:\n",
        "            self.shuffle_data()\n",
        "        else:\n",
        "            # For testing, we iterate over classes instead of shuffling them\n",
        "            sort_idxs = [i+p*self.num_classes for i,\n",
        "                         c in enumerate(self.classes) for p in range(self.batches_per_class[c])]\n",
        "            self.class_list = np.array(self.class_list)[np.argsort(sort_idxs)].tolist()\n",
        "\n",
        "    def shuffle_data(self):\n",
        "        # Shuffle the examples per class\n",
        "        for c in self.classes:\n",
        "            perm = torch.randperm(self.indices_per_class[c].shape[0])\n",
        "            self.indices_per_class[c] = self.indices_per_class[c][perm]\n",
        "        # Shuffle the class list from which we sample. Note that this way of shuffling\n",
        "        # does not prevent to choose the same class twice in a batch. However, for\n",
        "        # training and validation, this is not a problem.\n",
        "        random.shuffle(self.class_list)\n",
        "\n",
        "    def __iter__(self):\n",
        "        # Shuffle data\n",
        "        if self.shuffle:\n",
        "            self.shuffle_data()\n",
        "\n",
        "        # Sample few-shot batches\n",
        "        start_index = defaultdict(int)\n",
        "        for it in range(self.iterations):\n",
        "            class_batch = self.class_list[it*self.N_way:(it+1)*self.N_way]  # Select N classes for the batch\n",
        "            index_batch = []\n",
        "            for c in class_batch:  # For each class, select the next K examples and add them to the batch\n",
        "                index_batch.extend(self.indices_per_class[c][start_index[c]:start_index[c]+self.K_shot])\n",
        "                start_index[c] += self.K_shot\n",
        "            if self.include_query:  # If we return support+query set, sort them so that they are easy to split\n",
        "                index_batch = index_batch[::2] + index_batch[1::2]\n",
        "            yield index_batch\n",
        "\n",
        "    def __len__(self):\n",
        "        return self.iterations\n",
        "\n",
        "\n"
      ],
      "metadata": {
        "id": "k9uq9qeVqxGo"
      },
      "execution_count": null,
      "outputs": []
    },
    {
      "cell_type": "code",
      "source": [
        "def split_batch(imgs, targets): #Method to split the batch\n",
        "    support_imgs, query_imgs = imgs.chunk(2, dim=0)\n",
        "    support_targets, query_targets = targets.chunk(2, dim=0)\n",
        "    return support_imgs, query_imgs, support_targets, query_targets\n",
        "\n",
        "\n",
        "def get_convnet(output_size):\n",
        "    convnet = torchvision.models.DenseNet(growth_rate=32,\n",
        "                                          block_config=(6, 6, 6, 6),\n",
        "                                          bn_size=2,\n",
        "                                          num_init_features=64,\n",
        "                                          num_classes=output_size  # Output dimensionality\n",
        "                                         )\n",
        "    return convnet\n",
        "\n",
        "\n",
        "\n",
        "def load_images_from_classes(root_folder):\n",
        "    #Iitializing an array of images\n",
        "    all_images = []\n",
        "\n",
        "    for class_folder in os.listdir(root_folder):\n",
        "      #We iterate over all subfolders inside the training folder\n",
        "        class_path = os.path.join(root_folder, class_folder)\n",
        "        #If the path selected is the path to a directory\n",
        "        if os.path.isdir(class_path):\n",
        "            for filename in os.listdir(class_path):\n",
        "              #for every file inside of that directory (i.e. for every picture in that class)\n",
        "                if filename.endswith(('.png', '.jpg', '.jpeg')):\n",
        "                  #image_path is the path to that specific image\n",
        "                    image_path = os.path.join(class_path, filename)\n",
        "\n",
        "                    # Open image and convert it to a NumPy array\n",
        "                    img = Image.open(image_path).resize((32,32))\n",
        "                    img_array = np.array(img)\n",
        "\n",
        "                    # Append the array to the list\n",
        "                    all_images.append(img_array)\n",
        "\n",
        "    return all_images"
      ],
      "metadata": {
        "id": "lYbDmuPYZ0dK"
      },
      "execution_count": null,
      "outputs": []
    },
    {
      "cell_type": "markdown",
      "source": [
        "#Load the data"
      ],
      "metadata": {
        "id": "IO0ZMnquG81K"
      }
    },
    {
      "cell_type": "code",
      "source": [
        "from PIL import Image\n",
        "import numpy as np\n",
        "import os\n",
        "\n",
        "\n",
        "train_path = '/content/drive/MyDrive/Data sets assignment 2/TRAIN'  #Path to the training data -- to be updated\n",
        "\n",
        "\n",
        "#Small modification form the previous experiments, here we will harmonize the dataset by selecting the same number of samples for each class.\n",
        "#Here, is 23 samples per class.\n",
        "\n",
        "all_images = np.array(load_images_from_classes(train_path))\n",
        "\n",
        "print(f\"Number of images: {len(all_images)}\")\n",
        "print(f\"type: {type(all_images)}\")\n",
        "\n"
      ],
      "metadata": {
        "colab": {
          "base_uri": "https://localhost:8080/"
        },
        "id": "G1-wM8azrVo2",
        "outputId": "6f903d04-8389-4edf-b321-5996897e7ba2"
      },
      "execution_count": null,
      "outputs": [
        {
          "output_type": "stream",
          "name": "stdout",
          "text": [
            "Number of images: 138\n",
            "type: <class 'numpy.ndarray'>\n"
          ]
        }
      ]
    },
    {
      "cell_type": "markdown",
      "source": [
        "'''\n",
        "Expected output :\n",
        "Number of images: 138\n",
        "type: <class 'numpy.ndarray'>'''"
      ],
      "metadata": {
        "id": "KnVIduZLJURs"
      }
    },
    {
      "cell_type": "code",
      "source": [
        "import os\n",
        "import torchvision.transforms as transforms\n",
        "from torchvision.datasets import ImageFolder\n",
        "from PIL import Image\n",
        "\n",
        "\n",
        "# We here define the paths to validation and training sets.\n",
        "\n",
        "\n",
        "# Define the data transforms\n",
        "data_transform = transforms.Compose([\n",
        "    transforms.Resize((32, 32)), #We resize the images to only focus on the differentiating features, and\n",
        "    #keep the running times of our model manageable.\n",
        "    transforms.ToTensor(),\n",
        "])\n",
        "\n",
        "# Check if the directories exist.\n",
        "if not os.path.exists(train_path):\n",
        "    raise FileNotFoundError(f\"Directory not found: {train_path}\")\n",
        "\n",
        "\n",
        "# We here create a custom dataset to extract the labels from the training dataset.\n",
        "custom_dataset = ImageFolder(root=train_path, transform=data_transform)\n",
        "all_targets = torch.LongTensor([label for _, label in custom_dataset])\n",
        "\n",
        "# Example usage:\n",
        "print(f\"Number of images: {len(all_images)}\")\n",
        "print(f\"Number of labels: {len(all_targets)}\")"
      ],
      "metadata": {
        "colab": {
          "base_uri": "https://localhost:8080/"
        },
        "id": "tRglovGZJsmw",
        "outputId": "73d64fc7-5619-4355-946b-f09061039c55"
      },
      "execution_count": null,
      "outputs": [
        {
          "output_type": "stream",
          "name": "stdout",
          "text": [
            "Number of images: 138\n",
            "Number of labels: 138\n"
          ]
        }
      ]
    },
    {
      "cell_type": "markdown",
      "source": [
        "Expected Output :\n",
        "\n",
        "Number of images: 138\n",
        "\n",
        "Number of labels: 138\n"
      ],
      "metadata": {
        "id": "_R8z8azTKJ97"
      }
    },
    {
      "cell_type": "markdown",
      "source": [
        "#Start of the implementation of the few-shot learning model\n"
      ],
      "metadata": {
        "id": "DyP1oNl7KXZ_"
      }
    },
    {
      "cell_type": "markdown",
      "source": [
        "Unlike the previous models that we ran, the implementation of a few shot learning model is sensibly different.\n",
        "- Instead of selecting a certain amount of samples per classes, here the goal will be to accurately predict the class of 1 sample.\n",
        "This is the structure of a few shot model:\n",
        "- A training set called \"the support set\", that contains:\n",
        "    - N class labels (at most 6 in our case)\n",
        "    - K labeled images for each class (at most 20 samples for our case)\n",
        "    - Some query images.\n",
        "\n",
        "The following image sums up this architecture for the dataset:\n",
        "![few-shot-classification-problem.webp](data:image/webp;base64,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)\n"
      ],
      "metadata": {
        "id": "B-K8O4z1Khxb"
      }
    },
    {
      "cell_type": "markdown",
      "source": [
        "Therefore, in the following cells, we will be selecting which classes we will be using for training, and which ones will we use for validaiton.\n",
        "However, because we only have very few classes to choose from (6), we will simply always select all classes for training, validation, and testing."
      ],
      "metadata": {
        "id": "exWvkHGzQkwS"
      }
    },
    {
      "cell_type": "code",
      "source": [
        "classes = torch.randperm(6)\n",
        "val_classes, test_classes, train_classes = classes[:], classes[:], classes[:]\n",
        "\n",
        "idx_to_class = {val: key for key, val in custom_dataset.class_to_idx.items()}\n",
        "print(\"Validation classes:\", [idx_to_class[c.item()] for c in val_classes])\n",
        "print(\"Test classes:\", [idx_to_class[c.item()] for c in test_classes])"
      ],
      "metadata": {
        "colab": {
          "base_uri": "https://localhost:8080/"
        },
        "id": "07sQPz-gOMjz",
        "outputId": "9e2e61e3-0ee6-4e30-8fda-08f65b86772d"
      },
      "execution_count": null,
      "outputs": [
        {
          "output_type": "stream",
          "name": "stdout",
          "text": [
            "Validation classes: ['thread_top', 'manipulated_front', 'scratch_head', 'thread_side', 'good', 'scratch_neck']\n",
            "Test classes: ['thread_top', 'manipulated_front', 'scratch_head', 'thread_side', 'good', 'scratch_neck']\n"
          ]
        }
      ]
    },
    {
      "cell_type": "code",
      "source": [
        "#For the selected classes established above, find generate a custom dataset with the corresponding images\n",
        "def dataset_from_labels(imgs, targets, class_set, **kwargs):\n",
        "    class_mask = (targets[:,None] == class_set[None,:]).any(dim=-1)\n",
        "    #Return an instance of our customDataset with the correct the images for the given class.\n",
        "    return CustomDataset(imgs=imgs[class_mask],\n",
        "                        targets=targets[class_mask],\n",
        "                        **kwargs)"
      ],
      "metadata": {
        "id": "HfbR92fQT4a-"
      },
      "execution_count": null,
      "outputs": []
    },
    {
      "cell_type": "code",
      "source": [
        "#Normalizing the datasets by substracting the mean and dividing by the standard deviation for each image\n",
        "DATA_MEANS = torch.Tensor([0.5, 0.5, 0.5])\n",
        "DATA_STD = torch.Tensor([0.5, 0.5, 0.5])\n",
        "\n",
        "#We crop our images into 32x32 images to make the process less timely and get rid of unnecessary features\n",
        "test_transform = transforms.Compose([transforms.ToTensor(),\n",
        "                                     transforms.RandomResizedCrop(\n",
        "                                          (32, 32)),\n",
        "                                     transforms.Normalize(\n",
        "                                         DATA_MEANS, DATA_STD)\n",
        "                                     ])\n",
        "\n",
        "# For training, we add some augmentation.\n",
        "train_transform = transforms.Compose([transforms.RandomHorizontalFlip(),\n",
        "                                      transforms.RandomResizedCrop(\n",
        "                                          (32, 32), scale=(0.8, 1.0), ratio=(0.9, 1.1)),\n",
        "                                      transforms.ToTensor(),\n",
        "                                      transforms.Normalize(\n",
        "                                          DATA_MEANS, DATA_STD)\n",
        "                                      ])\n",
        "\n",
        "\n",
        "train_set = dataset_from_labels(\n",
        "    all_images, all_targets, train_classes, img_transform=train_transform)\n",
        "val_set = dataset_from_labels(\n",
        "    all_images, all_targets, val_classes, img_transform=test_transform)\n",
        "test_set = dataset_from_labels(\n",
        "    all_images, all_targets, test_classes, img_transform=test_transform)\n",
        "\n",
        "\n",
        "# Print the number of classes in each set\n",
        "print(f\"Number of classes in the training set: {len(train_set)}\")\n",
        "print(f\"Number of classes in the validation set: {len(val_set)}\")\n",
        "print(f\"Number of classes in the test set: {len(test_set)}\")\n",
        "\n",
        "print(f\"Type in the training set: {type(train_set)}\")\n",
        "print(f\"Type in the validation set: {type(val_set)}\")\n",
        "print(f\"Type in the test set: {type(test_set)}\")\n"
      ],
      "metadata": {
        "colab": {
          "base_uri": "https://localhost:8080/"
        },
        "id": "Ub04cUjFxCkl",
        "outputId": "ff9245cc-a031-40b7-a85f-f0a5aa9a5a9c"
      },
      "execution_count": null,
      "outputs": [
        {
          "output_type": "stream",
          "name": "stdout",
          "text": [
            "Number of classes in the training set: 138\n",
            "Number of classes in the validation set: 138\n",
            "Number of classes in the test set: 138\n",
            "Type in the training set: <class '__main__.CustomDataset'>\n",
            "Type in the validation set: <class '__main__.CustomDataset'>\n",
            "Type in the test set: <class '__main__.CustomDataset'>\n"
          ]
        }
      ]
    },
    {
      "cell_type": "markdown",
      "source": [
        "Expected output:\n",
        "\n",
        "Number of classes in the training set: 138\n",
        "\n",
        "Number of classes in the validation set: 138\n",
        "\n",
        "Number of classes in the test set: 138\n",
        "\n",
        "Type in the training set: <class '__main__.CustomDataset'>\n",
        "\n",
        "Type in the validation set: <class '__main__.CustomDataset'>\n",
        "\n",
        "Type in the test set: <class '__main__.CustomDataset'>"
      ],
      "metadata": {
        "id": "Je6JDnO6SzaC"
      }
    },
    {
      "cell_type": "code",
      "source": [
        "N_WAY = 6 #6 class classification problem\n",
        "K_SHOT = 23 #for now, Let us start with 2 samples per class\n",
        "train_data_loader = data.DataLoader(train_set,\n",
        "                                    batch_sampler=FewShotBatchSampler(train_set.targets,\n",
        "                                                                      include_query=True,\n",
        "                                                                      N_way=N_WAY,\n",
        "                                                                      K_shot=K_SHOT,\n",
        "                                                                      shuffle=True),\n",
        "                                    num_workers=4)\n",
        "val_data_loader = data.DataLoader(val_set,\n",
        "                                  batch_sampler=FewShotBatchSampler(val_set.targets,\n",
        "                                                                    include_query=True,\n",
        "                                                                    N_way=N_WAY,\n",
        "                                                                    K_shot=K_SHOT,\n",
        "                                                                    shuffle=False,\n",
        "                                                                    shuffle_once=True),\n",
        "                                  num_workers=4)\n",
        "\n",
        "# The number of workers was iterated and the selected one (4) was the one achieving the highest accuracy."
      ],
      "metadata": {
        "id": "bA1YZgoX0iNW",
        "colab": {
          "base_uri": "https://localhost:8080/"
        },
        "outputId": "dad3bb68-f309-424f-a9a9-70b1cf951f3e"
      },
      "execution_count": null,
      "outputs": [
        {
          "output_type": "stream",
          "name": "stderr",
          "text": [
            "/usr/local/lib/python3.10/dist-packages/torch/utils/data/dataloader.py:557: UserWarning: This DataLoader will create 4 worker processes in total. Our suggested max number of worker in current system is 2, which is smaller than what this DataLoader is going to create. Please be aware that excessive worker creation might get DataLoader running slow or even freeze, lower the worker number to avoid potential slowness/freeze if necessary.\n",
            "  warnings.warn(_create_warning_msg(\n"
          ]
        }
      ]
    },
    {
      "cell_type": "markdown",
      "source": [
        "#Train Module"
      ],
      "metadata": {
        "id": "lGllxzw4-bdT"
      }
    },
    {
      "cell_type": "markdown",
      "source": [
        "To train the model, we will be using a pre-trained meta-learner named ProtoNet.\n",
        "\n",
        "This meta learner is different from previously implemented pre-trained models in that it was not trained to detect existing patterns from an already existing dataset. It was however trained to recognize similarities between samples.\n",
        "\n",
        "Essentially what this learner does is that when presented one sample image from the query set, this learner will identify to which class from the support set this sample is the closest.\n",
        "\n",
        "An analogy to what this learner does would be that the learner is trained to recognize how similar are two images, as opposed to detecting if each image contains a pattern for which it would have been previously trained.\n",
        "\n",
        "This interesting caracteristic allows this learner to classify (to a certain extent) some images even if it had never been trained on any remotely similar image, but simply based on how similar that image is to the \"support set\" it was fed.\n",
        "\n"
      ],
      "metadata": {
        "id": "MTCLe_ZzKsUj"
      }
    },
    {
      "cell_type": "code",
      "source": [
        "class ProtoNet(pl.LightningModule):\n",
        "\n",
        "    def __init__(self, proto_dim, lr):\n",
        "        \"\"\"\n",
        "        Inputs\n",
        "            proto_dim - Dimensionality of prototype feature space\n",
        "            lr - Learning rate of Adam optimizer\n",
        "        \"\"\"\n",
        "        super().__init__()\n",
        "        self.save_hyperparameters()\n",
        "        self.model = get_convnet(output_size=self.hparams.proto_dim)\n",
        "\n",
        "    def configure_optimizers(self):\n",
        "        optimizer = optim.AdamW(self.parameters(), lr=self.hparams.lr)\n",
        "        scheduler = optim.lr_scheduler.MultiStepLR(\n",
        "            optimizer, milestones=[140, 180], gamma=0.1)\n",
        "        return [optimizer], [scheduler]\n",
        "\n",
        "    @staticmethod\n",
        "    def calculate_prototypes(features, targets):\n",
        "        # Given a stack of features vectors and labels, return class prototypes\n",
        "        # features - shape [N, proto_dim], targets - shape [N]\n",
        "        classes, _ = torch.unique(targets).sort()  # Determine which classes we have\n",
        "        prototypes = []\n",
        "        for c in classes:\n",
        "            p = features[torch.where(targets == c)[0]].mean(dim=0)  # Average class feature vectors\n",
        "            prototypes.append(p)\n",
        "        prototypes = torch.stack(prototypes, dim=0)\n",
        "        # Return the 'classes' tensor to know which prototype belongs to which class\n",
        "        return prototypes, classes\n",
        "\n",
        "    def classify_feats(self, prototypes, classes, feats, targets):\n",
        "        # Classify new examples with prototypes and return classification error\n",
        "        dist = torch.pow(prototypes[None, :] - feats[:, None], 2).sum(dim=2)  # Squared euclidean distance\n",
        "        preds = F.log_softmax(-dist, dim=1)\n",
        "        labels = (classes[None, :] == targets[:, None]).long().argmax(dim=-1)\n",
        "        acc = (preds.argmax(dim=1) == labels).float().mean()\n",
        "        return preds, labels, acc\n",
        "\n",
        "    def calculate_loss(self, batch, mode):\n",
        "        # Determine training loss for a given support and query set\n",
        "        imgs, targets = batch\n",
        "        features = self.model(imgs)  # Encode all images of support and query set\n",
        "        support_feats, query_feats, support_targets, query_targets = split_batch(features, targets)\n",
        "        prototypes, classes = ProtoNet.calculate_prototypes(support_feats, support_targets)\n",
        "        preds, labels, acc = self.classify_feats(prototypes, classes, query_feats, query_targets)\n",
        "        loss = F.cross_entropy(preds, labels)\n",
        "\n",
        "        self.log(f\"{mode}_loss\", loss)\n",
        "        self.log(f\"{mode}_acc\", acc)\n",
        "        return loss\n",
        "\n",
        "    def training_step(self, batch, batch_idx):\n",
        "        return self.calculate_loss(batch, mode=\"train\")\n",
        "\n",
        "    def validation_step(self, batch, batch_idx):\n",
        "        _ = self.calculate_loss(batch, mode=\"val\")"
      ],
      "metadata": {
        "id": "PdFJCDYU_b9-"
      },
      "execution_count": null,
      "outputs": []
    },
    {
      "cell_type": "code",
      "source": [
        "def train_model(model_class, train_loader, val_loader, **kwargs):\n",
        "    trainer = pl.Trainer(default_root_dir=os.path.join(CHECKPOINT_PATH, model_class.__name__),\n",
        "                         accelerator=\"gpu\" if str(device).startswith(\"cuda\") else \"cpu\",\n",
        "                         devices=1,\n",
        "                         max_epochs=200,\n",
        "                         callbacks=[ModelCheckpoint(save_weights_only=True, mode=\"max\", monitor=\"val_acc\"),\n",
        "                                    LearningRateMonitor(\"epoch\")],\n",
        "                         enable_progress_bar=False)\n",
        "    trainer.logger._default_hp_metric = None\n",
        "\n",
        "    # Check whether pretrained model exists. If yes, load it and skip training\n",
        "    pretrained_filename = os.path.join(CHECKPOINT_PATH, model_class.__name__ + \".ckpt\")\n",
        "    if os.path.isfile(pretrained_filename):\n",
        "        print(f\"Found pretrained model at {pretrained_filename}, loading...\")\n",
        "        # Automatically loads the model with the saved hyperparameters\n",
        "        model = model_class.load_from_checkpoint(pretrained_filename)\n",
        "    else:\n",
        "        pl.seed_everything(42)  # To be reproducible\n",
        "        model = model_class(**kwargs)\n",
        "        trainer.fit(model, train_loader, val_loader)\n",
        "        model = model_class.load_from_checkpoint(\n",
        "            trainer.checkpoint_callback.best_model_path\n",
        "        )  # Load the best checkpoint after training\n",
        "\n",
        "    return model\n"
      ],
      "metadata": {
        "id": "uHlXD69w_lL9"
      },
      "execution_count": null,
      "outputs": []
    },
    {
      "cell_type": "code",
      "source": [
        "protonet_model = train_model(ProtoNet,\n",
        "                             proto_dim=64,\n",
        "                             lr=2e-4,\n",
        "                             train_loader=train_data_loader,\n",
        "                             val_loader=val_data_loader)"
      ],
      "metadata": {
        "colab": {
          "base_uri": "https://localhost:8080/"
        },
        "id": "hedrFMGs_qk3",
        "outputId": "ada2bc40-463d-440b-d0dd-3115da96ec09"
      },
      "execution_count": null,
      "outputs": [
        {
          "output_type": "stream",
          "name": "stderr",
          "text": [
            "INFO:pytorch_lightning.utilities.rank_zero:GPU available: False, used: False\n",
            "INFO:pytorch_lightning.utilities.rank_zero:TPU available: False, using: 0 TPU cores\n",
            "INFO:pytorch_lightning.utilities.rank_zero:IPU available: False, using: 0 IPUs\n",
            "INFO:pytorch_lightning.utilities.rank_zero:HPU available: False, using: 0 HPUs\n",
            "INFO:pytorch_lightning.utilities.migration.utils:Lightning automatically upgraded your loaded checkpoint from v1.3.4 to v2.1.2. To apply the upgrade to your files permanently, run `python -m pytorch_lightning.utilities.upgrade_checkpoint ../saved_models/tutorial16/ProtoNet.ckpt`\n"
          ]
        },
        {
          "output_type": "stream",
          "name": "stdout",
          "text": [
            "Found pretrained model at ../saved_models/tutorial16/ProtoNet.ckpt, loading...\n"
          ]
        }
      ]
    },
    {
      "cell_type": "code",
      "source": [
        "@torch.no_grad()\n",
        "def test_proto_net(model, dataset, data_feats=None, k_shot=4):\n",
        "    \"\"\"\n",
        "    Inputs\n",
        "        model - Pretrained ProtoNet model\n",
        "        dataset - The dataset on which the test should be performed.\n",
        "                  Should be instance of ImageDataset\n",
        "        data_feats - The encoded features of all images in the dataset.\n",
        "                     If None, they will be newly calculated, and returned\n",
        "                     for later usage.\n",
        "        k_shot - Number of examples per class in the support set.\n",
        "    \"\"\"\n",
        "    model = model.to(device)\n",
        "    model.eval()\n",
        "    num_classes = dataset.targets.unique().shape[0]\n",
        "    exmps_per_class = dataset.targets.shape[0]//num_classes  # We assume uniform example distribution here\n",
        "\n",
        "    # The encoder network remains unchanged across k-shot settings. Hence, we only need\n",
        "    # to extract the features for all images once.\n",
        "    if data_feats is None:\n",
        "        # Dataset preparation\n",
        "        dataloader = data.DataLoader(dataset, batch_size=128, num_workers=4, shuffle=False, drop_last=False)\n",
        "\n",
        "        img_features = []\n",
        "        img_targets = []\n",
        "        for imgs, targets in tqdm(dataloader, \"Extracting image features\", leave=False):\n",
        "            imgs = imgs.to(device)\n",
        "            feats = model.model(imgs)\n",
        "            img_features.append(feats.detach().cpu())\n",
        "            img_targets.append(targets)\n",
        "        img_features = torch.cat(img_features, dim=0)\n",
        "        img_targets = torch.cat(img_targets, dim=0)\n",
        "        # Sort by classes, so that we obtain tensors of shape [num_classes, exmps_per_class, ...]\n",
        "        # Makes it easier to process later\n",
        "        img_targets, sort_idx = img_targets.sort()\n",
        "        img_targets = img_targets.reshape(num_classes, exmps_per_class).transpose(0, 1)\n",
        "        img_features = img_features[sort_idx].reshape(num_classes, exmps_per_class, -1).transpose(0, 1)\n",
        "    else:\n",
        "        img_features, img_targets = data_feats\n",
        "\n",
        "    # We iterate through the full dataset in two manners. First, to select the k-shot batch.\n",
        "    # Second, the evaluate the model on all other examples\n",
        "    accuracies = []\n",
        "    for k_idx in tqdm(range(0, img_features.shape[0], k_shot), \"Evaluating prototype classification\", leave=False):\n",
        "        # Select support set and calculate prototypes\n",
        "        k_img_feats, k_targets = img_features[k_idx:k_idx+k_shot].flatten(0,1), img_targets[k_idx:k_idx+k_shot].flatten(0,1)\n",
        "        prototypes, proto_classes = model.calculate_prototypes(k_img_feats, k_targets)\n",
        "        # Evaluate accuracy on the rest of the dataset\n",
        "        batch_acc = 0\n",
        "        for e_idx in range(0, img_features.shape[0], k_shot):\n",
        "            if k_idx == e_idx:  # Do not evaluate on the support set examples\n",
        "                continue\n",
        "            e_img_feats, e_targets = img_features[e_idx:e_idx+k_shot].flatten(0,1), img_targets[e_idx:e_idx+k_shot].flatten(0,1)\n",
        "            _, _, acc = model.classify_feats(prototypes, proto_classes, e_img_feats, e_targets)\n",
        "            batch_acc += acc.item()\n",
        "        batch_acc /= img_features.shape[0]//k_shot-1\n",
        "        accuracies.append(batch_acc)\n",
        "\n",
        "    return (mean(accuracies), stdev(accuracies)), (img_features, img_targets)\n"
      ],
      "metadata": {
        "id": "eBt7dDgCB7LY"
      },
      "execution_count": null,
      "outputs": []
    },
    {
      "cell_type": "code",
      "source": [
        "#We will now iterate over different values of k_shot\n",
        "#(i.e. the number of samples per class for few shot learning)\n",
        "\n",
        "accuracies = dict()\n",
        "data_feats = None\n",
        "for k in [2, 4, 6, 8, 10]: #Here selecting 2-4-8-10 samples per class.\n",
        "    accuracies[k], data_feats = test_proto_net(protonet_model, test_set, data_feats=data_feats, k_shot=k)\n",
        "    print(f\"Accuracy for k={k}: {100.0*accuracies[k][0]:4.2f}% (+-{100*accuracies[k][1]:4.2f}%)\")"
      ],
      "metadata": {
        "id": "W5QTXEP7Dbby",
        "colab": {
          "base_uri": "https://localhost:8080/",
          "height": 263,
          "referenced_widgets": [
            "2ce68723647843c99ae84e685a10c8d8",
            "705ac0dcccef424b8879c0bdcad30389",
            "0f1e666e551b4feabdbbd740494e3a2e",
            "2bb636f2ce2f44f4aa898345d12004ad",
            "21db723de26c434088541db6cc28bd59",
            "dee89471738f4ce3b28bf124ef61c81a",
            "6b0bf497d65a46bfa2606b2839ef5dc7",
            "9aa9e9e30b7e43a89600ab77c6ae033c",
            "f819aaf46e3640a99a751935ecf0a6c0",
            "950a1193cd064197b9b41e612ea20d31",
            "f5bf40f7d2894914ac02819c9f9537e5",
            "a646ae1ed1f9409fa6d45e11cc9e3e51",
            "09ba8d7ee85c4e50bd2572161257452b",
            "ca21c11bbceb4fbe8121c154e5d1aa03",
            "3b31bd0713724bdd9bfe6f8c99c7d766",
            "def48191cd0a4907ae84467fa1c9a3d4",
            "59a671373b0943a6bdbd986726fe8d2f",
            "6cd0cbad7d134cd19802ad181d75915b",
            "2c7935bf6fa94dadbcd2a48c872d31e7",
            "a2bda760769d4e3b81875809e616aa2a",
            "5fa5d5fac81340ba9390ab948e8af7bb",
            "42295a9cf9044307a6f33951844b038c",
            "c6baaf468f544b339446d84937e833ae",
            "72dfa1307f094c23ac6024936f17e848",
            "76ea7a481ba84aa8ab8edfef283db2bb",
            "ff5dabdb99f74dc2a443ea67614058b0",
            "e6655f7f481a4b45af95db5f5d4b4050",
            "93a95d7a6f1e4f1b84aaf624d3c1a55f",
            "4a6a125d75b1448ea76469568f422d8d",
            "4dc58ff5db474a4e82a06c4e7dafb272",
            "60339fb9876741b4a020547e1d156ffa",
            "d8fa0cb0470a4697a797a63913ec6982",
            "7ea3fca45a1041c6a30c821b53715d47",
            "9ef3497611234c359908a07a4009cd91",
            "69bec9f858e24f198badb4fbb8d0d7dc",
            "6e8475b9cf5449ff8f8aa472bf4db81d",
            "45c43e6cceb043e39e2ffb54590c2961",
            "ba4b16da24c549ffb16b646c6371c875",
            "855ab4bb37884bda9d1bc654bf3ee43e",
            "7c23a5a6529542e587d9a77f8504505f",
            "cad85c0883de49e98763281030ec7c9c",
            "e270d7b423a34d999ab457b999549718",
            "ad4b3d4b2b234fd8990c939d2090fdba",
            "c94aa458dcc84af981809696938a181e",
            "35fa7531bb6c45b09e290579d08c7f2f",
            "6c285588f88440d49c861c3ddf012c92",
            "cfda006916294347bdc8e2d3fbfddeb2",
            "b6730a0d8840485289da70b5743a6f87",
            "5b6675c0d0ac456ebf0947d61e0902a1",
            "730d1f3066b94568a497138d58f4afa1",
            "44e392db17f44553af95c697f977065c",
            "2db115a35b58452892b58ca8583d96e2",
            "2ee0fb18f94d4089b80fbe27b8ec813f",
            "056dc52f1a06491fb545fc60c3816ae0",
            "6c12f4b3b5b441888add1e2c70b607b1",
            "dc7b6f050cb94264ac35b5bd28ff43cc",
            "ae5c200a8b09469b9cf5e813a78b0cbd",
            "8ddbe7ca91b2436bb70f42b3620264f5",
            "b05447ace9134ea29dbce7593623a9ad",
            "51d4824fde614fb78995fb1ff517f753",
            "ca84735cbeb9403989816ad8f53ac611",
            "b784334ce2f74dfe84dac7ea72a5a1b4",
            "3ad8fb14568048109ed7e806649e1797",
            "f5a191bda1fd40bcaa61df78e5d8dd95",
            "9a0346abc9d34fbf82ad0f5e24f23698",
            "791aa512ed1941bfb9cf7fda85493e53"
          ]
        },
        "outputId": "9483ee3e-06ae-4db8-c13e-a5d1d799f97a"
      },
      "execution_count": null,
      "outputs": [
        {
          "output_type": "stream",
          "name": "stderr",
          "text": [
            "/usr/local/lib/python3.10/dist-packages/torchvision/transforms/functional.py:1603: UserWarning: The default value of the antialias parameter of all the resizing transforms (Resize(), RandomResizedCrop(), etc.) will change from None to True in v0.17, in order to be consistent across the PIL and Tensor backends. To suppress this warning, directly pass antialias=True (recommended, future default), antialias=None (current default, which means False for Tensors and True for PIL), or antialias=False (only works on Tensors - PIL will still use antialiasing). This also applies if you are using the inference transforms from the models weights: update the call to weights.transforms(antialias=True).\n",
            "  warnings.warn(\n",
            "/usr/local/lib/python3.10/dist-packages/torchvision/transforms/functional.py:1603: UserWarning: The default value of the antialias parameter of all the resizing transforms (Resize(), RandomResizedCrop(), etc.) will change from None to True in v0.17, in order to be consistent across the PIL and Tensor backends. To suppress this warning, directly pass antialias=True (recommended, future default), antialias=None (current default, which means False for Tensors and True for PIL), or antialias=False (only works on Tensors - PIL will still use antialiasing). This also applies if you are using the inference transforms from the models weights: update the call to weights.transforms(antialias=True).\n",
            "  warnings.warn(\n"
          ]
        },
        {
          "output_type": "display_data",
          "data": {
            "text/plain": [
              "Extracting image features:   0%|          | 0/2 [00:00<?, ?it/s]"
            ],
            "application/vnd.jupyter.widget-view+json": {
              "version_major": 2,
              "version_minor": 0,
              "model_id": "2ce68723647843c99ae84e685a10c8d8"
            }
          },
          "metadata": {}
        },
        {
          "output_type": "stream",
          "name": "stderr",
          "text": [
            "/usr/local/lib/python3.10/dist-packages/torchvision/transforms/functional.py:1603: UserWarning: The default value of the antialias parameter of all the resizing transforms (Resize(), RandomResizedCrop(), etc.) will change from None to True in v0.17, in order to be consistent across the PIL and Tensor backends. To suppress this warning, directly pass antialias=True (recommended, future default), antialias=None (current default, which means False for Tensors and True for PIL), or antialias=False (only works on Tensors - PIL will still use antialiasing). This also applies if you are using the inference transforms from the models weights: update the call to weights.transforms(antialias=True).\n",
            "  warnings.warn(\n",
            "/usr/local/lib/python3.10/dist-packages/torchvision/transforms/functional.py:1603: UserWarning: The default value of the antialias parameter of all the resizing transforms (Resize(), RandomResizedCrop(), etc.) will change from None to True in v0.17, in order to be consistent across the PIL and Tensor backends. To suppress this warning, directly pass antialias=True (recommended, future default), antialias=None (current default, which means False for Tensors and True for PIL), or antialias=False (only works on Tensors - PIL will still use antialiasing). This also applies if you are using the inference transforms from the models weights: update the call to weights.transforms(antialias=True).\n",
            "  warnings.warn(\n"
          ]
        },
        {
          "output_type": "display_data",
          "data": {
            "text/plain": [
              "Evaluating prototype classification:   0%|          | 0/12 [00:00<?, ?it/s]"
            ],
            "application/vnd.jupyter.widget-view+json": {
              "version_major": 2,
              "version_minor": 0,
              "model_id": "a646ae1ed1f9409fa6d45e11cc9e3e51"
            }
          },
          "metadata": {}
        },
        {
          "output_type": "stream",
          "name": "stdout",
          "text": [
            "Accuracy for k=2: 16.32% (+-2.96%)\n"
          ]
        },
        {
          "output_type": "display_data",
          "data": {
            "text/plain": [
              "Evaluating prototype classification:   0%|          | 0/6 [00:00<?, ?it/s]"
            ],
            "application/vnd.jupyter.widget-view+json": {
              "version_major": 2,
              "version_minor": 0,
              "model_id": "c6baaf468f544b339446d84937e833ae"
            }
          },
          "metadata": {}
        },
        {
          "output_type": "stream",
          "name": "stdout",
          "text": [
            "Accuracy for k=4: 21.12% (+-4.24%)\n"
          ]
        },
        {
          "output_type": "display_data",
          "data": {
            "text/plain": [
              "Evaluating prototype classification:   0%|          | 0/4 [00:00<?, ?it/s]"
            ],
            "application/vnd.jupyter.widget-view+json": {
              "version_major": 2,
              "version_minor": 0,
              "model_id": "9ef3497611234c359908a07a4009cd91"
            }
          },
          "metadata": {}
        },
        {
          "output_type": "stream",
          "name": "stdout",
          "text": [
            "Accuracy for k=6: 28.26% (+-1.86%)\n"
          ]
        },
        {
          "output_type": "display_data",
          "data": {
            "text/plain": [
              "Evaluating prototype classification:   0%|          | 0/3 [00:00<?, ?it/s]"
            ],
            "application/vnd.jupyter.widget-view+json": {
              "version_major": 2,
              "version_minor": 0,
              "model_id": "35fa7531bb6c45b09e290579d08c7f2f"
            }
          },
          "metadata": {}
        },
        {
          "output_type": "stream",
          "name": "stdout",
          "text": [
            "Accuracy for k=8: 34.92% (+-4.17%)\n"
          ]
        },
        {
          "output_type": "display_data",
          "data": {
            "text/plain": [
              "Evaluating prototype classification:   0%|          | 0/3 [00:00<?, ?it/s]"
            ],
            "application/vnd.jupyter.widget-view+json": {
              "version_major": 2,
              "version_minor": 0,
              "model_id": "dc7b6f050cb94264ac35b5bd28ff43cc"
            }
          },
          "metadata": {}
        },
        {
          "output_type": "stream",
          "name": "stdout",
          "text": [
            "Accuracy for k=10: 37.96% (+-8.41%)\n"
          ]
        }
      ]
    },
    {
      "cell_type": "code",
      "source": [
        "#We will now plot the accuracy for each different value of k_shot.\n",
        "#We naturally expect to have a higher accuarcy the more samples we have per class\n",
        "\n",
        "def plot_few_shot(acc_dict, name, color=None, ax=None):\n",
        "    sns.set(style=\"whitegrid\")\n",
        "    if ax is None:\n",
        "        fig, ax = plt.subplots(figsize=(8, 5))\n",
        "    ks = sorted(list(acc_dict.keys()))\n",
        "    mean_accs = [acc_dict[k][0] for k in ks]\n",
        "    std_accs = [acc_dict[k][1] for k in ks]\n",
        "\n",
        "    # Plotting\n",
        "    ax.plot(ks, mean_accs, marker='o', markersize=8, label=name, color=color, markeredgecolor='black', linewidth=3)\n",
        "    ax.set_xlim([ks[0] - 1, ks[-1] + 1])\n",
        "    ax.set_xlabel(\"Number of shots per class\", weight='bold', fontsize=12)\n",
        "    ax.set_ylabel(\"Accuracy\", weight='bold', fontsize=12)\n",
        "\n",
        "    # Title adjustments for better readability\n",
        "    title = f\"Few-Shot Performance - {name}\"\n",
        "    ax.set_title(title, weight='bold', fontsize=14)\n",
        "\n",
        "    # Legend\n",
        "    ax.legend(loc='lower right', fontsize=10)\n",
        "\n",
        "    ax.tick_params(axis='both', which='major', labelsize=10)\n",
        "\n",
        "    return ax\n"
      ],
      "metadata": {
        "id": "3ZE6FxJYvjQG"
      },
      "execution_count": null,
      "outputs": []
    },
    {
      "cell_type": "code",
      "source": [
        "ax = plot_few_shot(accuracies, name=\"ProtoNet Pre-trained Model\", color=\"C1\")\n",
        "plt.show()\n",
        "plt.close()"
      ],
      "metadata": {
        "colab": {
          "base_uri": "https://localhost:8080/",
          "height": 1173
        },
        "id": "sxsPuKy6lJry",
        "outputId": "238f1c31-d15b-4527-8f77-a998f210818c"
      },
      "execution_count": null,
      "outputs": [
        {
          "output_type": "stream",
          "name": "stderr",
          "text": [
            "Exception in thread QueueFeederThread:\n",
            "Traceback (most recent call last):\n",
            "  File \"/usr/lib/python3.10/multiprocessing/queues.py\", line 239, in _feed\n",
            "    reader_close()\n",
            "  File \"/usr/lib/python3.10/multiprocessing/connection.py\", line 177, in close\n",
            "    self._close()\n",
            "  File \"/usr/lib/python3.10/multiprocessing/connection.py\", line 361, in _close\n",
            "    _close(self._handle)\n",
            "OSError: [Errno 9] Bad file descriptor\n",
            "\n",
            "During handling of the above exception, another exception occurred:\n",
            "\n",
            "Traceback (most recent call last):\n",
            "  File \"/usr/lib/python3.10/threading.py\", line 1016, in _bootstrap_inner\n",
            "    self.run()\n",
            "  File \"/usr/lib/python3.10/threading.py\", line 953, in run\n",
            "    self._target(*self._args, **self._kwargs)\n",
            "  File \"/usr/lib/python3.10/multiprocessing/queues.py\", line 271, in _feed\n",
            "    queue_sem.release()\n",
            "ValueError: semaphore or lock released too many times\n",
            "Exception in thread QueueFeederThread:\n",
            "Traceback (most recent call last):\n",
            "  File \"/usr/lib/python3.10/multiprocessing/queues.py\", line 239, in _feed\n",
            "    reader_close()\n",
            "  File \"/usr/lib/python3.10/multiprocessing/connection.py\", line 177, in close\n",
            "    self._close()\n",
            "  File \"/usr/lib/python3.10/multiprocessing/connection.py\", line 361, in _close\n",
            "    _close(self._handle)\n",
            "OSError: [Errno 9] Bad file descriptor\n",
            "\n",
            "During handling of the above exception, another exception occurred:\n",
            "\n",
            "Traceback (most recent call last):\n",
            "  File \"/usr/lib/python3.10/threading.py\", line 1016, in _bootstrap_inner\n",
            "    self.run()\n",
            "  File \"/usr/lib/python3.10/threading.py\", line 953, in run\n",
            "    self._target(*self._args, **self._kwargs)\n",
            "  File \"/usr/lib/python3.10/multiprocessing/queues.py\", line 271, in _feed\n",
            "    queue_sem.release()\n",
            "ValueError: semaphore or lock released too many times\n"
          ]
        },
        {
          "output_type": "display_data",
          "data": {
            "text/plain": [
              "<Figure size 800x500 with 1 Axes>"
            ],
            "image/svg+xml": "<?xml version=\"1.0\" encoding=\"utf-8\" standalone=\"no\"?>\n<!DOCTYPE svg PUBLIC \"-//W3C//DTD SVG 1.1//EN\"\n  \"http://www.w3.org/Graphics/SVG/1.1/DTD/svg11.dtd\">\n<svg xmlns:xlink=\"http://www.w3.org/1999/xlink\" width=\"514.541875pt\" height=\"343.029688pt\" viewBox=\"0 0 514.541875 343.029688\" xmlns=\"http://www.w3.org/2000/svg\" version=\"1.1\">\n <metadata>\n  <rdf:RDF xmlns:dc=\"http://purl.org/dc/elements/1.1/\" xmlns:cc=\"http://creativecommons.org/ns#\" xmlns:rdf=\"http://www.w3.org/1999/02/22-rdf-syntax-ns#\">\n   <cc:Work>\n    <dc:type rdf:resource=\"http://purl.org/dc/dcmitype/StillImage\"/>\n    <dc:date>2023-12-03T18:35:43.328979</dc:date>\n    <dc:format>image/svg+xml</dc:format>\n    <dc:creator>\n     <cc:Agent>\n      <dc:title>Matplotlib v3.7.1, https://matplotlib.org/</dc:title>\n     </cc:Agent>\n    </dc:creator>\n   </cc:Work>\n  </rdf:RDF>\n </metadata>\n <defs>\n  <style type=\"text/css\">*{stroke-linejoin: round; stroke-linecap: butt}</style>\n </defs>\n <g id=\"figure_1\">\n  <g id=\"patch_1\">\n   <path d=\"M 0 343.029688 \nL 514.541875 343.029688 \nL 514.541875 0 \nL 0 0 \nz\n\" style=\"fill: #ffffff\"/>\n  </g>\n  <g id=\"axes_1\">\n   <g id=\"patch_2\">\n    <path d=\"M 60.941875 301.037813 \nL 507.341875 301.037813 \nL 507.341875 23.837812 \nL 60.941875 23.837812 \nz\n\" style=\"fill: #ffffff\"/>\n   </g>\n   <g id=\"matplotlib.axis_1\">\n    <g id=\"xtick_1\">\n     <g id=\"line2d_1\">\n      <path d=\"M 105.581875 301.037813 \nL 105.581875 23.837812 \n\" clip-path=\"url(#pdfec9b9636)\" style=\"fill: none; stroke: #cccccc; stroke-linecap: round\"/>\n     </g>\n     <g id=\"text_1\">\n      <!-- 2 -->\n      <g style=\"fill: #262626\" transform=\"translate(102.400625 318.13625) scale(0.1 -0.1)\">\n       <defs>\n        <path id=\"DejaVuSans-32\" d=\"M 1228 531 \nL 3431 531 \nL 3431 0 \nL 469 0 \nL 469 531 \nQ 828 903 1448 1529 \nQ 2069 2156 2228 2338 \nQ 2531 2678 2651 2914 \nQ 2772 3150 2772 3378 \nQ 2772 3750 2511 3984 \nQ 2250 4219 1831 4219 \nQ 1534 4219 1204 4116 \nQ 875 4013 500 3803 \nL 500 4441 \nQ 881 4594 1212 4672 \nQ 1544 4750 1819 4750 \nQ 2544 4750 2975 4387 \nQ 3406 4025 3406 3419 \nQ 3406 3131 3298 2873 \nQ 3191 2616 2906 2266 \nQ 2828 2175 2409 1742 \nQ 1991 1309 1228 531 \nz\n\" transform=\"scale(0.015625)\"/>\n       </defs>\n       <use xlink:href=\"#DejaVuSans-32\"/>\n      </g>\n     </g>\n    </g>\n    <g id=\"xtick_2\">\n     <g id=\"line2d_2\">\n      <path d=\"M 194.861875 301.037813 \nL 194.861875 23.837812 \n\" clip-path=\"url(#pdfec9b9636)\" style=\"fill: none; stroke: #cccccc; stroke-linecap: round\"/>\n     </g>\n     <g id=\"text_2\">\n      <!-- 4 -->\n      <g style=\"fill: #262626\" transform=\"translate(191.680625 318.13625) scale(0.1 -0.1)\">\n       <defs>\n        <path id=\"DejaVuSans-34\" d=\"M 2419 4116 \nL 825 1625 \nL 2419 1625 \nL 2419 4116 \nz\nM 2253 4666 \nL 3047 4666 \nL 3047 1625 \nL 3713 1625 \nL 3713 1100 \nL 3047 1100 \nL 3047 0 \nL 2419 0 \nL 2419 1100 \nL 313 1100 \nL 313 1709 \nL 2253 4666 \nz\n\" transform=\"scale(0.015625)\"/>\n       </defs>\n       <use xlink:href=\"#DejaVuSans-34\"/>\n      </g>\n     </g>\n    </g>\n    <g id=\"xtick_3\">\n     <g id=\"line2d_3\">\n      <path d=\"M 284.141875 301.037813 \nL 284.141875 23.837812 \n\" clip-path=\"url(#pdfec9b9636)\" style=\"fill: none; stroke: #cccccc; stroke-linecap: round\"/>\n     </g>\n     <g id=\"text_3\">\n      <!-- 6 -->\n      <g style=\"fill: #262626\" transform=\"translate(280.960625 318.13625) scale(0.1 -0.1)\">\n       <defs>\n        <path id=\"DejaVuSans-36\" d=\"M 2113 2584 \nQ 1688 2584 1439 2293 \nQ 1191 2003 1191 1497 \nQ 1191 994 1439 701 \nQ 1688 409 2113 409 \nQ 2538 409 2786 701 \nQ 3034 994 3034 1497 \nQ 3034 2003 2786 2293 \nQ 2538 2584 2113 2584 \nz\nM 3366 4563 \nL 3366 3988 \nQ 3128 4100 2886 4159 \nQ 2644 4219 2406 4219 \nQ 1781 4219 1451 3797 \nQ 1122 3375 1075 2522 \nQ 1259 2794 1537 2939 \nQ 1816 3084 2150 3084 \nQ 2853 3084 3261 2657 \nQ 3669 2231 3669 1497 \nQ 3669 778 3244 343 \nQ 2819 -91 2113 -91 \nQ 1303 -91 875 529 \nQ 447 1150 447 2328 \nQ 447 3434 972 4092 \nQ 1497 4750 2381 4750 \nQ 2619 4750 2861 4703 \nQ 3103 4656 3366 4563 \nz\n\" transform=\"scale(0.015625)\"/>\n       </defs>\n       <use xlink:href=\"#DejaVuSans-36\"/>\n      </g>\n     </g>\n    </g>\n    <g id=\"xtick_4\">\n     <g id=\"line2d_4\">\n      <path d=\"M 373.421875 301.037813 \nL 373.421875 23.837812 \n\" clip-path=\"url(#pdfec9b9636)\" style=\"fill: none; stroke: #cccccc; stroke-linecap: round\"/>\n     </g>\n     <g id=\"text_4\">\n      <!-- 8 -->\n      <g style=\"fill: #262626\" transform=\"translate(370.240625 318.13625) scale(0.1 -0.1)\">\n       <defs>\n        <path id=\"DejaVuSans-38\" d=\"M 2034 2216 \nQ 1584 2216 1326 1975 \nQ 1069 1734 1069 1313 \nQ 1069 891 1326 650 \nQ 1584 409 2034 409 \nQ 2484 409 2743 651 \nQ 3003 894 3003 1313 \nQ 3003 1734 2745 1975 \nQ 2488 2216 2034 2216 \nz\nM 1403 2484 \nQ 997 2584 770 2862 \nQ 544 3141 544 3541 \nQ 544 4100 942 4425 \nQ 1341 4750 2034 4750 \nQ 2731 4750 3128 4425 \nQ 3525 4100 3525 3541 \nQ 3525 3141 3298 2862 \nQ 3072 2584 2669 2484 \nQ 3125 2378 3379 2068 \nQ 3634 1759 3634 1313 \nQ 3634 634 3220 271 \nQ 2806 -91 2034 -91 \nQ 1263 -91 848 271 \nQ 434 634 434 1313 \nQ 434 1759 690 2068 \nQ 947 2378 1403 2484 \nz\nM 1172 3481 \nQ 1172 3119 1398 2916 \nQ 1625 2713 2034 2713 \nQ 2441 2713 2670 2916 \nQ 2900 3119 2900 3481 \nQ 2900 3844 2670 4047 \nQ 2441 4250 2034 4250 \nQ 1625 4250 1398 4047 \nQ 1172 3844 1172 3481 \nz\n\" transform=\"scale(0.015625)\"/>\n       </defs>\n       <use xlink:href=\"#DejaVuSans-38\"/>\n      </g>\n     </g>\n    </g>\n    <g id=\"xtick_5\">\n     <g id=\"line2d_5\">\n      <path d=\"M 462.701875 301.037813 \nL 462.701875 23.837812 \n\" clip-path=\"url(#pdfec9b9636)\" style=\"fill: none; stroke: #cccccc; stroke-linecap: round\"/>\n     </g>\n     <g id=\"text_5\">\n      <!-- 10 -->\n      <g style=\"fill: #262626\" transform=\"translate(456.339375 318.13625) scale(0.1 -0.1)\">\n       <defs>\n        <path id=\"DejaVuSans-31\" d=\"M 794 531 \nL 1825 531 \nL 1825 4091 \nL 703 3866 \nL 703 4441 \nL 1819 4666 \nL 2450 4666 \nL 2450 531 \nL 3481 531 \nL 3481 0 \nL 794 0 \nL 794 531 \nz\n\" transform=\"scale(0.015625)\"/>\n        <path id=\"DejaVuSans-30\" d=\"M 2034 4250 \nQ 1547 4250 1301 3770 \nQ 1056 3291 1056 2328 \nQ 1056 1369 1301 889 \nQ 1547 409 2034 409 \nQ 2525 409 2770 889 \nQ 3016 1369 3016 2328 \nQ 3016 3291 2770 3770 \nQ 2525 4250 2034 4250 \nz\nM 2034 4750 \nQ 2819 4750 3233 4129 \nQ 3647 3509 3647 2328 \nQ 3647 1150 3233 529 \nQ 2819 -91 2034 -91 \nQ 1250 -91 836 529 \nQ 422 1150 422 2328 \nQ 422 3509 836 4129 \nQ 1250 4750 2034 4750 \nz\n\" transform=\"scale(0.015625)\"/>\n       </defs>\n       <use xlink:href=\"#DejaVuSans-31\"/>\n       <use xlink:href=\"#DejaVuSans-30\" x=\"63.623047\"/>\n      </g>\n     </g>\n    </g>\n    <g id=\"text_6\">\n     <!-- Number of shots per class -->\n     <g style=\"fill: #262626\" transform=\"translate(195.655937 333.334063) scale(0.12 -0.12)\">\n      <defs>\n       <path id=\"DejaVuSans-Bold-4e\" d=\"M 588 4666 \nL 1931 4666 \nL 3628 1466 \nL 3628 4666 \nL 4769 4666 \nL 4769 0 \nL 3425 0 \nL 1728 3200 \nL 1728 0 \nL 588 0 \nL 588 4666 \nz\n\" transform=\"scale(0.015625)\"/>\n       <path id=\"DejaVuSans-Bold-75\" d=\"M 500 1363 \nL 500 3500 \nL 1625 3500 \nL 1625 3150 \nQ 1625 2866 1622 2436 \nQ 1619 2006 1619 1863 \nQ 1619 1441 1641 1255 \nQ 1663 1069 1716 984 \nQ 1784 875 1895 815 \nQ 2006 756 2150 756 \nQ 2500 756 2700 1025 \nQ 2900 1294 2900 1772 \nL 2900 3500 \nL 4019 3500 \nL 4019 0 \nL 2900 0 \nL 2900 506 \nQ 2647 200 2364 54 \nQ 2081 -91 1741 -91 \nQ 1134 -91 817 281 \nQ 500 653 500 1363 \nz\n\" transform=\"scale(0.015625)\"/>\n       <path id=\"DejaVuSans-Bold-6d\" d=\"M 3781 2919 \nQ 3994 3244 4286 3414 \nQ 4578 3584 4928 3584 \nQ 5531 3584 5847 3212 \nQ 6163 2841 6163 2131 \nL 6163 0 \nL 5038 0 \nL 5038 1825 \nQ 5041 1866 5042 1909 \nQ 5044 1953 5044 2034 \nQ 5044 2406 4934 2573 \nQ 4825 2741 4581 2741 \nQ 4263 2741 4089 2478 \nQ 3916 2216 3909 1719 \nL 3909 0 \nL 2784 0 \nL 2784 1825 \nQ 2784 2406 2684 2573 \nQ 2584 2741 2328 2741 \nQ 2006 2741 1831 2477 \nQ 1656 2213 1656 1722 \nL 1656 0 \nL 531 0 \nL 531 3500 \nL 1656 3500 \nL 1656 2988 \nQ 1863 3284 2130 3434 \nQ 2397 3584 2719 3584 \nQ 3081 3584 3359 3409 \nQ 3638 3234 3781 2919 \nz\n\" transform=\"scale(0.015625)\"/>\n       <path id=\"DejaVuSans-Bold-62\" d=\"M 2400 722 \nQ 2759 722 2948 984 \nQ 3138 1247 3138 1747 \nQ 3138 2247 2948 2509 \nQ 2759 2772 2400 2772 \nQ 2041 2772 1848 2508 \nQ 1656 2244 1656 1747 \nQ 1656 1250 1848 986 \nQ 2041 722 2400 722 \nz\nM 1656 2988 \nQ 1888 3294 2169 3439 \nQ 2450 3584 2816 3584 \nQ 3463 3584 3878 3070 \nQ 4294 2556 4294 1747 \nQ 4294 938 3878 423 \nQ 3463 -91 2816 -91 \nQ 2450 -91 2169 54 \nQ 1888 200 1656 506 \nL 1656 0 \nL 538 0 \nL 538 4863 \nL 1656 4863 \nL 1656 2988 \nz\n\" transform=\"scale(0.015625)\"/>\n       <path id=\"DejaVuSans-Bold-65\" d=\"M 4031 1759 \nL 4031 1441 \nL 1416 1441 \nQ 1456 1047 1700 850 \nQ 1944 653 2381 653 \nQ 2734 653 3104 758 \nQ 3475 863 3866 1075 \nL 3866 213 \nQ 3469 63 3072 -14 \nQ 2675 -91 2278 -91 \nQ 1328 -91 801 392 \nQ 275 875 275 1747 \nQ 275 2603 792 3093 \nQ 1309 3584 2216 3584 \nQ 3041 3584 3536 3087 \nQ 4031 2591 4031 1759 \nz\nM 2881 2131 \nQ 2881 2450 2695 2645 \nQ 2509 2841 2209 2841 \nQ 1884 2841 1681 2658 \nQ 1478 2475 1428 2131 \nL 2881 2131 \nz\n\" transform=\"scale(0.015625)\"/>\n       <path id=\"DejaVuSans-Bold-72\" d=\"M 3138 2547 \nQ 2991 2616 2845 2648 \nQ 2700 2681 2553 2681 \nQ 2122 2681 1889 2404 \nQ 1656 2128 1656 1613 \nL 1656 0 \nL 538 0 \nL 538 3500 \nL 1656 3500 \nL 1656 2925 \nQ 1872 3269 2151 3426 \nQ 2431 3584 2822 3584 \nQ 2878 3584 2943 3579 \nQ 3009 3575 3134 3559 \nL 3138 2547 \nz\n\" transform=\"scale(0.015625)\"/>\n       <path id=\"DejaVuSans-Bold-20\" transform=\"scale(0.015625)\"/>\n       <path id=\"DejaVuSans-Bold-6f\" d=\"M 2203 2784 \nQ 1831 2784 1636 2517 \nQ 1441 2250 1441 1747 \nQ 1441 1244 1636 976 \nQ 1831 709 2203 709 \nQ 2569 709 2762 976 \nQ 2956 1244 2956 1747 \nQ 2956 2250 2762 2517 \nQ 2569 2784 2203 2784 \nz\nM 2203 3584 \nQ 3106 3584 3614 3096 \nQ 4122 2609 4122 1747 \nQ 4122 884 3614 396 \nQ 3106 -91 2203 -91 \nQ 1297 -91 786 396 \nQ 275 884 275 1747 \nQ 275 2609 786 3096 \nQ 1297 3584 2203 3584 \nz\n\" transform=\"scale(0.015625)\"/>\n       <path id=\"DejaVuSans-Bold-66\" d=\"M 2841 4863 \nL 2841 4128 \nL 2222 4128 \nQ 1984 4128 1890 4042 \nQ 1797 3956 1797 3744 \nL 1797 3500 \nL 2753 3500 \nL 2753 2700 \nL 1797 2700 \nL 1797 0 \nL 678 0 \nL 678 2700 \nL 122 2700 \nL 122 3500 \nL 678 3500 \nL 678 3744 \nQ 678 4316 997 4589 \nQ 1316 4863 1984 4863 \nL 2841 4863 \nz\n\" transform=\"scale(0.015625)\"/>\n       <path id=\"DejaVuSans-Bold-73\" d=\"M 3272 3391 \nL 3272 2541 \nQ 2913 2691 2578 2766 \nQ 2244 2841 1947 2841 \nQ 1628 2841 1473 2761 \nQ 1319 2681 1319 2516 \nQ 1319 2381 1436 2309 \nQ 1553 2238 1856 2203 \nL 2053 2175 \nQ 2913 2066 3209 1816 \nQ 3506 1566 3506 1031 \nQ 3506 472 3093 190 \nQ 2681 -91 1863 -91 \nQ 1516 -91 1145 -36 \nQ 775 19 384 128 \nL 384 978 \nQ 719 816 1070 734 \nQ 1422 653 1784 653 \nQ 2113 653 2278 743 \nQ 2444 834 2444 1013 \nQ 2444 1163 2330 1236 \nQ 2216 1309 1875 1350 \nL 1678 1375 \nQ 931 1469 631 1722 \nQ 331 1975 331 2491 \nQ 331 3047 712 3315 \nQ 1094 3584 1881 3584 \nQ 2191 3584 2531 3537 \nQ 2872 3491 3272 3391 \nz\n\" transform=\"scale(0.015625)\"/>\n       <path id=\"DejaVuSans-Bold-68\" d=\"M 4056 2131 \nL 4056 0 \nL 2931 0 \nL 2931 347 \nL 2931 1625 \nQ 2931 2084 2911 2256 \nQ 2891 2428 2841 2509 \nQ 2775 2619 2662 2680 \nQ 2550 2741 2406 2741 \nQ 2056 2741 1856 2470 \nQ 1656 2200 1656 1722 \nL 1656 0 \nL 538 0 \nL 538 4863 \nL 1656 4863 \nL 1656 2988 \nQ 1909 3294 2193 3439 \nQ 2478 3584 2822 3584 \nQ 3428 3584 3742 3212 \nQ 4056 2841 4056 2131 \nz\n\" transform=\"scale(0.015625)\"/>\n       <path id=\"DejaVuSans-Bold-74\" d=\"M 1759 4494 \nL 1759 3500 \nL 2913 3500 \nL 2913 2700 \nL 1759 2700 \nL 1759 1216 \nQ 1759 972 1856 886 \nQ 1953 800 2241 800 \nL 2816 800 \nL 2816 0 \nL 1856 0 \nQ 1194 0 917 276 \nQ 641 553 641 1216 \nL 641 2700 \nL 84 2700 \nL 84 3500 \nL 641 3500 \nL 641 4494 \nL 1759 4494 \nz\n\" transform=\"scale(0.015625)\"/>\n       <path id=\"DejaVuSans-Bold-70\" d=\"M 1656 506 \nL 1656 -1331 \nL 538 -1331 \nL 538 3500 \nL 1656 3500 \nL 1656 2988 \nQ 1888 3294 2169 3439 \nQ 2450 3584 2816 3584 \nQ 3463 3584 3878 3070 \nQ 4294 2556 4294 1747 \nQ 4294 938 3878 423 \nQ 3463 -91 2816 -91 \nQ 2450 -91 2169 54 \nQ 1888 200 1656 506 \nz\nM 2400 2772 \nQ 2041 2772 1848 2508 \nQ 1656 2244 1656 1747 \nQ 1656 1250 1848 986 \nQ 2041 722 2400 722 \nQ 2759 722 2948 984 \nQ 3138 1247 3138 1747 \nQ 3138 2247 2948 2509 \nQ 2759 2772 2400 2772 \nz\n\" transform=\"scale(0.015625)\"/>\n       <path id=\"DejaVuSans-Bold-63\" d=\"M 3366 3391 \nL 3366 2478 \nQ 3138 2634 2908 2709 \nQ 2678 2784 2431 2784 \nQ 1963 2784 1702 2511 \nQ 1441 2238 1441 1747 \nQ 1441 1256 1702 982 \nQ 1963 709 2431 709 \nQ 2694 709 2930 787 \nQ 3166 866 3366 1019 \nL 3366 103 \nQ 3103 6 2833 -42 \nQ 2563 -91 2291 -91 \nQ 1344 -91 809 395 \nQ 275 881 275 1747 \nQ 275 2613 809 3098 \nQ 1344 3584 2291 3584 \nQ 2566 3584 2833 3536 \nQ 3100 3488 3366 3391 \nz\n\" transform=\"scale(0.015625)\"/>\n       <path id=\"DejaVuSans-Bold-6c\" d=\"M 538 4863 \nL 1656 4863 \nL 1656 0 \nL 538 0 \nL 538 4863 \nz\n\" transform=\"scale(0.015625)\"/>\n       <path id=\"DejaVuSans-Bold-61\" d=\"M 2106 1575 \nQ 1756 1575 1579 1456 \nQ 1403 1338 1403 1106 \nQ 1403 894 1545 773 \nQ 1688 653 1941 653 \nQ 2256 653 2472 879 \nQ 2688 1106 2688 1447 \nL 2688 1575 \nL 2106 1575 \nz\nM 3816 1997 \nL 3816 0 \nL 2688 0 \nL 2688 519 \nQ 2463 200 2181 54 \nQ 1900 -91 1497 -91 \nQ 953 -91 614 226 \nQ 275 544 275 1050 \nQ 275 1666 698 1953 \nQ 1122 2241 2028 2241 \nL 2688 2241 \nL 2688 2328 \nQ 2688 2594 2478 2717 \nQ 2269 2841 1825 2841 \nQ 1466 2841 1156 2769 \nQ 847 2697 581 2553 \nL 581 3406 \nQ 941 3494 1303 3539 \nQ 1666 3584 2028 3584 \nQ 2975 3584 3395 3211 \nQ 3816 2838 3816 1997 \nz\n\" transform=\"scale(0.015625)\"/>\n      </defs>\n      <use xlink:href=\"#DejaVuSans-Bold-4e\"/>\n      <use xlink:href=\"#DejaVuSans-Bold-75\" x=\"83.691406\"/>\n      <use xlink:href=\"#DejaVuSans-Bold-6d\" x=\"154.882812\"/>\n      <use xlink:href=\"#DejaVuSans-Bold-62\" x=\"259.082031\"/>\n      <use xlink:href=\"#DejaVuSans-Bold-65\" x=\"330.664062\"/>\n      <use xlink:href=\"#DejaVuSans-Bold-72\" x=\"398.486328\"/>\n      <use xlink:href=\"#DejaVuSans-Bold-20\" x=\"447.802734\"/>\n      <use xlink:href=\"#DejaVuSans-Bold-6f\" x=\"482.617188\"/>\n      <use xlink:href=\"#DejaVuSans-Bold-66\" x=\"551.318359\"/>\n      <use xlink:href=\"#DejaVuSans-Bold-20\" x=\"594.824219\"/>\n      <use xlink:href=\"#DejaVuSans-Bold-73\" x=\"629.638672\"/>\n      <use xlink:href=\"#DejaVuSans-Bold-68\" x=\"689.160156\"/>\n      <use xlink:href=\"#DejaVuSans-Bold-6f\" x=\"760.351562\"/>\n      <use xlink:href=\"#DejaVuSans-Bold-74\" x=\"829.052734\"/>\n      <use xlink:href=\"#DejaVuSans-Bold-73\" x=\"876.855469\"/>\n      <use xlink:href=\"#DejaVuSans-Bold-20\" x=\"936.376953\"/>\n      <use xlink:href=\"#DejaVuSans-Bold-70\" x=\"971.191406\"/>\n      <use xlink:href=\"#DejaVuSans-Bold-65\" x=\"1042.773438\"/>\n      <use xlink:href=\"#DejaVuSans-Bold-72\" x=\"1110.595703\"/>\n      <use xlink:href=\"#DejaVuSans-Bold-20\" x=\"1159.912109\"/>\n      <use xlink:href=\"#DejaVuSans-Bold-63\" x=\"1194.726562\"/>\n      <use xlink:href=\"#DejaVuSans-Bold-6c\" x=\"1254.003906\"/>\n      <use xlink:href=\"#DejaVuSans-Bold-61\" x=\"1288.28125\"/>\n      <use xlink:href=\"#DejaVuSans-Bold-73\" x=\"1355.761719\"/>\n      <use xlink:href=\"#DejaVuSans-Bold-73\" x=\"1415.283203\"/>\n     </g>\n    </g>\n   </g>\n   <g id=\"matplotlib.axis_2\">\n    <g id=\"ytick_1\">\n     <g id=\"line2d_6\">\n      <path d=\"M 60.941875 288.437817 \nL 507.341875 288.437817 \n\" clip-path=\"url(#pdfec9b9636)\" style=\"fill: none; stroke: #cccccc; stroke-linecap: round\"/>\n     </g>\n     <g id=\"text_7\">\n      <!-- 0.200 -->\n      <g style=\"fill: #262626\" transform=\"translate(22.81375 292.237036) scale(0.1 -0.1)\">\n       <defs>\n        <path id=\"DejaVuSans-2e\" d=\"M 684 794 \nL 1344 794 \nL 1344 0 \nL 684 0 \nL 684 794 \nz\n\" transform=\"scale(0.015625)\"/>\n       </defs>\n       <use xlink:href=\"#DejaVuSans-30\"/>\n       <use xlink:href=\"#DejaVuSans-2e\" x=\"63.623047\"/>\n       <use xlink:href=\"#DejaVuSans-32\" x=\"95.410156\"/>\n       <use xlink:href=\"#DejaVuSans-30\" x=\"159.033203\"/>\n       <use xlink:href=\"#DejaVuSans-30\" x=\"222.65625\"/>\n      </g>\n     </g>\n    </g>\n    <g id=\"ytick_2\">\n     <g id=\"line2d_7\">\n      <path d=\"M 60.941875 255.408692 \nL 507.341875 255.408692 \n\" clip-path=\"url(#pdfec9b9636)\" style=\"fill: none; stroke: #cccccc; stroke-linecap: round\"/>\n     </g>\n     <g id=\"text_8\">\n      <!-- 0.225 -->\n      <g style=\"fill: #262626\" transform=\"translate(22.81375 259.207911) scale(0.1 -0.1)\">\n       <defs>\n        <path id=\"DejaVuSans-35\" d=\"M 691 4666 \nL 3169 4666 \nL 3169 4134 \nL 1269 4134 \nL 1269 2991 \nQ 1406 3038 1543 3061 \nQ 1681 3084 1819 3084 \nQ 2600 3084 3056 2656 \nQ 3513 2228 3513 1497 \nQ 3513 744 3044 326 \nQ 2575 -91 1722 -91 \nQ 1428 -91 1123 -41 \nQ 819 9 494 109 \nL 494 744 \nQ 775 591 1075 516 \nQ 1375 441 1709 441 \nQ 2250 441 2565 725 \nQ 2881 1009 2881 1497 \nQ 2881 1984 2565 2268 \nQ 2250 2553 1709 2553 \nQ 1456 2553 1204 2497 \nQ 953 2441 691 2322 \nL 691 4666 \nz\n\" transform=\"scale(0.015625)\"/>\n       </defs>\n       <use xlink:href=\"#DejaVuSans-30\"/>\n       <use xlink:href=\"#DejaVuSans-2e\" x=\"63.623047\"/>\n       <use xlink:href=\"#DejaVuSans-32\" x=\"95.410156\"/>\n       <use xlink:href=\"#DejaVuSans-32\" x=\"159.033203\"/>\n       <use xlink:href=\"#DejaVuSans-35\" x=\"222.65625\"/>\n      </g>\n     </g>\n    </g>\n    <g id=\"ytick_3\">\n     <g id=\"line2d_8\">\n      <path d=\"M 60.941875 222.379567 \nL 507.341875 222.379567 \n\" clip-path=\"url(#pdfec9b9636)\" style=\"fill: none; stroke: #cccccc; stroke-linecap: round\"/>\n     </g>\n     <g id=\"text_9\">\n      <!-- 0.250 -->\n      <g style=\"fill: #262626\" transform=\"translate(22.81375 226.178785) scale(0.1 -0.1)\">\n       <use xlink:href=\"#DejaVuSans-30\"/>\n       <use xlink:href=\"#DejaVuSans-2e\" x=\"63.623047\"/>\n       <use xlink:href=\"#DejaVuSans-32\" x=\"95.410156\"/>\n       <use xlink:href=\"#DejaVuSans-35\" x=\"159.033203\"/>\n       <use xlink:href=\"#DejaVuSans-30\" x=\"222.65625\"/>\n      </g>\n     </g>\n    </g>\n    <g id=\"ytick_4\">\n     <g id=\"line2d_9\">\n      <path d=\"M 60.941875 189.350441 \nL 507.341875 189.350441 \n\" clip-path=\"url(#pdfec9b9636)\" style=\"fill: none; stroke: #cccccc; stroke-linecap: round\"/>\n     </g>\n     <g id=\"text_10\">\n      <!-- 0.275 -->\n      <g style=\"fill: #262626\" transform=\"translate(22.81375 193.14966) scale(0.1 -0.1)\">\n       <defs>\n        <path id=\"DejaVuSans-37\" d=\"M 525 4666 \nL 3525 4666 \nL 3525 4397 \nL 1831 0 \nL 1172 0 \nL 2766 4134 \nL 525 4134 \nL 525 4666 \nz\n\" transform=\"scale(0.015625)\"/>\n       </defs>\n       <use xlink:href=\"#DejaVuSans-30\"/>\n       <use xlink:href=\"#DejaVuSans-2e\" x=\"63.623047\"/>\n       <use xlink:href=\"#DejaVuSans-32\" x=\"95.410156\"/>\n       <use xlink:href=\"#DejaVuSans-37\" x=\"159.033203\"/>\n       <use xlink:href=\"#DejaVuSans-35\" x=\"222.65625\"/>\n      </g>\n     </g>\n    </g>\n    <g id=\"ytick_5\">\n     <g id=\"line2d_10\">\n      <path d=\"M 60.941875 156.321316 \nL 507.341875 156.321316 \n\" clip-path=\"url(#pdfec9b9636)\" style=\"fill: none; stroke: #cccccc; stroke-linecap: round\"/>\n     </g>\n     <g id=\"text_11\">\n      <!-- 0.300 -->\n      <g style=\"fill: #262626\" transform=\"translate(22.81375 160.120535) scale(0.1 -0.1)\">\n       <defs>\n        <path id=\"DejaVuSans-33\" d=\"M 2597 2516 \nQ 3050 2419 3304 2112 \nQ 3559 1806 3559 1356 \nQ 3559 666 3084 287 \nQ 2609 -91 1734 -91 \nQ 1441 -91 1130 -33 \nQ 819 25 488 141 \nL 488 750 \nQ 750 597 1062 519 \nQ 1375 441 1716 441 \nQ 2309 441 2620 675 \nQ 2931 909 2931 1356 \nQ 2931 1769 2642 2001 \nQ 2353 2234 1838 2234 \nL 1294 2234 \nL 1294 2753 \nL 1863 2753 \nQ 2328 2753 2575 2939 \nQ 2822 3125 2822 3475 \nQ 2822 3834 2567 4026 \nQ 2313 4219 1838 4219 \nQ 1578 4219 1281 4162 \nQ 984 4106 628 3988 \nL 628 4550 \nQ 988 4650 1302 4700 \nQ 1616 4750 1894 4750 \nQ 2613 4750 3031 4423 \nQ 3450 4097 3450 3541 \nQ 3450 3153 3228 2886 \nQ 3006 2619 2597 2516 \nz\n\" transform=\"scale(0.015625)\"/>\n       </defs>\n       <use xlink:href=\"#DejaVuSans-30\"/>\n       <use xlink:href=\"#DejaVuSans-2e\" x=\"63.623047\"/>\n       <use xlink:href=\"#DejaVuSans-33\" x=\"95.410156\"/>\n       <use xlink:href=\"#DejaVuSans-30\" x=\"159.033203\"/>\n       <use xlink:href=\"#DejaVuSans-30\" x=\"222.65625\"/>\n      </g>\n     </g>\n    </g>\n    <g id=\"ytick_6\">\n     <g id=\"line2d_11\">\n      <path d=\"M 60.941875 123.292191 \nL 507.341875 123.292191 \n\" clip-path=\"url(#pdfec9b9636)\" style=\"fill: none; stroke: #cccccc; stroke-linecap: round\"/>\n     </g>\n     <g id=\"text_12\">\n      <!-- 0.325 -->\n      <g style=\"fill: #262626\" transform=\"translate(22.81375 127.09141) scale(0.1 -0.1)\">\n       <use xlink:href=\"#DejaVuSans-30\"/>\n       <use xlink:href=\"#DejaVuSans-2e\" x=\"63.623047\"/>\n       <use xlink:href=\"#DejaVuSans-33\" x=\"95.410156\"/>\n       <use xlink:href=\"#DejaVuSans-32\" x=\"159.033203\"/>\n       <use xlink:href=\"#DejaVuSans-35\" x=\"222.65625\"/>\n      </g>\n     </g>\n    </g>\n    <g id=\"ytick_7\">\n     <g id=\"line2d_12\">\n      <path d=\"M 60.941875 90.263066 \nL 507.341875 90.263066 \n\" clip-path=\"url(#pdfec9b9636)\" style=\"fill: none; stroke: #cccccc; stroke-linecap: round\"/>\n     </g>\n     <g id=\"text_13\">\n      <!-- 0.350 -->\n      <g style=\"fill: #262626\" transform=\"translate(22.81375 94.062284) scale(0.1 -0.1)\">\n       <use xlink:href=\"#DejaVuSans-30\"/>\n       <use xlink:href=\"#DejaVuSans-2e\" x=\"63.623047\"/>\n       <use xlink:href=\"#DejaVuSans-33\" x=\"95.410156\"/>\n       <use xlink:href=\"#DejaVuSans-35\" x=\"159.033203\"/>\n       <use xlink:href=\"#DejaVuSans-30\" x=\"222.65625\"/>\n      </g>\n     </g>\n    </g>\n    <g id=\"ytick_8\">\n     <g id=\"line2d_13\">\n      <path d=\"M 60.941875 57.23394 \nL 507.341875 57.23394 \n\" clip-path=\"url(#pdfec9b9636)\" style=\"fill: none; stroke: #cccccc; stroke-linecap: round\"/>\n     </g>\n     <g id=\"text_14\">\n      <!-- 0.375 -->\n      <g style=\"fill: #262626\" transform=\"translate(22.81375 61.033159) scale(0.1 -0.1)\">\n       <use xlink:href=\"#DejaVuSans-30\"/>\n       <use xlink:href=\"#DejaVuSans-2e\" x=\"63.623047\"/>\n       <use xlink:href=\"#DejaVuSans-33\" x=\"95.410156\"/>\n       <use xlink:href=\"#DejaVuSans-37\" x=\"159.033203\"/>\n       <use xlink:href=\"#DejaVuSans-35\" x=\"222.65625\"/>\n      </g>\n     </g>\n    </g>\n    <g id=\"ytick_9\">\n     <g id=\"line2d_14\">\n      <path d=\"M 60.941875 24.204815 \nL 507.341875 24.204815 \n\" clip-path=\"url(#pdfec9b9636)\" style=\"fill: none; stroke: #cccccc; stroke-linecap: round\"/>\n     </g>\n     <g id=\"text_15\">\n      <!-- 0.400 -->\n      <g style=\"fill: #262626\" transform=\"translate(22.81375 28.004034) scale(0.1 -0.1)\">\n       <use xlink:href=\"#DejaVuSans-30\"/>\n       <use xlink:href=\"#DejaVuSans-2e\" x=\"63.623047\"/>\n       <use xlink:href=\"#DejaVuSans-34\" x=\"95.410156\"/>\n       <use xlink:href=\"#DejaVuSans-30\" x=\"159.033203\"/>\n       <use xlink:href=\"#DejaVuSans-30\" x=\"222.65625\"/>\n      </g>\n     </g>\n    </g>\n    <g id=\"text_16\">\n     <!-- Accuracy -->\n     <g style=\"fill: #262626\" transform=\"translate(16.224375 192.942188) rotate(-90) scale(0.12 -0.12)\">\n      <defs>\n       <path id=\"DejaVuSans-Bold-41\" d=\"M 3419 850 \nL 1538 850 \nL 1241 0 \nL 31 0 \nL 1759 4666 \nL 3194 4666 \nL 4922 0 \nL 3713 0 \nL 3419 850 \nz\nM 1838 1716 \nL 3116 1716 \nL 2478 3572 \nL 1838 1716 \nz\n\" transform=\"scale(0.015625)\"/>\n       <path id=\"DejaVuSans-Bold-79\" d=\"M 78 3500 \nL 1197 3500 \nL 2138 1125 \nL 2938 3500 \nL 4056 3500 \nL 2584 -331 \nQ 2363 -916 2067 -1148 \nQ 1772 -1381 1288 -1381 \nL 641 -1381 \nL 641 -647 \nL 991 -647 \nQ 1275 -647 1404 -556 \nQ 1534 -466 1606 -231 \nL 1638 -134 \nL 78 3500 \nz\n\" transform=\"scale(0.015625)\"/>\n      </defs>\n      <use xlink:href=\"#DejaVuSans-Bold-41\"/>\n      <use xlink:href=\"#DejaVuSans-Bold-63\" x=\"77.392578\"/>\n      <use xlink:href=\"#DejaVuSans-Bold-63\" x=\"136.669922\"/>\n      <use xlink:href=\"#DejaVuSans-Bold-75\" x=\"195.947266\"/>\n      <use xlink:href=\"#DejaVuSans-Bold-72\" x=\"267.138672\"/>\n      <use xlink:href=\"#DejaVuSans-Bold-61\" x=\"316.455078\"/>\n      <use xlink:href=\"#DejaVuSans-Bold-63\" x=\"383.935547\"/>\n      <use xlink:href=\"#DejaVuSans-Bold-79\" x=\"443.212891\"/>\n     </g>\n    </g>\n   </g>\n   <g id=\"line2d_15\">\n    <path d=\"M 105.581875 288.437813 \nL 194.861875 265.959662 \nL 284.141875 203.112567 \nL 373.421875 124.078593 \nL 462.701875 36.437812 \n\" clip-path=\"url(#pdfec9b9636)\" style=\"fill: none; stroke: #dd8452; stroke-width: 3; stroke-linecap: round\"/>\n    <defs>\n     <path id=\"mcd5b7d11c2\" d=\"M 0 4 \nC 1.060812 4 2.078319 3.578535 2.828427 2.828427 \nC 3.578535 2.078319 4 1.060812 4 0 \nC 4 -1.060812 3.578535 -2.078319 2.828427 -2.828427 \nC 2.078319 -3.578535 1.060812 -4 0 -4 \nC -1.060812 -4 -2.078319 -3.578535 -2.828427 -2.828427 \nC -3.578535 -2.078319 -4 -1.060812 -4 0 \nC -4 1.060812 -3.578535 2.078319 -2.828427 2.828427 \nC -2.078319 3.578535 -1.060812 4 0 4 \nz\n\" style=\"stroke: #000000\"/>\n    </defs>\n    <g clip-path=\"url(#pdfec9b9636)\">\n     <use xlink:href=\"#mcd5b7d11c2\" x=\"105.581875\" y=\"288.437813\" style=\"fill: #dd8452; stroke: #000000\"/>\n     <use xlink:href=\"#mcd5b7d11c2\" x=\"194.861875\" y=\"265.959662\" style=\"fill: #dd8452; stroke: #000000\"/>\n     <use xlink:href=\"#mcd5b7d11c2\" x=\"284.141875\" y=\"203.112567\" style=\"fill: #dd8452; stroke: #000000\"/>\n     <use xlink:href=\"#mcd5b7d11c2\" x=\"373.421875\" y=\"124.078593\" style=\"fill: #dd8452; stroke: #000000\"/>\n     <use xlink:href=\"#mcd5b7d11c2\" x=\"462.701875\" y=\"36.437812\" style=\"fill: #dd8452; stroke: #000000\"/>\n    </g>\n   </g>\n   <g id=\"patch_3\">\n    <path d=\"M 60.941875 301.037812 \nL 60.941875 23.837812 \n\" style=\"fill: none; stroke: #cccccc; stroke-width: 1.25; stroke-linejoin: miter; stroke-linecap: square\"/>\n   </g>\n   <g id=\"patch_4\">\n    <path d=\"M 507.341875 301.037812 \nL 507.341875 23.837812 \n\" style=\"fill: none; stroke: #cccccc; stroke-width: 1.25; stroke-linejoin: miter; stroke-linecap: square\"/>\n   </g>\n   <g id=\"patch_5\">\n    <path d=\"M 60.941875 301.037813 \nL 507.341875 301.037813 \n\" style=\"fill: none; stroke: #cccccc; stroke-width: 1.25; stroke-linejoin: miter; stroke-linecap: square\"/>\n   </g>\n   <g id=\"patch_6\">\n    <path d=\"M 60.941875 23.837812 \nL 507.341875 23.837812 \n\" style=\"fill: none; stroke: #cccccc; stroke-width: 1.25; stroke-linejoin: miter; stroke-linecap: square\"/>\n   </g>\n   <g id=\"text_17\">\n    <!-- Few-Shot Performance - ProtoNet Pre-trained Model -->\n    <g style=\"fill: #262626\" transform=\"translate(77.384844 17.837812) scale(0.14 -0.14)\">\n     <defs>\n      <path id=\"DejaVuSans-Bold-46\" d=\"M 588 4666 \nL 3834 4666 \nL 3834 3756 \nL 1791 3756 \nL 1791 2888 \nL 3713 2888 \nL 3713 1978 \nL 1791 1978 \nL 1791 0 \nL 588 0 \nL 588 4666 \nz\n\" transform=\"scale(0.015625)\"/>\n      <path id=\"DejaVuSans-Bold-77\" d=\"M 225 3500 \nL 1313 3500 \nL 1900 1088 \nL 2491 3500 \nL 3425 3500 \nL 4013 1113 \nL 4603 3500 \nL 5691 3500 \nL 4769 0 \nL 3547 0 \nL 2956 2406 \nL 2369 0 \nL 1147 0 \nL 225 3500 \nz\n\" transform=\"scale(0.015625)\"/>\n      <path id=\"DejaVuSans-Bold-2d\" d=\"M 347 2297 \nL 2309 2297 \nL 2309 1388 \nL 347 1388 \nL 347 2297 \nz\n\" transform=\"scale(0.015625)\"/>\n      <path id=\"DejaVuSans-Bold-53\" d=\"M 3834 4519 \nL 3834 3531 \nQ 3450 3703 3084 3790 \nQ 2719 3878 2394 3878 \nQ 1963 3878 1756 3759 \nQ 1550 3641 1550 3391 \nQ 1550 3203 1689 3098 \nQ 1828 2994 2194 2919 \nL 2706 2816 \nQ 3484 2659 3812 2340 \nQ 4141 2022 4141 1434 \nQ 4141 663 3683 286 \nQ 3225 -91 2284 -91 \nQ 1841 -91 1394 -6 \nQ 947 78 500 244 \nL 500 1259 \nQ 947 1022 1364 901 \nQ 1781 781 2169 781 \nQ 2563 781 2772 912 \nQ 2981 1044 2981 1288 \nQ 2981 1506 2839 1625 \nQ 2697 1744 2272 1838 \nL 1806 1941 \nQ 1106 2091 782 2419 \nQ 459 2747 459 3303 \nQ 459 4000 909 4375 \nQ 1359 4750 2203 4750 \nQ 2588 4750 2994 4692 \nQ 3400 4634 3834 4519 \nz\n\" transform=\"scale(0.015625)\"/>\n      <path id=\"DejaVuSans-Bold-50\" d=\"M 588 4666 \nL 2584 4666 \nQ 3475 4666 3951 4270 \nQ 4428 3875 4428 3144 \nQ 4428 2409 3951 2014 \nQ 3475 1619 2584 1619 \nL 1791 1619 \nL 1791 0 \nL 588 0 \nL 588 4666 \nz\nM 1791 3794 \nL 1791 2491 \nL 2456 2491 \nQ 2806 2491 2997 2661 \nQ 3188 2831 3188 3144 \nQ 3188 3456 2997 3625 \nQ 2806 3794 2456 3794 \nL 1791 3794 \nz\n\" transform=\"scale(0.015625)\"/>\n      <path id=\"DejaVuSans-Bold-6e\" d=\"M 4056 2131 \nL 4056 0 \nL 2931 0 \nL 2931 347 \nL 2931 1631 \nQ 2931 2084 2911 2256 \nQ 2891 2428 2841 2509 \nQ 2775 2619 2662 2680 \nQ 2550 2741 2406 2741 \nQ 2056 2741 1856 2470 \nQ 1656 2200 1656 1722 \nL 1656 0 \nL 538 0 \nL 538 3500 \nL 1656 3500 \nL 1656 2988 \nQ 1909 3294 2193 3439 \nQ 2478 3584 2822 3584 \nQ 3428 3584 3742 3212 \nQ 4056 2841 4056 2131 \nz\n\" transform=\"scale(0.015625)\"/>\n      <path id=\"DejaVuSans-Bold-69\" d=\"M 538 3500 \nL 1656 3500 \nL 1656 0 \nL 538 0 \nL 538 3500 \nz\nM 538 4863 \nL 1656 4863 \nL 1656 3950 \nL 538 3950 \nL 538 4863 \nz\n\" transform=\"scale(0.015625)\"/>\n      <path id=\"DejaVuSans-Bold-64\" d=\"M 2919 2988 \nL 2919 4863 \nL 4044 4863 \nL 4044 0 \nL 2919 0 \nL 2919 506 \nQ 2688 197 2409 53 \nQ 2131 -91 1766 -91 \nQ 1119 -91 703 423 \nQ 288 938 288 1747 \nQ 288 2556 703 3070 \nQ 1119 3584 1766 3584 \nQ 2128 3584 2408 3439 \nQ 2688 3294 2919 2988 \nz\nM 2181 722 \nQ 2541 722 2730 984 \nQ 2919 1247 2919 1747 \nQ 2919 2247 2730 2509 \nQ 2541 2772 2181 2772 \nQ 1825 2772 1636 2509 \nQ 1447 2247 1447 1747 \nQ 1447 1247 1636 984 \nQ 1825 722 2181 722 \nz\n\" transform=\"scale(0.015625)\"/>\n      <path id=\"DejaVuSans-Bold-4d\" d=\"M 588 4666 \nL 2119 4666 \nL 3181 2169 \nL 4250 4666 \nL 5778 4666 \nL 5778 0 \nL 4641 0 \nL 4641 3413 \nL 3566 897 \nL 2803 897 \nL 1728 3413 \nL 1728 0 \nL 588 0 \nL 588 4666 \nz\n\" transform=\"scale(0.015625)\"/>\n     </defs>\n     <use xlink:href=\"#DejaVuSans-Bold-46\"/>\n     <use xlink:href=\"#DejaVuSans-Bold-65\" x=\"64.310547\"/>\n     <use xlink:href=\"#DejaVuSans-Bold-77\" x=\"132.132812\"/>\n     <use xlink:href=\"#DejaVuSans-Bold-2d\" x=\"224.515625\"/>\n     <use xlink:href=\"#DejaVuSans-Bold-53\" x=\"266.019531\"/>\n     <use xlink:href=\"#DejaVuSans-Bold-68\" x=\"338.041016\"/>\n     <use xlink:href=\"#DejaVuSans-Bold-6f\" x=\"409.232422\"/>\n     <use xlink:href=\"#DejaVuSans-Bold-74\" x=\"477.933594\"/>\n     <use xlink:href=\"#DejaVuSans-Bold-20\" x=\"525.736328\"/>\n     <use xlink:href=\"#DejaVuSans-Bold-50\" x=\"560.550781\"/>\n     <use xlink:href=\"#DejaVuSans-Bold-65\" x=\"633.841797\"/>\n     <use xlink:href=\"#DejaVuSans-Bold-72\" x=\"701.664062\"/>\n     <use xlink:href=\"#DejaVuSans-Bold-66\" x=\"750.980469\"/>\n     <use xlink:href=\"#DejaVuSans-Bold-6f\" x=\"794.486328\"/>\n     <use xlink:href=\"#DejaVuSans-Bold-72\" x=\"863.1875\"/>\n     <use xlink:href=\"#DejaVuSans-Bold-6d\" x=\"912.503906\"/>\n     <use xlink:href=\"#DejaVuSans-Bold-61\" x=\"1016.703125\"/>\n     <use xlink:href=\"#DejaVuSans-Bold-6e\" x=\"1084.183594\"/>\n     <use xlink:href=\"#DejaVuSans-Bold-63\" x=\"1155.375\"/>\n     <use xlink:href=\"#DejaVuSans-Bold-65\" x=\"1214.652344\"/>\n     <use xlink:href=\"#DejaVuSans-Bold-20\" x=\"1282.474609\"/>\n     <use xlink:href=\"#DejaVuSans-Bold-2d\" x=\"1317.289062\"/>\n     <use xlink:href=\"#DejaVuSans-Bold-20\" x=\"1358.792969\"/>\n     <use xlink:href=\"#DejaVuSans-Bold-50\" x=\"1393.607422\"/>\n     <use xlink:href=\"#DejaVuSans-Bold-72\" x=\"1466.898438\"/>\n     <use xlink:href=\"#DejaVuSans-Bold-6f\" x=\"1516.214844\"/>\n     <use xlink:href=\"#DejaVuSans-Bold-74\" x=\"1584.916016\"/>\n     <use xlink:href=\"#DejaVuSans-Bold-6f\" x=\"1632.71875\"/>\n     <use xlink:href=\"#DejaVuSans-Bold-4e\" x=\"1701.419922\"/>\n     <use xlink:href=\"#DejaVuSans-Bold-65\" x=\"1785.111328\"/>\n     <use xlink:href=\"#DejaVuSans-Bold-74\" x=\"1852.933594\"/>\n     <use xlink:href=\"#DejaVuSans-Bold-20\" x=\"1900.736328\"/>\n     <use xlink:href=\"#DejaVuSans-Bold-50\" x=\"1935.550781\"/>\n     <use xlink:href=\"#DejaVuSans-Bold-72\" x=\"2008.841797\"/>\n     <use xlink:href=\"#DejaVuSans-Bold-65\" x=\"2058.158203\"/>\n     <use xlink:href=\"#DejaVuSans-Bold-2d\" x=\"2125.980469\"/>\n     <use xlink:href=\"#DejaVuSans-Bold-74\" x=\"2167.484375\"/>\n     <use xlink:href=\"#DejaVuSans-Bold-72\" x=\"2215.287109\"/>\n     <use xlink:href=\"#DejaVuSans-Bold-61\" x=\"2264.603516\"/>\n     <use xlink:href=\"#DejaVuSans-Bold-69\" x=\"2332.083984\"/>\n     <use xlink:href=\"#DejaVuSans-Bold-6e\" x=\"2366.361328\"/>\n     <use xlink:href=\"#DejaVuSans-Bold-65\" x=\"2437.552734\"/>\n     <use xlink:href=\"#DejaVuSans-Bold-64\" x=\"2505.375\"/>\n     <use xlink:href=\"#DejaVuSans-Bold-20\" x=\"2576.957031\"/>\n     <use xlink:href=\"#DejaVuSans-Bold-4d\" x=\"2611.771484\"/>\n     <use xlink:href=\"#DejaVuSans-Bold-6f\" x=\"2711.283203\"/>\n     <use xlink:href=\"#DejaVuSans-Bold-64\" x=\"2779.984375\"/>\n     <use xlink:href=\"#DejaVuSans-Bold-65\" x=\"2851.566406\"/>\n     <use xlink:href=\"#DejaVuSans-Bold-6c\" x=\"2919.388672\"/>\n    </g>\n   </g>\n   <g id=\"legend_1\">\n    <g id=\"patch_7\">\n     <path d=\"M 333.227812 296.037813 \nL 500.341875 296.037813 \nQ 502.341875 296.037813 502.341875 294.037813 \nL 502.341875 280.359688 \nQ 502.341875 278.359688 500.341875 278.359688 \nL 333.227812 278.359688 \nQ 331.227812 278.359688 331.227812 280.359688 \nL 331.227812 294.037813 \nQ 331.227812 296.037813 333.227812 296.037813 \nz\n\" style=\"fill: #ffffff; opacity: 0.8; stroke: #cccccc; stroke-linejoin: miter\"/>\n    </g>\n    <g id=\"line2d_16\">\n     <path d=\"M 335.227812 286.458125 \nL 345.227812 286.458125 \nL 355.227812 286.458125 \n\" style=\"fill: none; stroke: #dd8452; stroke-width: 3; stroke-linecap: round\"/>\n     <g>\n      <use xlink:href=\"#mcd5b7d11c2\" x=\"345.227812\" y=\"286.458125\" style=\"fill: #dd8452; stroke: #000000\"/>\n     </g>\n    </g>\n    <g id=\"text_18\">\n     <!-- ProtoNet Pre-trained Model -->\n     <g style=\"fill: #262626\" transform=\"translate(363.227812 289.958125) scale(0.1 -0.1)\">\n      <defs>\n       <path id=\"DejaVuSans-50\" d=\"M 1259 4147 \nL 1259 2394 \nL 2053 2394 \nQ 2494 2394 2734 2622 \nQ 2975 2850 2975 3272 \nQ 2975 3691 2734 3919 \nQ 2494 4147 2053 4147 \nL 1259 4147 \nz\nM 628 4666 \nL 2053 4666 \nQ 2838 4666 3239 4311 \nQ 3641 3956 3641 3272 \nQ 3641 2581 3239 2228 \nQ 2838 1875 2053 1875 \nL 1259 1875 \nL 1259 0 \nL 628 0 \nL 628 4666 \nz\n\" transform=\"scale(0.015625)\"/>\n       <path id=\"DejaVuSans-72\" d=\"M 2631 2963 \nQ 2534 3019 2420 3045 \nQ 2306 3072 2169 3072 \nQ 1681 3072 1420 2755 \nQ 1159 2438 1159 1844 \nL 1159 0 \nL 581 0 \nL 581 3500 \nL 1159 3500 \nL 1159 2956 \nQ 1341 3275 1631 3429 \nQ 1922 3584 2338 3584 \nQ 2397 3584 2469 3576 \nQ 2541 3569 2628 3553 \nL 2631 2963 \nz\n\" transform=\"scale(0.015625)\"/>\n       <path id=\"DejaVuSans-6f\" d=\"M 1959 3097 \nQ 1497 3097 1228 2736 \nQ 959 2375 959 1747 \nQ 959 1119 1226 758 \nQ 1494 397 1959 397 \nQ 2419 397 2687 759 \nQ 2956 1122 2956 1747 \nQ 2956 2369 2687 2733 \nQ 2419 3097 1959 3097 \nz\nM 1959 3584 \nQ 2709 3584 3137 3096 \nQ 3566 2609 3566 1747 \nQ 3566 888 3137 398 \nQ 2709 -91 1959 -91 \nQ 1206 -91 779 398 \nQ 353 888 353 1747 \nQ 353 2609 779 3096 \nQ 1206 3584 1959 3584 \nz\n\" transform=\"scale(0.015625)\"/>\n       <path id=\"DejaVuSans-74\" d=\"M 1172 4494 \nL 1172 3500 \nL 2356 3500 \nL 2356 3053 \nL 1172 3053 \nL 1172 1153 \nQ 1172 725 1289 603 \nQ 1406 481 1766 481 \nL 2356 481 \nL 2356 0 \nL 1766 0 \nQ 1100 0 847 248 \nQ 594 497 594 1153 \nL 594 3053 \nL 172 3053 \nL 172 3500 \nL 594 3500 \nL 594 4494 \nL 1172 4494 \nz\n\" transform=\"scale(0.015625)\"/>\n       <path id=\"DejaVuSans-4e\" d=\"M 628 4666 \nL 1478 4666 \nL 3547 763 \nL 3547 4666 \nL 4159 4666 \nL 4159 0 \nL 3309 0 \nL 1241 3903 \nL 1241 0 \nL 628 0 \nL 628 4666 \nz\n\" transform=\"scale(0.015625)\"/>\n       <path id=\"DejaVuSans-65\" d=\"M 3597 1894 \nL 3597 1613 \nL 953 1613 \nQ 991 1019 1311 708 \nQ 1631 397 2203 397 \nQ 2534 397 2845 478 \nQ 3156 559 3463 722 \nL 3463 178 \nQ 3153 47 2828 -22 \nQ 2503 -91 2169 -91 \nQ 1331 -91 842 396 \nQ 353 884 353 1716 \nQ 353 2575 817 3079 \nQ 1281 3584 2069 3584 \nQ 2775 3584 3186 3129 \nQ 3597 2675 3597 1894 \nz\nM 3022 2063 \nQ 3016 2534 2758 2815 \nQ 2500 3097 2075 3097 \nQ 1594 3097 1305 2825 \nQ 1016 2553 972 2059 \nL 3022 2063 \nz\n\" transform=\"scale(0.015625)\"/>\n       <path id=\"DejaVuSans-20\" transform=\"scale(0.015625)\"/>\n       <path id=\"DejaVuSans-2d\" d=\"M 313 2009 \nL 1997 2009 \nL 1997 1497 \nL 313 1497 \nL 313 2009 \nz\n\" transform=\"scale(0.015625)\"/>\n       <path id=\"DejaVuSans-61\" d=\"M 2194 1759 \nQ 1497 1759 1228 1600 \nQ 959 1441 959 1056 \nQ 959 750 1161 570 \nQ 1363 391 1709 391 \nQ 2188 391 2477 730 \nQ 2766 1069 2766 1631 \nL 2766 1759 \nL 2194 1759 \nz\nM 3341 1997 \nL 3341 0 \nL 2766 0 \nL 2766 531 \nQ 2569 213 2275 61 \nQ 1981 -91 1556 -91 \nQ 1019 -91 701 211 \nQ 384 513 384 1019 \nQ 384 1609 779 1909 \nQ 1175 2209 1959 2209 \nL 2766 2209 \nL 2766 2266 \nQ 2766 2663 2505 2880 \nQ 2244 3097 1772 3097 \nQ 1472 3097 1187 3025 \nQ 903 2953 641 2809 \nL 641 3341 \nQ 956 3463 1253 3523 \nQ 1550 3584 1831 3584 \nQ 2591 3584 2966 3190 \nQ 3341 2797 3341 1997 \nz\n\" transform=\"scale(0.015625)\"/>\n       <path id=\"DejaVuSans-69\" d=\"M 603 3500 \nL 1178 3500 \nL 1178 0 \nL 603 0 \nL 603 3500 \nz\nM 603 4863 \nL 1178 4863 \nL 1178 4134 \nL 603 4134 \nL 603 4863 \nz\n\" transform=\"scale(0.015625)\"/>\n       <path id=\"DejaVuSans-6e\" d=\"M 3513 2113 \nL 3513 0 \nL 2938 0 \nL 2938 2094 \nQ 2938 2591 2744 2837 \nQ 2550 3084 2163 3084 \nQ 1697 3084 1428 2787 \nQ 1159 2491 1159 1978 \nL 1159 0 \nL 581 0 \nL 581 3500 \nL 1159 3500 \nL 1159 2956 \nQ 1366 3272 1645 3428 \nQ 1925 3584 2291 3584 \nQ 2894 3584 3203 3211 \nQ 3513 2838 3513 2113 \nz\n\" transform=\"scale(0.015625)\"/>\n       <path id=\"DejaVuSans-64\" d=\"M 2906 2969 \nL 2906 4863 \nL 3481 4863 \nL 3481 0 \nL 2906 0 \nL 2906 525 \nQ 2725 213 2448 61 \nQ 2172 -91 1784 -91 \nQ 1150 -91 751 415 \nQ 353 922 353 1747 \nQ 353 2572 751 3078 \nQ 1150 3584 1784 3584 \nQ 2172 3584 2448 3432 \nQ 2725 3281 2906 2969 \nz\nM 947 1747 \nQ 947 1113 1208 752 \nQ 1469 391 1925 391 \nQ 2381 391 2643 752 \nQ 2906 1113 2906 1747 \nQ 2906 2381 2643 2742 \nQ 2381 3103 1925 3103 \nQ 1469 3103 1208 2742 \nQ 947 2381 947 1747 \nz\n\" transform=\"scale(0.015625)\"/>\n       <path id=\"DejaVuSans-4d\" d=\"M 628 4666 \nL 1569 4666 \nL 2759 1491 \nL 3956 4666 \nL 4897 4666 \nL 4897 0 \nL 4281 0 \nL 4281 4097 \nL 3078 897 \nL 2444 897 \nL 1241 4097 \nL 1241 0 \nL 628 0 \nL 628 4666 \nz\n\" transform=\"scale(0.015625)\"/>\n       <path id=\"DejaVuSans-6c\" d=\"M 603 4863 \nL 1178 4863 \nL 1178 0 \nL 603 0 \nL 603 4863 \nz\n\" transform=\"scale(0.015625)\"/>\n      </defs>\n      <use xlink:href=\"#DejaVuSans-50\"/>\n      <use xlink:href=\"#DejaVuSans-72\" x=\"58.552734\"/>\n      <use xlink:href=\"#DejaVuSans-6f\" x=\"97.416016\"/>\n      <use xlink:href=\"#DejaVuSans-74\" x=\"158.597656\"/>\n      <use xlink:href=\"#DejaVuSans-6f\" x=\"197.806641\"/>\n      <use xlink:href=\"#DejaVuSans-4e\" x=\"258.988281\"/>\n      <use xlink:href=\"#DejaVuSans-65\" x=\"333.792969\"/>\n      <use xlink:href=\"#DejaVuSans-74\" x=\"395.316406\"/>\n      <use xlink:href=\"#DejaVuSans-20\" x=\"434.525391\"/>\n      <use xlink:href=\"#DejaVuSans-50\" x=\"466.3125\"/>\n      <use xlink:href=\"#DejaVuSans-72\" x=\"524.865234\"/>\n      <use xlink:href=\"#DejaVuSans-65\" x=\"563.728516\"/>\n      <use xlink:href=\"#DejaVuSans-2d\" x=\"625.251953\"/>\n      <use xlink:href=\"#DejaVuSans-74\" x=\"661.335938\"/>\n      <use xlink:href=\"#DejaVuSans-72\" x=\"700.544922\"/>\n      <use xlink:href=\"#DejaVuSans-61\" x=\"741.658203\"/>\n      <use xlink:href=\"#DejaVuSans-69\" x=\"802.9375\"/>\n      <use xlink:href=\"#DejaVuSans-6e\" x=\"830.720703\"/>\n      <use xlink:href=\"#DejaVuSans-65\" x=\"894.099609\"/>\n      <use xlink:href=\"#DejaVuSans-64\" x=\"955.623047\"/>\n      <use xlink:href=\"#DejaVuSans-20\" x=\"1019.099609\"/>\n      <use xlink:href=\"#DejaVuSans-4d\" x=\"1050.886719\"/>\n      <use xlink:href=\"#DejaVuSans-6f\" x=\"1137.166016\"/>\n      <use xlink:href=\"#DejaVuSans-64\" x=\"1198.347656\"/>\n      <use xlink:href=\"#DejaVuSans-65\" x=\"1261.824219\"/>\n      <use xlink:href=\"#DejaVuSans-6c\" x=\"1323.347656\"/>\n     </g>\n    </g>\n   </g>\n  </g>\n </g>\n <defs>\n  <clipPath id=\"pdfec9b9636\">\n   <rect x=\"60.941875\" y=\"23.837812\" width=\"446.4\" height=\"277.2\"/>\n  </clipPath>\n </defs>\n</svg>\n",
            "application/pdf": "[encoded data removed]"
          },
          "metadata": {}
        }
      ]
    },
    {
      "cell_type": "markdown",
      "source": [
        "#Conclusion"
      ],
      "metadata": {
        "id": "d9A0_EAo97oL"
      }
    },
    {
      "cell_type": "markdown",
      "source": [
        "The output of the model is the following : For each iteration of k shots :\n",
        "\n",
        "*   Accuracy for k=2: 20.00% (+-3.33%)\n",
        "*   Accuracy for k=4: 21.70% (+-8.76%)\n",
        "*   Accuracy for k=6: 26.46% (+-6.78%)\n",
        "*   Accuracy for k=8: 32.44% (+-6.19%)\n",
        "*   Accuracy for k=10: 39.07% (+-10.86%)"
      ],
      "metadata": {
        "id": "_-xubLN494Mr"
      }
    },
    {
      "cell_type": "markdown",
      "source": [
        "![image.png](data:image/png;base64,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)"
      ],
      "metadata": {
        "id": "BrddIRRx999a"
      }
    },
    {
      "cell_type": "markdown",
      "source": [
        "We observe here that the use of Protonet (a pre-trained meta-learner) achieved a remarkable accuracy of about 40% for a 6 way 10 shot learning environment.\n",
        "\n",
        "This is much more than the random baseline of 16.5%.\n",
        "\n",
        "One possible way in which this model could be improved would be by adding more shots for each class.\n",
        "\n",
        "We also note that overall, the ProtoNet offers the most stable accuracy on the validation set. Indeed, the accuracy obtained here is 40% more steady, whereas for the models we have developed in Part 1 of the assignment, the accuracy can get as high as 50%, but the accuracy is more volatile to hyperparameter tuning."
      ],
      "metadata": {
        "id": "zlB-Mbh9-AAG"
      }
    },
    {
      "cell_type": "markdown",
      "source": [
        "All in all in this assignment, we attempted to create a 6 dimensional classifier using 20 samples per class. **This was an ambitious goal set, and we manage to achieve to reach a peak accuracy of 50 %. This is more than 3 times the random baseline we had set for our model.**\n",
        "\n",
        "**Paths of improvement:**\n",
        "- We could try to improve our model by adding more data to our model\n",
        "- We can try to implement 1 vs all classifiers (simply classifing whether there is a defect or no)\n",
        "- We can compare the performance of ProtoNet with other classifiers, and stack their predictions into another more powerful mode.\n"
      ],
      "metadata": {
        "id": "6s26_bSGqV8T"
      }
    }
  ]
}